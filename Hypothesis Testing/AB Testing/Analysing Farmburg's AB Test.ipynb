{
 "cells": [
  {
   "cell_type": "markdown",
   "id": "ce4f8907",
   "metadata": {},
   "source": [
    "#### Analyzing Farmburg's A/B Test\n",
    "Brian is a Product Manager at FarmBurg, a company that makes a farming simulation social network game. In the FarmBurg game, you can plow, plant, and harvest different crops. ​Brian has been conducting an A/B Test with three different variants, and he wants you to help him analyze the results.\n",
    "\n",
    "Brian ran an A/B test with three different groups: A, B, and C. He has provided us with a CSV file of his results named clicks.csv. It has the following columns:\n",
    "\n",
    "- user_id: a unique id for each visitor to the FarmBurg site\n",
    "- group: either 'A', 'B', or 'C' depending on which group the visitor was assigned to\n",
    "- is_purchase: either 'Yes' if the visitor made a purchase or 'No' if they did not."
   ]
  },
  {
   "cell_type": "code",
   "execution_count": 1,
   "id": "2a0d0986",
   "metadata": {},
   "outputs": [],
   "source": [
    "import pandas as pd\n",
    "import numpy as np"
   ]
  },
  {
   "cell_type": "code",
   "execution_count": 2,
   "id": "bae55aac",
   "metadata": {},
   "outputs": [
    {
     "data": {
      "text/html": [
       "<div>\n",
       "<style scoped>\n",
       "    .dataframe tbody tr th:only-of-type {\n",
       "        vertical-align: middle;\n",
       "    }\n",
       "\n",
       "    .dataframe tbody tr th {\n",
       "        vertical-align: top;\n",
       "    }\n",
       "\n",
       "    .dataframe thead th {\n",
       "        text-align: right;\n",
       "    }\n",
       "</style>\n",
       "<table border=\"1\" class=\"dataframe\">\n",
       "  <thead>\n",
       "    <tr style=\"text-align: right;\">\n",
       "      <th></th>\n",
       "      <th>user_id</th>\n",
       "      <th>group</th>\n",
       "      <th>is_purchase</th>\n",
       "    </tr>\n",
       "  </thead>\n",
       "  <tbody>\n",
       "    <tr>\n",
       "      <th>0</th>\n",
       "      <td>8e27bf9a</td>\n",
       "      <td>A</td>\n",
       "      <td>No</td>\n",
       "    </tr>\n",
       "    <tr>\n",
       "      <th>1</th>\n",
       "      <td>eb89e6f0</td>\n",
       "      <td>A</td>\n",
       "      <td>No</td>\n",
       "    </tr>\n",
       "    <tr>\n",
       "      <th>2</th>\n",
       "      <td>7119106a</td>\n",
       "      <td>A</td>\n",
       "      <td>No</td>\n",
       "    </tr>\n",
       "    <tr>\n",
       "      <th>3</th>\n",
       "      <td>e53781ff</td>\n",
       "      <td>A</td>\n",
       "      <td>No</td>\n",
       "    </tr>\n",
       "    <tr>\n",
       "      <th>4</th>\n",
       "      <td>02d48cf1</td>\n",
       "      <td>A</td>\n",
       "      <td>Yes</td>\n",
       "    </tr>\n",
       "  </tbody>\n",
       "</table>\n",
       "</div>"
      ],
      "text/plain": [
       "    user_id group is_purchase\n",
       "0  8e27bf9a     A          No\n",
       "1  eb89e6f0     A          No\n",
       "2  7119106a     A          No\n",
       "3  e53781ff     A          No\n",
       "4  02d48cf1     A         Yes"
      ]
     },
     "execution_count": 2,
     "metadata": {},
     "output_type": "execute_result"
    }
   ],
   "source": [
    "abdata = pd.read_csv('clicks.csv')\n",
    "abdata.head()"
   ]
  },
  {
   "cell_type": "code",
   "execution_count": 3,
   "id": "2c9f931a",
   "metadata": {},
   "outputs": [
    {
     "data": {
      "text/plain": [
       "array(['A', 'B', 'C'], dtype=object)"
      ]
     },
     "execution_count": 3,
     "metadata": {},
     "output_type": "execute_result"
    }
   ],
   "source": [
    "unique_groups = abdata['group'].unique()\n",
    "unique_groups"
   ]
  },
  {
   "cell_type": "code",
   "execution_count": 4,
   "id": "e66289c0",
   "metadata": {},
   "outputs": [
    {
     "name": "stdout",
     "output_type": "stream",
     "text": [
      "<class 'pandas.core.frame.DataFrame'>\n",
      "RangeIndex: 4998 entries, 0 to 4997\n",
      "Data columns (total 3 columns):\n",
      " #   Column       Non-Null Count  Dtype \n",
      "---  ------       --------------  ----- \n",
      " 0   user_id      4998 non-null   object\n",
      " 1   group        4998 non-null   object\n",
      " 2   is_purchase  4998 non-null   object\n",
      "dtypes: object(3)\n",
      "memory usage: 117.3+ KB\n"
     ]
    }
   ],
   "source": [
    "abdata.info()"
   ]
  },
  {
   "cell_type": "code",
   "execution_count": 5,
   "id": "82cc22bf",
   "metadata": {},
   "outputs": [
    {
     "data": {
      "text/html": [
       "<div>\n",
       "<style scoped>\n",
       "    .dataframe tbody tr th:only-of-type {\n",
       "        vertical-align: middle;\n",
       "    }\n",
       "\n",
       "    .dataframe tbody tr th {\n",
       "        vertical-align: top;\n",
       "    }\n",
       "\n",
       "    .dataframe thead th {\n",
       "        text-align: right;\n",
       "    }\n",
       "</style>\n",
       "<table border=\"1\" class=\"dataframe\">\n",
       "  <thead>\n",
       "    <tr style=\"text-align: right;\">\n",
       "      <th></th>\n",
       "      <th>user_id</th>\n",
       "      <th>group</th>\n",
       "      <th>is_purchase</th>\n",
       "    </tr>\n",
       "  </thead>\n",
       "  <tbody>\n",
       "    <tr>\n",
       "      <th>count</th>\n",
       "      <td>4998</td>\n",
       "      <td>4998</td>\n",
       "      <td>4998</td>\n",
       "    </tr>\n",
       "    <tr>\n",
       "      <th>unique</th>\n",
       "      <td>4998</td>\n",
       "      <td>3</td>\n",
       "      <td>2</td>\n",
       "    </tr>\n",
       "    <tr>\n",
       "      <th>top</th>\n",
       "      <td>8e27bf9a</td>\n",
       "      <td>A</td>\n",
       "      <td>No</td>\n",
       "    </tr>\n",
       "    <tr>\n",
       "      <th>freq</th>\n",
       "      <td>1</td>\n",
       "      <td>1666</td>\n",
       "      <td>4416</td>\n",
       "    </tr>\n",
       "  </tbody>\n",
       "</table>\n",
       "</div>"
      ],
      "text/plain": [
       "         user_id group is_purchase\n",
       "count       4998  4998        4998\n",
       "unique      4998     3           2\n",
       "top     8e27bf9a     A          No\n",
       "freq           1  1666        4416"
      ]
     },
     "execution_count": 5,
     "metadata": {},
     "output_type": "execute_result"
    }
   ],
   "source": [
    "abdata.describe()"
   ]
  },
  {
   "cell_type": "markdown",
   "id": "8474089e",
   "metadata": {},
   "source": [
    "Note that we have two categorical variables: group and is_purchase. We are interested in whether visitors are more likely to make a purchase if they are in any one group compared to the others. Because we want to know if there is an association between two categorical variables, we’ll start by using a Chi-Square test to address our question."
   ]
  },
  {
   "cell_type": "code",
   "execution_count": 6,
   "id": "0ac075fd",
   "metadata": {},
   "outputs": [
    {
     "name": "stdout",
     "output_type": "stream",
     "text": [
      "is_purchase    No  Yes  Total\n",
      "group                        \n",
      "A            1350  316   1666\n",
      "B            1483  183   1666\n",
      "C            1583   83   1666\n",
      "Total        4416  582   4998\n"
     ]
    }
   ],
   "source": [
    "#Making the cross-tabulation with a total column\n",
    "Xtab = pd.crosstab(abdata['group'], abdata['is_purchase'], margins = True, margins_name = 'Total')\n",
    "print(Xtab)"
   ]
  },
  {
   "cell_type": "code",
   "execution_count": 7,
   "id": "a848415f",
   "metadata": {},
   "outputs": [
    {
     "name": "stdout",
     "output_type": "stream",
     "text": [
      "is_purchase    No  Yes  Total\n",
      "group                        \n",
      "A            1350  316   1666\n",
      "B            1483  183   1666\n",
      "C            1583   83   1666\n",
      "Total        4416  582   4998\n"
     ]
    }
   ],
   "source": [
    "Xtab_use_this = pd.crosstab(abdata['group'], abdata['is_purchase'])\n",
    "print(Xtab)"
   ]
  },
  {
   "cell_type": "code",
   "execution_count": 8,
   "id": "c1721ab2",
   "metadata": {},
   "outputs": [
    {
     "name": "stdout",
     "output_type": "stream",
     "text": [
      "2.4126213546684264e-35\n"
     ]
    }
   ],
   "source": [
    "#Importing chi^2 for the test\n",
    "from scipy.stats import chi2_contingency\n",
    "\n",
    "#Performing chi^2 test using a significant threshold of 0.05\n",
    "chi2, pval, dof, expected = chi2_contingency(Xtab_use_this)\n",
    "print(pval)"
   ]
  },
  {
   "cell_type": "markdown",
   "id": "06fb42df",
   "metadata": {},
   "source": [
    "The p-value is approximately 0.0000000000000000000000000000000000241. Therefore, the p-value is less than 0.05 and we can conclude that there is a significant difference in the purchase rate for groups A, B, and C."
   ]
  },
  {
   "cell_type": "markdown",
   "id": "c80bc6f9",
   "metadata": {},
   "source": [
    "Our day is a little less busy than expected, so we decide to ask Brian about his test.\n",
    "\n",
    "Us: Hey Brian! What was that test you were running anyway?\n",
    "\n",
    "Brian: We are trying to get users to purchase a small FarmBurg upgrade package. It’s called a microtransaction. We’re not sure how much to charge for it, so we tested three different price points: `$0.99` (group 'A'), `$1.99` (group 'B'), and `$4.99` (group 'C'). It looks like significantly more people bought the upgrade package for `$0.99`, so I guess that’s what we’ll charge.\n",
    "\n",
    "Us: Oh no! We should have asked you this before we did that Chi-Square test. That wasn’t the right test at all. It’s true that more people wanted to purchase the upgrade at $0.99; you probably expected that. What we really want to know is whether each price point allows us to make enough money that we can exceed some target goal. Brian, how much do you think it cost to build this feature?\n",
    "\n",
    "Brian: Hmm. I guess that we need to generate a minimum of $1000 in revenue per week in order to justify this project.\n",
    "\n",
    "Us: We have some work to do!\n",
    "\n",
    "In order to justify this feature, we will need to calculate the necessary purchase rate for each price point. Let’s start by calculating the number of visitors to the site this week.\n",
    "\n",
    "It turns out that Brian ran his original test over the course of a week, so the number of visitors in abdata is equal to the number of visitors in a typical week."
   ]
  },
  {
   "cell_type": "markdown",
   "id": "7299701f",
   "metadata": {},
   "source": [
    "Now that we know how many visitors we generally get each week (num_visits), we need to calculate the number of visitors who would need to purchase the upgrade package at each price point `($0.99, $1.99, $4.99)` in order to generate Brian’s minimum revenue target of `$1,000` per week."
   ]
  },
  {
   "cell_type": "code",
   "execution_count": 9,
   "id": "827784dd",
   "metadata": {},
   "outputs": [
    {
     "name": "stdout",
     "output_type": "stream",
     "text": [
      "Number of visits per week: 4998 \n",
      "\n",
      "Number of sales needed to reach 1000 dollars at 0.99: 1010.1010101010102\n"
     ]
    }
   ],
   "source": [
    "#Number of visits per week\n",
    "num_visits = len(abdata)\n",
    "\n",
    "#Number of sales needed to reach 1000 dollars at a price point of 0.99\n",
    "num_sales_needed_099 = 1000/0.99\n",
    "\n",
    "print('Number of visits per week:', num_visits, '\\n')\n",
    "print('Number of sales needed to reach 1000 dollars at 0.99:', num_sales_needed_099)"
   ]
  },
  {
   "cell_type": "markdown",
   "id": "2da24c9b",
   "metadata": {},
   "source": [
    "Now that we know how many sales we need at a `$0.99` price point, we have to calculate the proportion of weekly visitors who would need to make a purchase in order to meet that goal."
   ]
  },
  {
   "cell_type": "code",
   "execution_count": 10,
   "id": "ed70e46c",
   "metadata": {},
   "outputs": [
    {
     "name": "stdout",
     "output_type": "stream",
     "text": [
      "0.20210104243717691\n"
     ]
    }
   ],
   "source": [
    "#proportion of visits needed to reach number of sales at 0.99\n",
    "p_sales_needed_099 = num_sales_needed_099/num_visits\n",
    "print(p_sales_needed_099)"
   ]
  },
  {
   "cell_type": "markdown",
   "id": "cf4e12d6",
   "metadata": {},
   "source": [
    "The steps will be repeated for the other price points `($1.99 and $4.99)`."
   ]
  },
  {
   "cell_type": "code",
   "execution_count": 11,
   "id": "0ca87a62",
   "metadata": {},
   "outputs": [
    {
     "name": "stdout",
     "output_type": "stream",
     "text": [
      "Number of sales needed to reach 1000 dollars at 1.99: 502.51256281407035\n",
      "Proportion of visits needed to reach the number of sales at 1.99: 0.10054272965467594\n"
     ]
    }
   ],
   "source": [
    "#Number of sales needed to reach 1000 dollars at a price point of 1.99\n",
    "num_sales_needed_199 = 1000/1.99\n",
    "\n",
    "\n",
    "#proportion of visits needed to reach number of sales at 1.99\n",
    "p_sales_needed_199 = num_sales_needed_199/num_visits\n",
    "\n",
    "print('Number of sales needed to reach 1000 dollars at 1.99:', num_sales_needed_199)\n",
    "print('Proportion of visits needed to reach the number of sales at 1.99:', p_sales_needed_199)"
   ]
  },
  {
   "cell_type": "code",
   "execution_count": 12,
   "id": "0e5cdd16",
   "metadata": {},
   "outputs": [
    {
     "name": "stdout",
     "output_type": "stream",
     "text": [
      "Number of sales needed to reach 1000 dollars at 4.99: 200.40080160320642\n",
      "Proportion of visits needed to reach the number of sales at 4.99: 0.040096198800161346\n"
     ]
    }
   ],
   "source": [
    "#Number of sales needed to reach 1000 dollars at a price point of 4.99\n",
    "num_sales_needed_499 = 1000/4.99\n",
    "\n",
    "\n",
    "#proportion of visits needed to reach number of sales at 4.99\n",
    "p_sales_needed_499 = num_sales_needed_499/num_visits\n",
    "\n",
    "print('Number of sales needed to reach 1000 dollars at 4.99:',num_sales_needed_499)\n",
    "print('Proportion of visits needed to reach the number of sales at 4.99:',p_sales_needed_499)"
   ]
  },
  {
   "cell_type": "markdown",
   "id": "463ddb7f",
   "metadata": {},
   "source": [
    "Now let’s return to Brian’s question. To start, we want to know if the percent of Group A `(the $0.99 price point)` that purchased an upgrade package is significantly greater than p_sales_needed_099 (the percent of visitors who need to buy an upgrade package at `$0.99` in order to make our minimum revenue target of `$1,000`).\n",
    "\n",
    "To answer this question, we want to focus on just the visitors in group A. Then, we want to compare the number of purchases in that group to p_sales_needed_099.\n",
    "\n",
    "Since we have a single sample of categorical data and want to compare it to a hypothetical population value, a binomial test is appropriate. In order to run a binomial test for group A, we need to know two pieces of information:\n",
    "\n",
    "The number of visitors in group A (the number of visitors who were offered the `$0.99` price point)\n",
    "The number of visitors in Group A who made a purchase\n"
   ]
  },
  {
   "cell_type": "code",
   "execution_count": 14,
   "id": "22902e06",
   "metadata": {},
   "outputs": [
    {
     "name": "stdout",
     "output_type": "stream",
     "text": [
      "Number of people offered the price 0.99: 1666\n",
      "Number who purchased at 0.99: 316\n"
     ]
    }
   ],
   "source": [
    "#Sample Size of group A\n",
    "samp_size_099 = np.sum(abdata.group == 'A')\n",
    "\n",
    "#Number of group A members who made a purchase\n",
    "sales_099 = np.sum((abdata.group == 'A') & (abdata.is_purchase == 'Yes'))\n",
    "\n",
    "print('Number of people offered the price 0.99:', samp_size_099)\n",
    "print('Number who purchased at 0.99:', sales_099)"
   ]
  },
  {
   "cell_type": "code",
   "execution_count": 15,
   "id": "64bac16d",
   "metadata": {},
   "outputs": [
    {
     "name": "stdout",
     "output_type": "stream",
     "text": [
      "Number of people offered the price 1.99: 1666\n",
      "Number who purchased at 1.99: 183\n"
     ]
    }
   ],
   "source": [
    "#Sample Size of group B\n",
    "samp_size_199 = np.sum(abdata.group == 'B')\n",
    "\n",
    "#Number of group A members who made a purchase\n",
    "sales_199 = np.sum((abdata.group == 'B') & (abdata.is_purchase == 'Yes'))\n",
    "\n",
    "print('Number of people offered the price 1.99:', samp_size_199)\n",
    "print('Number who purchased at 1.99:', sales_199)"
   ]
  },
  {
   "cell_type": "code",
   "execution_count": 16,
   "id": "8c7424ca",
   "metadata": {},
   "outputs": [
    {
     "name": "stdout",
     "output_type": "stream",
     "text": [
      "Number of people offered the price 4.99: 1666\n",
      "Number who purchased at 4.99: 83\n"
     ]
    }
   ],
   "source": [
    "#Sample Size of group C\n",
    "samp_size_499 = np.sum(abdata.group == 'C')\n",
    "\n",
    "#Number of group A members who made a purchase\n",
    "sales_499 = np.sum((abdata.group == 'C') & (abdata.is_purchase == 'Yes'))\n",
    "\n",
    "print('Number of people offered the price 4.99:', samp_size_499)\n",
    "print('Number who purchased at 4.99:', sales_499)"
   ]
  },
  {
   "cell_type": "markdown",
   "id": "ed39e95b",
   "metadata": {},
   "source": [
    "For Group A `($0.99 price point)`, we will perform a binomial test using binom_test() to see if the observed purchase rate is significantly greater than number of sales needed to reach 1000 dollars (`p_sales_needed_099`). The same tests will be conducted for the other groups as well."
   ]
  },
  {
   "cell_type": "code",
   "execution_count": 18,
   "id": "f600f0a0",
   "metadata": {},
   "outputs": [],
   "source": [
    "from scipy.stats import binom_test"
   ]
  },
  {
   "cell_type": "code",
   "execution_count": 20,
   "id": "30e93a77",
   "metadata": {},
   "outputs": [
    {
     "name": "stdout",
     "output_type": "stream",
     "text": [
      "P-Value group A: 0.9028081076188554\n"
     ]
    }
   ],
   "source": [
    "#Binom Test for A\n",
    "pval = binom_test(sales_099, samp_size_099, p_sales_needed_099, alternative = 'greater')\n",
    "print('P-Value group A:', pval)"
   ]
  },
  {
   "cell_type": "code",
   "execution_count": 21,
   "id": "13ca639c",
   "metadata": {},
   "outputs": [
    {
     "name": "stdout",
     "output_type": "stream",
     "text": [
      "P-Value group B: 0.11184562623740596\n"
     ]
    }
   ],
   "source": [
    "#Binom Test for B\n",
    "pval = binom_test(sales_199, samp_size_199, p_sales_needed_199, alternative = 'greater')\n",
    "print('P-Value group B:', pval)"
   ]
  },
  {
   "cell_type": "code",
   "execution_count": 22,
   "id": "76fabfa4",
   "metadata": {},
   "outputs": [
    {
     "name": "stdout",
     "output_type": "stream",
     "text": [
      "P-Value group C: 0.02794482665983064\n"
     ]
    }
   ],
   "source": [
    "#Binom Test for B\n",
    "pval = binom_test(sales_499, samp_size_499, p_sales_needed_499, alternative = 'greater')\n",
    "print('P-Value group C:', pval)"
   ]
  },
  {
   "cell_type": "markdown",
   "id": "1017dcb2",
   "metadata": {},
   "source": [
    "`alternative` will indicate the alternative hypothesis for this test; in this case, we want to know if the observed purchase rate is significantly 'greater' than the purchase rate that results in the minimum revenue target."
   ]
  },
  {
   "cell_type": "markdown",
   "id": "269129c9",
   "metadata": {},
   "source": [
    "`P-Value group C` is the only p-value below the threshold of 0.05. Therefore, the C group is the only group where we would conclude that the purchase rate is significantly higher than the target needed to reach `$1000` revenue per week. Therefore, Brian should charge `$4.99` for the upgrade."
   ]
  },
  {
   "cell_type": "code",
   "execution_count": null,
   "id": "12426998",
   "metadata": {},
   "outputs": [],
   "source": []
  }
 ],
 "metadata": {
  "kernelspec": {
   "display_name": "Python 3 (ipykernel)",
   "language": "python",
   "name": "python3"
  },
  "language_info": {
   "codemirror_mode": {
    "name": "ipython",
    "version": 3
   },
   "file_extension": ".py",
   "mimetype": "text/x-python",
   "name": "python",
   "nbconvert_exporter": "python",
   "pygments_lexer": "ipython3",
   "version": "3.9.10"
  }
 },
 "nbformat": 4,
 "nbformat_minor": 5
}
