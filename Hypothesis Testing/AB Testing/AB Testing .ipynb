{
 "cells": [
  {
   "cell_type": "markdown",
   "id": "eba3a3b4",
   "metadata": {},
   "source": [
    "#### A/B Testing at Nosh Mish Mosh\n",
    "The Nosh Mish Mosh is a recipe and ingredient meal delivery service. They ship the raw materials and you get to cook them at your home! They’ve decided to hire a data analyst to help make product and interface decisions. Get started to help them figure out the amount of data they’ll need to make meaningful decisions.\n",
    "\n",
    "\n",
    "Nosh Mish Mosh wants to run an experiment to see if we can convince more people to purchase meal plans if we use a more artisanal-looking vegetable selection. We’ve photographed these modern meals with blush tomatoes and graffiti eggplants, but aren’t sure if this strategy will sell enough units to benefit from establishing a business relationship with a new provider.\n",
    "\n",
    "Before running this experiment, of course, we need to know the sample size that will be required to detect the difference we are hoping for. There are three things we need to know before we can determine that number.\n",
    "\n",
    "- the Baseline Conversion Rate\n",
    "- Minimum Detectable Effect (desired lift)\n",
    "- and the Statistical Significance Threshold\n",
    "\n"
   ]
  },
  {
   "cell_type": "code",
   "execution_count": 2,
   "id": "0c7d233c",
   "metadata": {},
   "outputs": [],
   "source": [
    "import noshmishmosh\n",
    "import numpy as np"
   ]
  },
  {
   "cell_type": "markdown",
   "id": "2c2c8c3c",
   "metadata": {},
   "source": [
    "Finding the baseline conversion rate (bcr):\n",
    "- Find the number of visitors to the website in a week (all_visitors). \n",
    "- Find the number of visitors who made a purchase (paying_visitors).\n",
    "- bcr = paying_visitors/all_visitors "
   ]
  },
  {
   "cell_type": "code",
   "execution_count": 8,
   "id": "ab226244",
   "metadata": {},
   "outputs": [
    {
     "name": "stdout",
     "output_type": "stream",
     "text": [
      "All visitors:  500\n",
      "Paying visitors:  93\n",
      "Baseline Conversion Rate:  18.6\n"
     ]
    }
   ],
   "source": [
    "#Finding all visitors\n",
    "all_visits = noshmishmosh.customer_visits\n",
    "#print(all_visits)\n",
    "\n",
    "#Number of all visitors\n",
    "total_visitor_count = len(all_visits)\n",
    "\n",
    "#Finding paying visitors\n",
    "paying_visitors = noshmishmosh.purchasing_customers\n",
    "\n",
    "#number of paying visitors\n",
    "paying_visitor_count = len(paying_visitors)\n",
    "\n",
    "#calculating the baseline\n",
    "baseline_percent = (paying_visitor_count/total_visitor_count) * 100\n",
    "\n",
    "print('All visitors: ', total_visitor_count)\n",
    "print('Paying visitors: ', paying_visitor_count)\n",
    "print('Baseline Conversion Rate: ', baseline_percent)"
   ]
  },
  {
   "cell_type": "markdown",
   "id": "7190bfe6",
   "metadata": {},
   "source": [
    "These rainbow fingerling potatoes don’t come cheap. We’d like to know for sure that, with this change, we’ll be pulling in at least $1240 more every week. In order to figure out how many more customers we need, we’ll have to investigate the average revenue generated from a given sale. \n",
    "\n",
    "Finding Minimum Detectable Effect(mde):\n",
    "\n",
    "- Baseline Conversion Rate\n",
    "- Average paid by customers\n",
    "- Number of customers needed to reach $1240 per week.\n",
    "- Percentage increase of the number of customers\n",
    "- mde = percentage increase/baseline conversion rate * 100"
   ]
  },
  {
   "cell_type": "code",
   "execution_count": 17,
   "id": "e2bd8b50",
   "metadata": {},
   "outputs": [
    {
     "name": "stdout",
     "output_type": "stream",
     "text": [
      "Average paid by each customer:  26.543655913978498\n",
      "Number of new customers needed to reach $1240 per week: 47.0\n",
      "Percentage increase in number of customers:  9.4\n",
      "Minimum Detectable Effect (MDE):  50.53763440860215\n"
     ]
    }
   ],
   "source": [
    "#Payment history\n",
    "payment_history = noshmishmosh.money_spent\n",
    "\n",
    "#average paid by each customer\n",
    "average_payment = np.mean(payment_history)\n",
    "\n",
    "\n",
    "#Number of new customer needed to reach $1240 dollars pay week\n",
    "new_customers_needed = np.ceil(1240/average_payment)\n",
    "\n",
    "\n",
    "#Percentage increase \n",
    "percentage_point_increase = new_customers_needed/total_visitor_count * 100\n",
    "\n",
    "#Minimum Detectable Effect\n",
    "mde = percentage_point_increase/baseline_percent * 100\n",
    "\n",
    "print('Average paid by each customer: ', average_payment)\n",
    "print('Number of new customers needed to reach $1240 per week:', new_customers_needed)\n",
    "print('Percentage increase in number of customers: ', percentage_point_increase)\n",
    "print('Minimum Detectable Effect (MDE): ', mde)"
   ]
  },
  {
   "cell_type": "code",
   "execution_count": 18,
   "id": "42ea61d9",
   "metadata": {},
   "outputs": [],
   "source": [
    "ab_sample_size = 490"
   ]
  },
  {
   "cell_type": "code",
   "execution_count": null,
   "id": "935735ab",
   "metadata": {},
   "outputs": [],
   "source": []
  }
 ],
 "metadata": {
  "kernelspec": {
   "display_name": "Python 3 (ipykernel)",
   "language": "python",
   "name": "python3"
  },
  "language_info": {
   "codemirror_mode": {
    "name": "ipython",
    "version": 3
   },
   "file_extension": ".py",
   "mimetype": "text/x-python",
   "name": "python",
   "nbconvert_exporter": "python",
   "pygments_lexer": "ipython3",
   "version": "3.9.10"
  }
 },
 "nbformat": 4,
 "nbformat_minor": 5
}
