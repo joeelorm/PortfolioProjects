{
 "cells": [
  {
   "cell_type": "markdown",
   "id": "a78892f1",
   "metadata": {},
   "source": [
    "Welcome to Familiar, a startup in the new market of blood transfusion! You’ve joined the team because you appreciate the flexible hours and extremely intelligent team, but the overeager doorman welcoming you into the office is a nice way to start your workday (well, work-evening).\n",
    "\n",
    "Familiar has fallen into some tough times lately, so you’re hoping to help them make some insights about their product and help move the needle (so to speak)."
   ]
  },
  {
   "cell_type": "code",
   "execution_count": 1,
   "id": "55993d84",
   "metadata": {},
   "outputs": [],
   "source": [
    "import pandas as pd\n",
    "import numpy as np"
   ]
  },
  {
   "cell_type": "code",
   "execution_count": 2,
   "id": "1b03366e",
   "metadata": {},
   "outputs": [],
   "source": [
    "#Loading the dataset\n",
    "lifespans = pd.read_csv('data/life_spans.csv')\n",
    "iron = pd.read_csv('data/familiar_iron.csv')"
   ]
  },
  {
   "cell_type": "code",
   "execution_count": 3,
   "id": "347ff28f",
   "metadata": {},
   "outputs": [
    {
     "data": {
      "text/html": [
       "<div>\n",
       "<style scoped>\n",
       "    .dataframe tbody tr th:only-of-type {\n",
       "        vertical-align: middle;\n",
       "    }\n",
       "\n",
       "    .dataframe tbody tr th {\n",
       "        vertical-align: top;\n",
       "    }\n",
       "\n",
       "    .dataframe thead th {\n",
       "        text-align: right;\n",
       "    }\n",
       "</style>\n",
       "<table border=\"1\" class=\"dataframe\">\n",
       "  <thead>\n",
       "    <tr style=\"text-align: right;\">\n",
       "      <th></th>\n",
       "      <th>pack</th>\n",
       "      <th>lifespan</th>\n",
       "    </tr>\n",
       "  </thead>\n",
       "  <tbody>\n",
       "    <tr>\n",
       "      <th>0</th>\n",
       "      <td>vein</td>\n",
       "      <td>76.255090</td>\n",
       "    </tr>\n",
       "    <tr>\n",
       "      <th>1</th>\n",
       "      <td>artery</td>\n",
       "      <td>76.404504</td>\n",
       "    </tr>\n",
       "    <tr>\n",
       "      <th>2</th>\n",
       "      <td>artery</td>\n",
       "      <td>75.952442</td>\n",
       "    </tr>\n",
       "    <tr>\n",
       "      <th>3</th>\n",
       "      <td>artery</td>\n",
       "      <td>76.923082</td>\n",
       "    </tr>\n",
       "    <tr>\n",
       "      <th>4</th>\n",
       "      <td>artery</td>\n",
       "      <td>73.771212</td>\n",
       "    </tr>\n",
       "  </tbody>\n",
       "</table>\n",
       "</div>"
      ],
      "text/plain": [
       "     pack   lifespan\n",
       "0    vein  76.255090\n",
       "1  artery  76.404504\n",
       "2  artery  75.952442\n",
       "3  artery  76.923082\n",
       "4  artery  73.771212"
      ]
     },
     "execution_count": 3,
     "metadata": {},
     "output_type": "execute_result"
    }
   ],
   "source": [
    "lifespans.head()"
   ]
  },
  {
   "cell_type": "code",
   "execution_count": 4,
   "id": "94e9af07",
   "metadata": {},
   "outputs": [
    {
     "data": {
      "text/html": [
       "<div>\n",
       "<style scoped>\n",
       "    .dataframe tbody tr th:only-of-type {\n",
       "        vertical-align: middle;\n",
       "    }\n",
       "\n",
       "    .dataframe tbody tr th {\n",
       "        vertical-align: top;\n",
       "    }\n",
       "\n",
       "    .dataframe thead th {\n",
       "        text-align: right;\n",
       "    }\n",
       "</style>\n",
       "<table border=\"1\" class=\"dataframe\">\n",
       "  <thead>\n",
       "    <tr style=\"text-align: right;\">\n",
       "      <th></th>\n",
       "      <th>pack</th>\n",
       "      <th>iron</th>\n",
       "    </tr>\n",
       "  </thead>\n",
       "  <tbody>\n",
       "    <tr>\n",
       "      <th>0</th>\n",
       "      <td>vein</td>\n",
       "      <td>low</td>\n",
       "    </tr>\n",
       "    <tr>\n",
       "      <th>1</th>\n",
       "      <td>artery</td>\n",
       "      <td>normal</td>\n",
       "    </tr>\n",
       "    <tr>\n",
       "      <th>2</th>\n",
       "      <td>artery</td>\n",
       "      <td>normal</td>\n",
       "    </tr>\n",
       "    <tr>\n",
       "      <th>3</th>\n",
       "      <td>artery</td>\n",
       "      <td>normal</td>\n",
       "    </tr>\n",
       "    <tr>\n",
       "      <th>4</th>\n",
       "      <td>artery</td>\n",
       "      <td>high</td>\n",
       "    </tr>\n",
       "  </tbody>\n",
       "</table>\n",
       "</div>"
      ],
      "text/plain": [
       "     pack    iron\n",
       "0    vein     low\n",
       "1  artery  normal\n",
       "2  artery  normal\n",
       "3  artery  normal\n",
       "4  artery    high"
      ]
     },
     "execution_count": 4,
     "metadata": {},
     "output_type": "execute_result"
    }
   ],
   "source": [
    "iron.head()"
   ]
  },
  {
   "cell_type": "markdown",
   "id": "d547a067",
   "metadata": {},
   "source": [
    "The first thing we want to know is whether Familiar’s most basic package, the Vein Pack, actually has a significant impact on the subscribers. It would be a marketing goldmine if we can show that subscribers to the Vein Pack live longer than other people.\n",
    "\n",
    "We’d like to find out if the average lifespan of a Vein Pack subscriber is significantly different from the average life expectancy of 73 years.\n",
    "\n",
    "Hypothesis:\n",
    "- Null: The average lifespan of a Vein Pack subscriber is 73 years.\n",
    "- Alternative: The average lifespan of a Vein Pack subscriber is NOT 73 years."
   ]
  },
  {
   "cell_type": "code",
   "execution_count": null,
   "id": "fdd2d85b",
   "metadata": {},
   "outputs": [],
   "source": []
  },
  {
   "cell_type": "code",
   "execution_count": 5,
   "id": "fd61c279",
   "metadata": {},
   "outputs": [
    {
     "name": "stdout",
     "output_type": "stream",
     "text": [
      "Average life span of vein pack subscribers: 76.16901335636044\n",
      "P-Value: 5.972157921433211e-07\n"
     ]
    }
   ],
   "source": [
    "#Importing 1-sample t-test from scipy\n",
    "from scipy.stats import ttest_1samp\n",
    "\n",
    "#Extracting the lifespans of vein pack subscribers\n",
    "vein_pack_lifespans = lifespans[lifespans['pack'] == 'vein']['lifespan']\n",
    "\n",
    "#Average lifespan of vein pack subscribers\n",
    "print('Average life span of vein pack subscribers:', np.mean(vein_pack_lifespans))\n",
    "\n",
    "#Performing 1-sample t-test\n",
    "tsat, pval = ttest_1samp(vein_pack_lifespans, 73)\n",
    "print('P-Value:', pval)"
   ]
  },
  {
   "cell_type": "markdown",
   "id": "7efe7f6e",
   "metadata": {},
   "source": [
    "The p-value is smaller than 0.05. This implies that the average lifespan of vein pack subscribers is not 73 years."
   ]
  },
  {
   "cell_type": "markdown",
   "id": "b007ad8d",
   "metadata": {},
   "source": [
    "In order to differentiate Familiar’s different product lines, we’d like to compare this lifespan data between our different packages. Our next step up from the Vein Pack is the Artery Pack.\n",
    "\n",
    "We’d like to find out if the average lifespan of a Vein Pack subscriber is significantly different from the average life expectancy for the Artery Pack.\n",
    "\n",
    "Hypothesis:\n",
    "- Null: The average lifespan of a Vein Pack subscriber is equal to the average lifespan of an Artery Pack subscriber.\n",
    "- Alternative: The average lifespan of a Vein Pack subscriber is NOT equal to the average lifespan of an Artery Pack subscriber."
   ]
  },
  {
   "cell_type": "code",
   "execution_count": 6,
   "id": "a404e341",
   "metadata": {},
   "outputs": [
    {
     "name": "stdout",
     "output_type": "stream",
     "text": [
      "Average lifespan of artery pack subscribers: 74.8736622351704\n",
      "P-Value: 0.05588883079070819\n"
     ]
    }
   ],
   "source": [
    "#Extracting Lifespans of artery pack subscribers\n",
    "artery_pack_lifespans = lifespans[lifespans['pack'] == 'artery']['lifespan']\n",
    "print('Average lifespan of artery pack subscribers:', np.mean(artery_pack_lifespans))\n",
    "\n",
    "#importing 2-sample ttest\n",
    "from scipy.stats import ttest_ind\n",
    "\n",
    "tstat, pval = ttest_ind(vein_pack_lifespans,artery_pack_lifespans)\n",
    "print('P-Value:', pval)"
   ]
  },
  {
   "cell_type": "markdown",
   "id": "e591a03b",
   "metadata": {},
   "source": [
    "The p-value here is greater than 0.05, this means that there is no significant difference between the lifespans between the two groups."
   ]
  },
  {
   "cell_type": "markdown",
   "id": "86ab339c",
   "metadata": {},
   "source": [
    "The Familiar team has provided us with another dataset containing survey data about iron counts for our subscribers. This data has been pre-processed to categorize iron counts as “low”, “normal”, and “high” for each subscriber. Familiar wants to be able to advise potential subscribers about possible side effects of these packs and whether they differ for the Vein vs. the Artery pack.\n",
    "\n",
    "We’d like to find out if there is a significant association between which pack (Vein vs. Artery) someone subscribes to and their iron level.\n",
    "\n",
    "Hypothesis\n",
    "- Null: There is NOT an association between which pack (Vein vs. Artery) someone subscribes to and their iron level.\n",
    "- Alternative: There is an association between which pack (Vein vs. Artery) someone subscribes to and their iron level."
   ]
  },
  {
   "cell_type": "code",
   "execution_count": 7,
   "id": "710c3b90",
   "metadata": {},
   "outputs": [
    {
     "name": "stdout",
     "output_type": "stream",
     "text": [
      "iron    high  low  normal\n",
      "pack                     \n",
      "artery    87   29      29\n",
      "vein      20  140      40\n",
      "P-value: 9.359749337433008e-25\n"
     ]
    }
   ],
   "source": [
    "from scipy.stats import chi2_contingency\n",
    "\n",
    "#Cross-tabulation\n",
    "Xtab = pd.crosstab(iron['pack'], iron['iron'])\n",
    "print(Xtab)\n",
    "\n",
    "chi2, pval, dof, exp = chi2_contingency(Xtab)\n",
    "print('P-value:', pval)"
   ]
  },
  {
   "cell_type": "markdown",
   "id": "8cc5d6d4",
   "metadata": {},
   "source": [
    "The p-value is smaller than 0.05, so we conclude that there IS a significant association between pack and iron level."
   ]
  },
  {
   "cell_type": "code",
   "execution_count": null,
   "id": "de8863b1",
   "metadata": {},
   "outputs": [],
   "source": []
  }
 ],
 "metadata": {
  "kernelspec": {
   "display_name": "Python 3 (ipykernel)",
   "language": "python",
   "name": "python3"
  },
  "language_info": {
   "codemirror_mode": {
    "name": "ipython",
    "version": 3
   },
   "file_extension": ".py",
   "mimetype": "text/x-python",
   "name": "python",
   "nbconvert_exporter": "python",
   "pygments_lexer": "ipython3",
   "version": "3.9.10"
  }
 },
 "nbformat": 4,
 "nbformat_minor": 5
}
