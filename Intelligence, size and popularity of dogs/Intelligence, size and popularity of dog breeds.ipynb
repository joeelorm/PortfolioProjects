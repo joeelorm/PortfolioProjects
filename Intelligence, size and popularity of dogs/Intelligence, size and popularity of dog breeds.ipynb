{
 "cells": [
  {
   "cell_type": "markdown",
   "id": "764ee574",
   "metadata": {},
   "source": [
    "### Intelligence, size and popularity of dog breeds"
   ]
  },
  {
   "cell_type": "markdown",
   "id": "a656daf7",
   "metadata": {},
   "source": [
    "Dogs have always been regarded as man's best friends. There are many breeds of dogs in different shapes and sizes with varying levels of intelligence and trainability. With regards to all these, some breeds tend to be more popular than others. What is the reason behind the popularity of some breeds. This project attempts to answer this question using data. The data used in this project was collected from three different sources, cleaned, transformed and combined to form the final data that was used to test the following hypotheses:\n",
    "\n",
    "- Intelligent dogs are more popular than non-intelligent dogs\n",
    "- Big dogs are more popular than small dogs\n",
    "- Size is correlated to intelligence of the dogs\n",
    "\n",
    "\n",
    "Visit: https://www.josephsegbefia.me - My data science portfolio website."
   ]
  },
  {
   "cell_type": "code",
   "execution_count": 1,
   "id": "5e79a8f1",
   "metadata": {},
   "outputs": [],
   "source": [
    "#Importing pandas\n",
    "import pandas as pd"
   ]
  },
  {
   "cell_type": "markdown",
   "id": "8eb0511e",
   "metadata": {},
   "source": [
    "The first dataset was obtained from a research conducted by Cohen in 1994. His work can be assessed on wikipedia at \n",
    "https://en.wikipedia.org/wiki/The_Intelligence_of_Dogs"
   ]
  },
  {
   "cell_type": "code",
   "execution_count": 2,
   "id": "760ee229",
   "metadata": {},
   "outputs": [
    {
     "name": "stdout",
     "output_type": "stream",
     "text": [
      "<class 'pandas.core.frame.DataFrame'>\n",
      "RangeIndex: 136 entries, 0 to 135\n",
      "Data columns (total 5 columns):\n",
      " #   Column          Non-Null Count  Dtype \n",
      "---  ------          --------------  ----- \n",
      " 0   breed           136 non-null    object\n",
      " 1   classification  136 non-null    object\n",
      " 2   obey_rate       125 non-null    object\n",
      " 3   lower_reps      136 non-null    int64 \n",
      " 4   upper_reps      136 non-null    int64 \n",
      "dtypes: int64(2), object(3)\n",
      "memory usage: 5.4+ KB\n"
     ]
    }
   ],
   "source": [
    "#Reading the first data file as a csv. It contains information on the intelligence of the different breeds of dogs\n",
    "\n",
    "dog_intel = pd.read_csv('data/dog_intelligence.csv')\n",
    "\n",
    "#Information on the data\n",
    "dog_intel.info()"
   ]
  },
  {
   "cell_type": "code",
   "execution_count": 3,
   "id": "f12aef40",
   "metadata": {},
   "outputs": [
    {
     "data": {
      "text/html": [
       "<div>\n",
       "<style scoped>\n",
       "    .dataframe tbody tr th:only-of-type {\n",
       "        vertical-align: middle;\n",
       "    }\n",
       "\n",
       "    .dataframe tbody tr th {\n",
       "        vertical-align: top;\n",
       "    }\n",
       "\n",
       "    .dataframe thead th {\n",
       "        text-align: right;\n",
       "    }\n",
       "</style>\n",
       "<table border=\"1\" class=\"dataframe\">\n",
       "  <thead>\n",
       "    <tr style=\"text-align: right;\">\n",
       "      <th></th>\n",
       "      <th>breed</th>\n",
       "      <th>classification</th>\n",
       "      <th>obey_rate</th>\n",
       "      <th>lower_reps</th>\n",
       "      <th>upper_reps</th>\n",
       "    </tr>\n",
       "  </thead>\n",
       "  <tbody>\n",
       "    <tr>\n",
       "      <th>0</th>\n",
       "      <td>Border Collie</td>\n",
       "      <td>Brightest Dogs</td>\n",
       "      <td>95%</td>\n",
       "      <td>1</td>\n",
       "      <td>4</td>\n",
       "    </tr>\n",
       "    <tr>\n",
       "      <th>1</th>\n",
       "      <td>Poodle</td>\n",
       "      <td>Brightest Dogs</td>\n",
       "      <td>95%</td>\n",
       "      <td>1</td>\n",
       "      <td>4</td>\n",
       "    </tr>\n",
       "    <tr>\n",
       "      <th>2</th>\n",
       "      <td>German Shepherd</td>\n",
       "      <td>Brightest Dogs</td>\n",
       "      <td>95%</td>\n",
       "      <td>1</td>\n",
       "      <td>4</td>\n",
       "    </tr>\n",
       "    <tr>\n",
       "      <th>3</th>\n",
       "      <td>Golden Retriever</td>\n",
       "      <td>Brightest Dogs</td>\n",
       "      <td>95%</td>\n",
       "      <td>1</td>\n",
       "      <td>4</td>\n",
       "    </tr>\n",
       "    <tr>\n",
       "      <th>4</th>\n",
       "      <td>Doberman Pinscher</td>\n",
       "      <td>Brightest Dogs</td>\n",
       "      <td>95%</td>\n",
       "      <td>1</td>\n",
       "      <td>4</td>\n",
       "    </tr>\n",
       "    <tr>\n",
       "      <th>5</th>\n",
       "      <td>Shetland Sheepdog</td>\n",
       "      <td>Brightest Dogs</td>\n",
       "      <td>95%</td>\n",
       "      <td>1</td>\n",
       "      <td>4</td>\n",
       "    </tr>\n",
       "  </tbody>\n",
       "</table>\n",
       "</div>"
      ],
      "text/plain": [
       "               breed  classification obey_rate  lower_reps  upper_reps\n",
       "0      Border Collie  Brightest Dogs       95%           1           4\n",
       "1             Poodle  Brightest Dogs       95%           1           4\n",
       "2    German Shepherd  Brightest Dogs       95%           1           4\n",
       "3   Golden Retriever  Brightest Dogs       95%           1           4\n",
       "4  Doberman Pinscher  Brightest Dogs       95%           1           4\n",
       "5  Shetland Sheepdog  Brightest Dogs       95%           1           4"
      ]
     },
     "execution_count": 3,
     "metadata": {},
     "output_type": "execute_result"
    }
   ],
   "source": [
    "#Looking at the first few rows of the data\n",
    "dog_intel.head(6)"
   ]
  },
  {
   "cell_type": "code",
   "execution_count": 4,
   "id": "055ded82",
   "metadata": {},
   "outputs": [
    {
     "data": {
      "text/plain": [
       "breed              0\n",
       "classification     0\n",
       "obey_rate         11\n",
       "lower_reps         0\n",
       "upper_reps         0\n",
       "dtype: int64"
      ]
     },
     "execution_count": 4,
     "metadata": {},
     "output_type": "execute_result"
    }
   ],
   "source": [
    "#Checking for missing values\n",
    "dog_intel.isna().sum()"
   ]
  },
  {
   "cell_type": "markdown",
   "id": "fbc8f8ee",
   "metadata": {},
   "source": [
    "The obey_rate column has 11 missing values."
   ]
  },
  {
   "cell_type": "code",
   "execution_count": 5,
   "id": "5da2b62a",
   "metadata": {},
   "outputs": [
    {
     "data": {
      "text/html": [
       "<div>\n",
       "<style scoped>\n",
       "    .dataframe tbody tr th:only-of-type {\n",
       "        vertical-align: middle;\n",
       "    }\n",
       "\n",
       "    .dataframe tbody tr th {\n",
       "        vertical-align: top;\n",
       "    }\n",
       "\n",
       "    .dataframe thead th {\n",
       "        text-align: right;\n",
       "    }\n",
       "</style>\n",
       "<table border=\"1\" class=\"dataframe\">\n",
       "  <thead>\n",
       "    <tr style=\"text-align: right;\">\n",
       "      <th></th>\n",
       "      <th>breed</th>\n",
       "      <th>classification</th>\n",
       "      <th>obey_rate</th>\n",
       "      <th>lower_reps</th>\n",
       "      <th>upper_reps</th>\n",
       "    </tr>\n",
       "  </thead>\n",
       "  <tbody>\n",
       "    <tr>\n",
       "      <th>125</th>\n",
       "      <td>Shih Tzu</td>\n",
       "      <td>Lowest Degree of Working/Obedience Intelligence</td>\n",
       "      <td>NaN</td>\n",
       "      <td>81</td>\n",
       "      <td>100</td>\n",
       "    </tr>\n",
       "    <tr>\n",
       "      <th>126</th>\n",
       "      <td>Basset Hound</td>\n",
       "      <td>Lowest Degree of Working/Obedience Intelligence</td>\n",
       "      <td>NaN</td>\n",
       "      <td>81</td>\n",
       "      <td>100</td>\n",
       "    </tr>\n",
       "    <tr>\n",
       "      <th>127</th>\n",
       "      <td>Mastiff</td>\n",
       "      <td>Lowest Degree of Working/Obedience Intelligence</td>\n",
       "      <td>NaN</td>\n",
       "      <td>81</td>\n",
       "      <td>100</td>\n",
       "    </tr>\n",
       "    <tr>\n",
       "      <th>128</th>\n",
       "      <td>Beagle</td>\n",
       "      <td>Lowest Degree of Working/Obedience Intelligence</td>\n",
       "      <td>NaN</td>\n",
       "      <td>81</td>\n",
       "      <td>100</td>\n",
       "    </tr>\n",
       "    <tr>\n",
       "      <th>129</th>\n",
       "      <td>Pekingese</td>\n",
       "      <td>Lowest Degree of Working/Obedience Intelligence</td>\n",
       "      <td>NaN</td>\n",
       "      <td>81</td>\n",
       "      <td>100</td>\n",
       "    </tr>\n",
       "    <tr>\n",
       "      <th>130</th>\n",
       "      <td>Bloodhound</td>\n",
       "      <td>Lowest Degree of Working/Obedience Intelligence</td>\n",
       "      <td>NaN</td>\n",
       "      <td>81</td>\n",
       "      <td>100</td>\n",
       "    </tr>\n",
       "    <tr>\n",
       "      <th>131</th>\n",
       "      <td>Borzoi</td>\n",
       "      <td>Lowest Degree of Working/Obedience Intelligence</td>\n",
       "      <td>NaN</td>\n",
       "      <td>81</td>\n",
       "      <td>100</td>\n",
       "    </tr>\n",
       "    <tr>\n",
       "      <th>132</th>\n",
       "      <td>Chow Chow</td>\n",
       "      <td>Lowest Degree of Working/Obedience Intelligence</td>\n",
       "      <td>NaN</td>\n",
       "      <td>81</td>\n",
       "      <td>100</td>\n",
       "    </tr>\n",
       "    <tr>\n",
       "      <th>133</th>\n",
       "      <td>Bulldog</td>\n",
       "      <td>Lowest Degree of Working/Obedience Intelligence</td>\n",
       "      <td>NaN</td>\n",
       "      <td>81</td>\n",
       "      <td>100</td>\n",
       "    </tr>\n",
       "    <tr>\n",
       "      <th>134</th>\n",
       "      <td>Basenji</td>\n",
       "      <td>Lowest Degree of Working/Obedience Intelligence</td>\n",
       "      <td>NaN</td>\n",
       "      <td>81</td>\n",
       "      <td>100</td>\n",
       "    </tr>\n",
       "    <tr>\n",
       "      <th>135</th>\n",
       "      <td>Afghan Hound</td>\n",
       "      <td>Lowest Degree of Working/Obedience Intelligence</td>\n",
       "      <td>NaN</td>\n",
       "      <td>81</td>\n",
       "      <td>100</td>\n",
       "    </tr>\n",
       "  </tbody>\n",
       "</table>\n",
       "</div>"
      ],
      "text/plain": [
       "            breed                                    classification obey_rate  \\\n",
       "125      Shih Tzu  Lowest Degree of Working/Obedience Intelligence        NaN   \n",
       "126  Basset Hound  Lowest Degree of Working/Obedience Intelligence        NaN   \n",
       "127       Mastiff  Lowest Degree of Working/Obedience Intelligence        NaN   \n",
       "128        Beagle  Lowest Degree of Working/Obedience Intelligence        NaN   \n",
       "129     Pekingese  Lowest Degree of Working/Obedience Intelligence        NaN   \n",
       "130    Bloodhound  Lowest Degree of Working/Obedience Intelligence        NaN   \n",
       "131        Borzoi  Lowest Degree of Working/Obedience Intelligence        NaN   \n",
       "132     Chow Chow  Lowest Degree of Working/Obedience Intelligence        NaN   \n",
       "133       Bulldog  Lowest Degree of Working/Obedience Intelligence        NaN   \n",
       "134       Basenji  Lowest Degree of Working/Obedience Intelligence        NaN   \n",
       "135  Afghan Hound  Lowest Degree of Working/Obedience Intelligence        NaN   \n",
       "\n",
       "     lower_reps  upper_reps  \n",
       "125          81         100  \n",
       "126          81         100  \n",
       "127          81         100  \n",
       "128          81         100  \n",
       "129          81         100  \n",
       "130          81         100  \n",
       "131          81         100  \n",
       "132          81         100  \n",
       "133          81         100  \n",
       "134          81         100  \n",
       "135          81         100  "
      ]
     },
     "execution_count": 5,
     "metadata": {},
     "output_type": "execute_result"
    }
   ],
   "source": [
    "#Looking at the rows with the missing values\n",
    "\n",
    "null = dog_intel.isna().any(axis = 1)\n",
    "null_rows = dog_intel[null]\n",
    "null_rows"
   ]
  },
  {
   "cell_type": "code",
   "execution_count": 6,
   "id": "5a5300ad",
   "metadata": {},
   "outputs": [],
   "source": [
    "#Replacing the NaN with '0%'\n",
    "\n",
    "dog_intel.fillna('0%', inplace = True)"
   ]
  },
  {
   "cell_type": "code",
   "execution_count": 7,
   "id": "96d64e94",
   "metadata": {},
   "outputs": [
    {
     "name": "stdout",
     "output_type": "stream",
     "text": [
      "<class 'pandas.core.frame.DataFrame'>\n",
      "RangeIndex: 136 entries, 0 to 135\n",
      "Data columns (total 5 columns):\n",
      " #   Column          Non-Null Count  Dtype \n",
      "---  ------          --------------  ----- \n",
      " 0   breed           136 non-null    object\n",
      " 1   classification  136 non-null    object\n",
      " 2   obey_rate       136 non-null    object\n",
      " 3   lower_reps      136 non-null    int64 \n",
      " 4   upper_reps      136 non-null    int64 \n",
      "dtypes: int64(2), object(3)\n",
      "memory usage: 5.4+ KB\n"
     ]
    }
   ],
   "source": [
    "#Checking if the replacement worked\n",
    "\n",
    "dog_intel.info()"
   ]
  },
  {
   "cell_type": "code",
   "execution_count": 8,
   "id": "deb77107",
   "metadata": {},
   "outputs": [
    {
     "data": {
      "text/plain": [
       "breed             0\n",
       "classification    0\n",
       "obey_rate         0\n",
       "lower_reps        0\n",
       "upper_reps        0\n",
       "dtype: int64"
      ]
     },
     "execution_count": 8,
     "metadata": {},
     "output_type": "execute_result"
    }
   ],
   "source": [
    "dog_intel.isna().sum()"
   ]
  },
  {
   "cell_type": "markdown",
   "id": "299eb0df",
   "metadata": {},
   "source": [
    "Missing values have replaced with 0% as evident above with no missing values.\n",
    "\n",
    "The second dataset which is about the weights/sizes of the different breeds of dogs was obtained from the American Kennel Club. \n",
    "\n",
    "https://www.akc.org/expert-advice/nutrition/breed-weight-chart/\n",
    "\n",
    "The last dataset concerned with the popularity of the different breeds was also collected from the American Kennel Club\n",
    "\n",
    "https://www.akc.org/expert-advice/news/most-popular-dog-breeds-full-ranking-list/"
   ]
  },
  {
   "cell_type": "code",
   "execution_count": 9,
   "id": "737847d6",
   "metadata": {},
   "outputs": [
    {
     "data": {
      "text/html": [
       "<div>\n",
       "<style scoped>\n",
       "    .dataframe tbody tr th:only-of-type {\n",
       "        vertical-align: middle;\n",
       "    }\n",
       "\n",
       "    .dataframe tbody tr th {\n",
       "        vertical-align: top;\n",
       "    }\n",
       "\n",
       "    .dataframe thead th {\n",
       "        text-align: right;\n",
       "    }\n",
       "</style>\n",
       "<table border=\"1\" class=\"dataframe\">\n",
       "  <thead>\n",
       "    <tr style=\"text-align: right;\">\n",
       "      <th></th>\n",
       "      <th>Breed</th>\n",
       "      <th>Weight Male</th>\n",
       "      <th>Weight Female</th>\n",
       "    </tr>\n",
       "  </thead>\n",
       "  <tbody>\n",
       "    <tr>\n",
       "      <th>0</th>\n",
       "      <td>Affenpinschers</td>\n",
       "      <td>7-10 pounds</td>\n",
       "      <td>7-10 pounds</td>\n",
       "    </tr>\n",
       "    <tr>\n",
       "      <th>1</th>\n",
       "      <td>Afghan Hounds</td>\n",
       "      <td>50-60 pounds</td>\n",
       "      <td>50-60 pounds</td>\n",
       "    </tr>\n",
       "    <tr>\n",
       "      <th>2</th>\n",
       "      <td>Airedale Terriers</td>\n",
       "      <td>50-70 pounds</td>\n",
       "      <td>50-70 pounds</td>\n",
       "    </tr>\n",
       "    <tr>\n",
       "      <th>3</th>\n",
       "      <td>Akitas</td>\n",
       "      <td>100-130 pounds</td>\n",
       "      <td>70-100 pounds</td>\n",
       "    </tr>\n",
       "    <tr>\n",
       "      <th>4</th>\n",
       "      <td>Alaskan Malamutes</td>\n",
       "      <td>85 pounds</td>\n",
       "      <td>75 pounds</td>\n",
       "    </tr>\n",
       "  </tbody>\n",
       "</table>\n",
       "</div>"
      ],
      "text/plain": [
       "               Breed     Weight Male  Weight Female\n",
       "0     Affenpinschers     7-10 pounds    7-10 pounds\n",
       "1      Afghan Hounds    50-60 pounds   50-60 pounds\n",
       "2  Airedale Terriers    50-70 pounds   50-70 pounds\n",
       "3             Akitas  100-130 pounds  70-100 pounds\n",
       "4  Alaskan Malamutes       85 pounds      75 pounds"
      ]
     },
     "execution_count": 9,
     "metadata": {},
     "output_type": "execute_result"
    }
   ],
   "source": [
    "#Reading the weight data as a dataframe (Second dataset)\n",
    "\n",
    "dog_weight = pd.read_csv('data/breedweight.csv')\n",
    "\n",
    "#Looking at the first few rows of the data\n",
    "dog_weight.head()"
   ]
  },
  {
   "cell_type": "code",
   "execution_count": 10,
   "id": "28afe5b2",
   "metadata": {},
   "outputs": [
    {
     "name": "stdout",
     "output_type": "stream",
     "text": [
      "<class 'pandas.core.frame.DataFrame'>\n",
      "RangeIndex: 189 entries, 0 to 188\n",
      "Data columns (total 3 columns):\n",
      " #   Column         Non-Null Count  Dtype \n",
      "---  ------         --------------  ----- \n",
      " 0   Breed          189 non-null    object\n",
      " 1   Weight Male    189 non-null    object\n",
      " 2   Weight Female  189 non-null    object\n",
      "dtypes: object(3)\n",
      "memory usage: 4.6+ KB\n"
     ]
    }
   ],
   "source": [
    "#dog weight dataset information\n",
    "dog_weight.info()"
   ]
  },
  {
   "cell_type": "code",
   "execution_count": 11,
   "id": "2542a225",
   "metadata": {},
   "outputs": [
    {
     "data": {
      "text/plain": [
       "Breed            0\n",
       "Weight Male      0\n",
       "Weight Female    0\n",
       "dtype: int64"
      ]
     },
     "execution_count": 11,
     "metadata": {},
     "output_type": "execute_result"
    }
   ],
   "source": [
    "#Checking for missing values\n",
    "dog_weight.isna().sum()"
   ]
  },
  {
   "cell_type": "markdown",
   "id": "6d90cffc",
   "metadata": {},
   "source": [
    "The first dataset (`dog_intel`) and the second dataset (`dog_weight`) will be merged together on a common column (`Breed`). But before this can be done the columns in both datasets must have the same capitalization. As it is now, the columns in the `dog_intel` are in lower case whereas the columns in `dog_weight` have the first letters capitalized. The columns in the `dog_intel` dataset will be transformed to match those of the `dog_weight`."
   ]
  },
  {
   "cell_type": "code",
   "execution_count": 12,
   "id": "b053db5e",
   "metadata": {},
   "outputs": [
    {
     "data": {
      "text/html": [
       "<div>\n",
       "<style scoped>\n",
       "    .dataframe tbody tr th:only-of-type {\n",
       "        vertical-align: middle;\n",
       "    }\n",
       "\n",
       "    .dataframe tbody tr th {\n",
       "        vertical-align: top;\n",
       "    }\n",
       "\n",
       "    .dataframe thead th {\n",
       "        text-align: right;\n",
       "    }\n",
       "</style>\n",
       "<table border=\"1\" class=\"dataframe\">\n",
       "  <thead>\n",
       "    <tr style=\"text-align: right;\">\n",
       "      <th></th>\n",
       "      <th>Breed</th>\n",
       "      <th>Classification</th>\n",
       "      <th>Obey_Rate</th>\n",
       "      <th>Lower_Reps</th>\n",
       "      <th>Upper_Reps</th>\n",
       "    </tr>\n",
       "  </thead>\n",
       "  <tbody>\n",
       "    <tr>\n",
       "      <th>0</th>\n",
       "      <td>Border Collie</td>\n",
       "      <td>Brightest Dogs</td>\n",
       "      <td>95%</td>\n",
       "      <td>1</td>\n",
       "      <td>4</td>\n",
       "    </tr>\n",
       "    <tr>\n",
       "      <th>1</th>\n",
       "      <td>Poodle</td>\n",
       "      <td>Brightest Dogs</td>\n",
       "      <td>95%</td>\n",
       "      <td>1</td>\n",
       "      <td>4</td>\n",
       "    </tr>\n",
       "  </tbody>\n",
       "</table>\n",
       "</div>"
      ],
      "text/plain": [
       "           Breed  Classification Obey_Rate  Lower_Reps  Upper_Reps\n",
       "0  Border Collie  Brightest Dogs       95%           1           4\n",
       "1         Poodle  Brightest Dogs       95%           1           4"
      ]
     },
     "execution_count": 12,
     "metadata": {},
     "output_type": "execute_result"
    }
   ],
   "source": [
    "#Renaming columns in the dog_intel dataset\n",
    "\n",
    "dog_intel.rename(columns = {'breed':'Breed',\n",
    "                            'classification':'Classification',\n",
    "                            'obey_rate':'Obey_Rate',\n",
    "                            'lower_reps':'Lower_Reps',\n",
    "                            'upper_reps': 'Upper_Reps'}, inplace = True)\n",
    "\n",
    "\n",
    "#Checking if changes took effect\n",
    "dog_intel.head(2)"
   ]
  },
  {
   "cell_type": "code",
   "execution_count": 13,
   "id": "b5a21b7a",
   "metadata": {},
   "outputs": [
    {
     "data": {
      "text/html": [
       "<div>\n",
       "<style scoped>\n",
       "    .dataframe tbody tr th:only-of-type {\n",
       "        vertical-align: middle;\n",
       "    }\n",
       "\n",
       "    .dataframe tbody tr th {\n",
       "        vertical-align: top;\n",
       "    }\n",
       "\n",
       "    .dataframe thead th {\n",
       "        text-align: right;\n",
       "    }\n",
       "</style>\n",
       "<table border=\"1\" class=\"dataframe\">\n",
       "  <thead>\n",
       "    <tr style=\"text-align: right;\">\n",
       "      <th></th>\n",
       "      <th>Breed</th>\n",
       "      <th>Classification</th>\n",
       "      <th>Obey_Rate</th>\n",
       "      <th>Lower_Reps</th>\n",
       "      <th>Upper_Reps</th>\n",
       "      <th>Weight Male</th>\n",
       "      <th>Weight Female</th>\n",
       "    </tr>\n",
       "  </thead>\n",
       "  <tbody>\n",
       "    <tr>\n",
       "      <th>0</th>\n",
       "      <td>Belgian Malinois</td>\n",
       "      <td>Excellent Working Dogs</td>\n",
       "      <td>85%</td>\n",
       "      <td>5</td>\n",
       "      <td>15</td>\n",
       "      <td>60-80 pounds</td>\n",
       "      <td>40-60 pounds</td>\n",
       "    </tr>\n",
       "    <tr>\n",
       "      <th>1</th>\n",
       "      <td>Finnish Spitz</td>\n",
       "      <td>Average Working/Obedience Intelligence</td>\n",
       "      <td>50%</td>\n",
       "      <td>26</td>\n",
       "      <td>40</td>\n",
       "      <td>25-33 pounds</td>\n",
       "      <td>20-28 pounds</td>\n",
       "    </tr>\n",
       "    <tr>\n",
       "      <th>2</th>\n",
       "      <td>Tibetan Spaniel</td>\n",
       "      <td>Average Working/Obedience Intelligence</td>\n",
       "      <td>50%</td>\n",
       "      <td>26</td>\n",
       "      <td>40</td>\n",
       "      <td>9-15 pounds</td>\n",
       "      <td>9-15 pounds</td>\n",
       "    </tr>\n",
       "    <tr>\n",
       "      <th>3</th>\n",
       "      <td>Havanese</td>\n",
       "      <td>Average Working/Obedience Intelligence</td>\n",
       "      <td>50%</td>\n",
       "      <td>26</td>\n",
       "      <td>40</td>\n",
       "      <td>7-13 pounds</td>\n",
       "      <td>7-13 pounds</td>\n",
       "    </tr>\n",
       "    <tr>\n",
       "      <th>4</th>\n",
       "      <td>Shiba Inu</td>\n",
       "      <td>Average Working/Obedience Intelligence</td>\n",
       "      <td>50%</td>\n",
       "      <td>26</td>\n",
       "      <td>40</td>\n",
       "      <td>23 pounds</td>\n",
       "      <td>17 pounds</td>\n",
       "    </tr>\n",
       "  </tbody>\n",
       "</table>\n",
       "</div>"
      ],
      "text/plain": [
       "              Breed                          Classification Obey_Rate  \\\n",
       "0  Belgian Malinois                  Excellent Working Dogs       85%   \n",
       "1     Finnish Spitz  Average Working/Obedience Intelligence       50%   \n",
       "2   Tibetan Spaniel  Average Working/Obedience Intelligence       50%   \n",
       "3          Havanese  Average Working/Obedience Intelligence       50%   \n",
       "4         Shiba Inu  Average Working/Obedience Intelligence       50%   \n",
       "\n",
       "   Lower_Reps  Upper_Reps   Weight Male Weight Female  \n",
       "0           5          15  60-80 pounds  40-60 pounds  \n",
       "1          26          40  25-33 pounds  20-28 pounds  \n",
       "2          26          40   9-15 pounds   9-15 pounds  \n",
       "3          26          40   7-13 pounds   7-13 pounds  \n",
       "4          26          40     23 pounds     17 pounds  "
      ]
     },
     "execution_count": 13,
     "metadata": {},
     "output_type": "execute_result"
    }
   ],
   "source": [
    "#Merging the two datasets into one on the 'Breed' columns (dog_intel_weight)\n",
    "\n",
    "dog_intel_weight = dog_intel.merge(dog_weight, on  = 'Breed')\n",
    "dog_intel_weight.head()"
   ]
  },
  {
   "cell_type": "markdown",
   "id": "1cddd51a",
   "metadata": {},
   "source": [
    "Though the `Breed` columns contains almost the same names for the different breeds of dogs available, some of the names in the weight dataset have a different representation to what is present in the intelligence dataset. For example in the weight dataset a breed coded as `Retrievers (Gold)` is supposed to mean `Golden Retriever` in the intelligence dataset. Because of the these subtle differences and others such as the breed names being in plural in the weight dataset and lastly, the plural form for non-english breeds do not end with an s, they have a different form e.g `Puli` in the intelligence dataset vs `Pulik` in the weight dataset did not produce the desirable merge. Other differences in the pluralisation are `Keeshond` vs `Keeshonden`, `Komondor` vs `Komondorok`"
   ]
  },
  {
   "cell_type": "code",
   "execution_count": 14,
   "id": "535ccf82",
   "metadata": {},
   "outputs": [
    {
     "data": {
      "text/html": [
       "<div>\n",
       "<style scoped>\n",
       "    .dataframe tbody tr th:only-of-type {\n",
       "        vertical-align: middle;\n",
       "    }\n",
       "\n",
       "    .dataframe tbody tr th {\n",
       "        vertical-align: top;\n",
       "    }\n",
       "\n",
       "    .dataframe thead th {\n",
       "        text-align: right;\n",
       "    }\n",
       "</style>\n",
       "<table border=\"1\" class=\"dataframe\">\n",
       "  <thead>\n",
       "    <tr style=\"text-align: right;\">\n",
       "      <th></th>\n",
       "      <th>Breed</th>\n",
       "      <th>Weight Male</th>\n",
       "      <th>Weight Female</th>\n",
       "    </tr>\n",
       "  </thead>\n",
       "  <tbody>\n",
       "    <tr>\n",
       "      <th>133</th>\n",
       "      <td>Retrievers (Chesapeake Bay)</td>\n",
       "      <td>65-80 pounds</td>\n",
       "      <td>55-70 pounds</td>\n",
       "    </tr>\n",
       "    <tr>\n",
       "      <th>134</th>\n",
       "      <td>Retrievers (Curly-Coated)</td>\n",
       "      <td>60-95 pounds</td>\n",
       "      <td>60-95 pounds</td>\n",
       "    </tr>\n",
       "    <tr>\n",
       "      <th>135</th>\n",
       "      <td>Retrievers (Flat-Coated)</td>\n",
       "      <td>60-70 pounds</td>\n",
       "      <td>60-70 pounds</td>\n",
       "    </tr>\n",
       "    <tr>\n",
       "      <th>136</th>\n",
       "      <td>Retrievers (Golden)</td>\n",
       "      <td>65-75 pounds</td>\n",
       "      <td>55-65 pounds</td>\n",
       "    </tr>\n",
       "    <tr>\n",
       "      <th>137</th>\n",
       "      <td>Retrievers (Labrador)</td>\n",
       "      <td>65-80 pounds</td>\n",
       "      <td>55-70 pounds</td>\n",
       "    </tr>\n",
       "    <tr>\n",
       "      <th>138</th>\n",
       "      <td>Retrievers (Nova Scotia Duck Tolling)</td>\n",
       "      <td>35-50 pounds</td>\n",
       "      <td>35-50 pounds</td>\n",
       "    </tr>\n",
       "  </tbody>\n",
       "</table>\n",
       "</div>"
      ],
      "text/plain": [
       "                                     Breed   Weight Male Weight Female\n",
       "133            Retrievers (Chesapeake Bay)  65-80 pounds  55-70 pounds\n",
       "134              Retrievers (Curly-Coated)  60-95 pounds  60-95 pounds\n",
       "135               Retrievers (Flat-Coated)  60-70 pounds  60-70 pounds\n",
       "136                    Retrievers (Golden)  65-75 pounds  55-65 pounds\n",
       "137                  Retrievers (Labrador)  65-80 pounds  55-70 pounds\n",
       "138  Retrievers (Nova Scotia Duck Tolling)  35-50 pounds  35-50 pounds"
      ]
     },
     "execution_count": 14,
     "metadata": {},
     "output_type": "execute_result"
    }
   ],
   "source": [
    "# Proof of the above problem - Lets call this problem A \n",
    "\n",
    "#How retriever breeds are coded in the weight dataset\n",
    "retrievers_weight_data = dog_weight[dog_weight['Breed'].str.contains('Retrievers')]\n",
    "retrievers_weight_data"
   ]
  },
  {
   "cell_type": "code",
   "execution_count": 15,
   "id": "23ca786c",
   "metadata": {},
   "outputs": [
    {
     "data": {
      "text/html": [
       "<div>\n",
       "<style scoped>\n",
       "    .dataframe tbody tr th:only-of-type {\n",
       "        vertical-align: middle;\n",
       "    }\n",
       "\n",
       "    .dataframe tbody tr th {\n",
       "        vertical-align: top;\n",
       "    }\n",
       "\n",
       "    .dataframe thead th {\n",
       "        text-align: right;\n",
       "    }\n",
       "</style>\n",
       "<table border=\"1\" class=\"dataframe\">\n",
       "  <thead>\n",
       "    <tr style=\"text-align: right;\">\n",
       "      <th></th>\n",
       "      <th>Breed</th>\n",
       "      <th>Classification</th>\n",
       "      <th>Obey_Rate</th>\n",
       "      <th>Lower_Reps</th>\n",
       "      <th>Upper_Reps</th>\n",
       "    </tr>\n",
       "  </thead>\n",
       "  <tbody>\n",
       "    <tr>\n",
       "      <th>3</th>\n",
       "      <td>Golden Retriever</td>\n",
       "      <td>Brightest Dogs</td>\n",
       "      <td>95%</td>\n",
       "      <td>1</td>\n",
       "      <td>4</td>\n",
       "    </tr>\n",
       "    <tr>\n",
       "      <th>6</th>\n",
       "      <td>Labrador Retriever</td>\n",
       "      <td>Brightest Dogs</td>\n",
       "      <td>95%</td>\n",
       "      <td>1</td>\n",
       "      <td>4</td>\n",
       "    </tr>\n",
       "    <tr>\n",
       "      <th>19</th>\n",
       "      <td>Flat-Coated Retriever</td>\n",
       "      <td>Excellent Working Dogs</td>\n",
       "      <td>85%</td>\n",
       "      <td>5</td>\n",
       "      <td>15</td>\n",
       "    </tr>\n",
       "    <tr>\n",
       "      <th>31</th>\n",
       "      <td>Chesapeake Bay Retriever</td>\n",
       "      <td>Above Average Working Dogs</td>\n",
       "      <td>70%</td>\n",
       "      <td>16</td>\n",
       "      <td>25</td>\n",
       "    </tr>\n",
       "    <tr>\n",
       "      <th>64</th>\n",
       "      <td>Curly Coated Retriever</td>\n",
       "      <td>Average Working/Obedience Intelligence</td>\n",
       "      <td>50%</td>\n",
       "      <td>26</td>\n",
       "      <td>40</td>\n",
       "    </tr>\n",
       "  </tbody>\n",
       "</table>\n",
       "</div>"
      ],
      "text/plain": [
       "                       Breed                          Classification  \\\n",
       "3           Golden Retriever                          Brightest Dogs   \n",
       "6         Labrador Retriever                          Brightest Dogs   \n",
       "19     Flat-Coated Retriever                  Excellent Working Dogs   \n",
       "31  Chesapeake Bay Retriever              Above Average Working Dogs   \n",
       "64    Curly Coated Retriever  Average Working/Obedience Intelligence   \n",
       "\n",
       "   Obey_Rate  Lower_Reps  Upper_Reps  \n",
       "3        95%           1           4  \n",
       "6        95%           1           4  \n",
       "19       85%           5          15  \n",
       "31       70%          16          25  \n",
       "64       50%          26          40  "
      ]
     },
     "execution_count": 15,
     "metadata": {},
     "output_type": "execute_result"
    }
   ],
   "source": [
    "#How retriever breeds are coded in the intelligence dataset\n",
    "\n",
    "retrievers_intel_data = dog_intel[dog_intel['Breed'].str.contains('Retriever')]\n",
    "retrievers_intel_data"
   ]
  },
  {
   "cell_type": "code",
   "execution_count": 16,
   "id": "e5dc2656",
   "metadata": {},
   "outputs": [
    {
     "data": {
      "text/plain": [
       "0                    Affenpinschers\n",
       "1                     Afghan Hounds\n",
       "2                 Airedale Terriers\n",
       "3                            Akitas\n",
       "4                 Alaskan Malamutes\n",
       "                   ...             \n",
       "183    West Highland White Terriers\n",
       "184                        Whippets\n",
       "185    Wirehaired Pointing Griffons\n",
       "186              Wirehaired Vizslas\n",
       "188              Yorkshire Terriers\n",
       "Name: Breed, Length: 141, dtype: object"
      ]
     },
     "execution_count": 16,
     "metadata": {},
     "output_type": "execute_result"
    }
   ],
   "source": [
    "#Proof of pluralisation in the weight data - Lets call this problem B\n",
    "\n",
    "plural_breeds = dog_weight[dog_weight['Breed'].str[-1] == 's']['Breed']\n",
    "plural_breeds"
   ]
  },
  {
   "cell_type": "code",
   "execution_count": 17,
   "id": "13cdf109",
   "metadata": {},
   "outputs": [
    {
     "data": {
      "text/plain": [
       "0          Border Collie\n",
       "1                 Poodle\n",
       "2        German Shepherd\n",
       "3       Golden Retriever\n",
       "4      Doberman Pinscher\n",
       "             ...        \n",
       "131               Borzoi\n",
       "132            Chow Chow\n",
       "133              Bulldog\n",
       "134              Basenji\n",
       "135         Afghan Hound\n",
       "Name: Breed, Length: 136, dtype: object"
      ]
     },
     "execution_count": 17,
     "metadata": {},
     "output_type": "execute_result"
    }
   ],
   "source": [
    "#Non pluralised breeds in the intelligence dataset\n",
    "singular_breeds = dog_intel['Breed']\n",
    "singular_breeds"
   ]
  },
  {
   "cell_type": "code",
   "execution_count": 18,
   "id": "73188926",
   "metadata": {},
   "outputs": [
    {
     "data": {
      "text/html": [
       "<div>\n",
       "<style scoped>\n",
       "    .dataframe tbody tr th:only-of-type {\n",
       "        vertical-align: middle;\n",
       "    }\n",
       "\n",
       "    .dataframe tbody tr th {\n",
       "        vertical-align: top;\n",
       "    }\n",
       "\n",
       "    .dataframe thead th {\n",
       "        text-align: right;\n",
       "    }\n",
       "</style>\n",
       "<table border=\"1\" class=\"dataframe\">\n",
       "  <thead>\n",
       "    <tr style=\"text-align: right;\">\n",
       "      <th></th>\n",
       "      <th>Breed</th>\n",
       "      <th>Weight Male</th>\n",
       "      <th>Weight Female</th>\n",
       "    </tr>\n",
       "  </thead>\n",
       "  <tbody>\n",
       "    <tr>\n",
       "      <th>87</th>\n",
       "      <td>Keeshonden</td>\n",
       "      <td>35-45 pounds</td>\n",
       "      <td>35-45 pounds</td>\n",
       "    </tr>\n",
       "    <tr>\n",
       "      <th>89</th>\n",
       "      <td>Komondorok</td>\n",
       "      <td>100 pounds or more</td>\n",
       "      <td>80 pounds or more</td>\n",
       "    </tr>\n",
       "    <tr>\n",
       "      <th>128</th>\n",
       "      <td>Pulik</td>\n",
       "      <td>25-35 pounds</td>\n",
       "      <td>25-35 pounds</td>\n",
       "    </tr>\n",
       "  </tbody>\n",
       "</table>\n",
       "</div>"
      ],
      "text/plain": [
       "          Breed         Weight Male      Weight Female\n",
       "87   Keeshonden        35-45 pounds       35-45 pounds\n",
       "89   Komondorok  100 pounds or more  80 pounds or more\n",
       "128       Pulik        25-35 pounds       25-35 pounds"
      ]
     },
     "execution_count": 18,
     "metadata": {},
     "output_type": "execute_result"
    }
   ],
   "source": [
    "#Proof pluralisation of non-english name breeds - Lets call this problem C\n",
    "plural_non_english_breeds = ['Keeshonden', 'Komondorok', 'Pulik']\n",
    "\n",
    "non_eng_plu = dog_weight[dog_weight['Breed'].isin(plural_non_english_breeds)]\n",
    "non_eng_plu"
   ]
  },
  {
   "cell_type": "code",
   "execution_count": 19,
   "id": "c7e756af",
   "metadata": {},
   "outputs": [
    {
     "data": {
      "text/html": [
       "<div>\n",
       "<style scoped>\n",
       "    .dataframe tbody tr th:only-of-type {\n",
       "        vertical-align: middle;\n",
       "    }\n",
       "\n",
       "    .dataframe tbody tr th {\n",
       "        vertical-align: top;\n",
       "    }\n",
       "\n",
       "    .dataframe thead th {\n",
       "        text-align: right;\n",
       "    }\n",
       "</style>\n",
       "<table border=\"1\" class=\"dataframe\">\n",
       "  <thead>\n",
       "    <tr style=\"text-align: right;\">\n",
       "      <th></th>\n",
       "      <th>Breed</th>\n",
       "      <th>Classification</th>\n",
       "      <th>Obey_Rate</th>\n",
       "      <th>Lower_Reps</th>\n",
       "      <th>Upper_Reps</th>\n",
       "    </tr>\n",
       "  </thead>\n",
       "  <tbody>\n",
       "    <tr>\n",
       "      <th>17</th>\n",
       "      <td>Keeshond</td>\n",
       "      <td>Excellent Working Dogs</td>\n",
       "      <td>85%</td>\n",
       "      <td>5</td>\n",
       "      <td>15</td>\n",
       "    </tr>\n",
       "    <tr>\n",
       "      <th>32</th>\n",
       "      <td>Puli</td>\n",
       "      <td>Above Average Working Dogs</td>\n",
       "      <td>70%</td>\n",
       "      <td>16</td>\n",
       "      <td>25</td>\n",
       "    </tr>\n",
       "  </tbody>\n",
       "</table>\n",
       "</div>"
      ],
      "text/plain": [
       "       Breed              Classification Obey_Rate  Lower_Reps  Upper_Reps\n",
       "17  Keeshond      Excellent Working Dogs       85%           5          15\n",
       "32      Puli  Above Average Working Dogs       70%          16          25"
      ]
     },
     "execution_count": 19,
     "metadata": {},
     "output_type": "execute_result"
    }
   ],
   "source": [
    "#Proof pluralisation of non-english name breeds\n",
    "singular_non_english_breeds = ['Keeshond', 'Komondor', 'Puli']\n",
    "non_eng_sing = dog_intel[dog_intel['Breed'].isin(singular_non_english_breeds)]\n",
    "non_eng_sing"
   ]
  },
  {
   "cell_type": "markdown",
   "id": "7d0287a9",
   "metadata": {},
   "source": [
    "To solve problem A i.e for example to change `Retrievers (Golden)` in the weight dataset to `Golden Retrievers` in the intelligence dataset, the parentheses in the name will be removed and the name `Retrievers (Golden)` will be turned around to become `Golden Retrievers`.\n",
    "\n",
    "To resolve problem B, the letter `s` at the end of the breed names in the weight dataset will be dropped to convert them to singular."
   ]
  },
  {
   "cell_type": "code",
   "execution_count": 20,
   "id": "85fd228c",
   "metadata": {},
   "outputs": [],
   "source": [
    "#Resolving problem A\n",
    "\n",
    "new_breed_list = []\n",
    "char = ['(']\n",
    "\n",
    "for item in dog_weight['Breed']:\n",
    "    for char in char:\n",
    "        if char not in item:\n",
    "            new_breed_list.append(item)\n",
    "        else:\n",
    "            sub_list = []\n",
    "            sub_item  = item.split(char)\n",
    "            sub_list.append(sub_item)\n",
    "            for word in sub_list:\n",
    "                rev = list(reversed(word))\n",
    "                final = ' '.join(rev)\n",
    "                final = final.replace(')', '').strip(' ')\n",
    "                new_breed_list.append(final)\n",
    "                \n",
    "\n",
    "#make the new_breed_list the column of the weight dataset\n",
    "dog_weight['Breed'] = new_breed_list"
   ]
  },
  {
   "cell_type": "code",
   "execution_count": 21,
   "id": "22d3366a",
   "metadata": {},
   "outputs": [
    {
     "data": {
      "text/html": [
       "<div>\n",
       "<style scoped>\n",
       "    .dataframe tbody tr th:only-of-type {\n",
       "        vertical-align: middle;\n",
       "    }\n",
       "\n",
       "    .dataframe tbody tr th {\n",
       "        vertical-align: top;\n",
       "    }\n",
       "\n",
       "    .dataframe thead th {\n",
       "        text-align: right;\n",
       "    }\n",
       "</style>\n",
       "<table border=\"1\" class=\"dataframe\">\n",
       "  <thead>\n",
       "    <tr style=\"text-align: right;\">\n",
       "      <th></th>\n",
       "      <th>Breed</th>\n",
       "      <th>Weight Male</th>\n",
       "      <th>Weight Female</th>\n",
       "    </tr>\n",
       "  </thead>\n",
       "  <tbody>\n",
       "    <tr>\n",
       "      <th>133</th>\n",
       "      <td>Chesapeake Bay Retrievers</td>\n",
       "      <td>65-80 pounds</td>\n",
       "      <td>55-70 pounds</td>\n",
       "    </tr>\n",
       "    <tr>\n",
       "      <th>134</th>\n",
       "      <td>Curly-Coated Retrievers</td>\n",
       "      <td>60-95 pounds</td>\n",
       "      <td>60-95 pounds</td>\n",
       "    </tr>\n",
       "    <tr>\n",
       "      <th>135</th>\n",
       "      <td>Flat-Coated Retrievers</td>\n",
       "      <td>60-70 pounds</td>\n",
       "      <td>60-70 pounds</td>\n",
       "    </tr>\n",
       "    <tr>\n",
       "      <th>136</th>\n",
       "      <td>Golden Retrievers</td>\n",
       "      <td>65-75 pounds</td>\n",
       "      <td>55-65 pounds</td>\n",
       "    </tr>\n",
       "    <tr>\n",
       "      <th>137</th>\n",
       "      <td>Labrador Retrievers</td>\n",
       "      <td>65-80 pounds</td>\n",
       "      <td>55-70 pounds</td>\n",
       "    </tr>\n",
       "    <tr>\n",
       "      <th>138</th>\n",
       "      <td>Nova Scotia Duck Tolling Retrievers</td>\n",
       "      <td>35-50 pounds</td>\n",
       "      <td>35-50 pounds</td>\n",
       "    </tr>\n",
       "  </tbody>\n",
       "</table>\n",
       "</div>"
      ],
      "text/plain": [
       "                                   Breed   Weight Male Weight Female\n",
       "133            Chesapeake Bay Retrievers  65-80 pounds  55-70 pounds\n",
       "134              Curly-Coated Retrievers  60-95 pounds  60-95 pounds\n",
       "135               Flat-Coated Retrievers  60-70 pounds  60-70 pounds\n",
       "136                    Golden Retrievers  65-75 pounds  55-65 pounds\n",
       "137                  Labrador Retrievers  65-80 pounds  55-70 pounds\n",
       "138  Nova Scotia Duck Tolling Retrievers  35-50 pounds  35-50 pounds"
      ]
     },
     "execution_count": 21,
     "metadata": {},
     "output_type": "execute_result"
    }
   ],
   "source": [
    "#verifying if changes took place\n",
    "\n",
    "retrievers_weight_data = dog_weight[dog_weight['Breed'].str.contains('Retrievers')]\n",
    "retrievers_weight_data"
   ]
  },
  {
   "cell_type": "markdown",
   "id": "cc06af3a",
   "metadata": {},
   "source": [
    "Changes took place without errors as can be seen for example `Retrievers (Chesapeake Bay)` changed to `Chesapeake Bay Retrievers` and also `Retrievers (Curly-Coated)` changed to `Curly-Coated Retrievers`."
   ]
  },
  {
   "cell_type": "code",
   "execution_count": 22,
   "id": "d151149b",
   "metadata": {},
   "outputs": [],
   "source": [
    "#Resolving Problem B\n",
    "\n",
    "breed_without_s = []\n",
    "for breed in dog_weight['Breed']:\n",
    "    if breed[-1] != 's':\n",
    "        breed_without_s.append(breed)\n",
    "    else:\n",
    "        without_s = breed[0: len(breed)-1]\n",
    "        breed_without_s.append(without_s)\n",
    "\n",
    "#Using the breed_without_s list as the new Breed column\n",
    "dog_weight['Breed'] = breed_without_s"
   ]
  },
  {
   "cell_type": "code",
   "execution_count": 23,
   "id": "3ce1c106",
   "metadata": {},
   "outputs": [
    {
     "data": {
      "text/plain": [
       "0                    Affenpinscher\n",
       "1                     Afghan Hound\n",
       "2                 Airedale Terrier\n",
       "3                            Akita\n",
       "4                 Alaskan Malamute\n",
       "                  ...             \n",
       "184                        Whippet\n",
       "185    Wirehaired Pointing Griffon\n",
       "186              Wirehaired Vizsla\n",
       "187                 Xoloitzcuintli\n",
       "188              Yorkshire Terrier\n",
       "Name: Breed, Length: 189, dtype: object"
      ]
     },
     "execution_count": 23,
     "metadata": {},
     "output_type": "execute_result"
    }
   ],
   "source": [
    "#Checking if changes took place\n",
    "dog_weight['Breed']"
   ]
  },
  {
   "cell_type": "markdown",
   "id": "9533fc69",
   "metadata": {},
   "source": [
    "All breeds with the letter `s` at the ending have been dropped without errors."
   ]
  },
  {
   "cell_type": "code",
   "execution_count": 24,
   "id": "c2792392",
   "metadata": {},
   "outputs": [
    {
     "data": {
      "text/html": [
       "<div>\n",
       "<style scoped>\n",
       "    .dataframe tbody tr th:only-of-type {\n",
       "        vertical-align: middle;\n",
       "    }\n",
       "\n",
       "    .dataframe tbody tr th {\n",
       "        vertical-align: top;\n",
       "    }\n",
       "\n",
       "    .dataframe thead th {\n",
       "        text-align: right;\n",
       "    }\n",
       "</style>\n",
       "<table border=\"1\" class=\"dataframe\">\n",
       "  <thead>\n",
       "    <tr style=\"text-align: right;\">\n",
       "      <th></th>\n",
       "      <th>Breed</th>\n",
       "      <th>Classification</th>\n",
       "      <th>Obey_Rate</th>\n",
       "      <th>Lower_Reps</th>\n",
       "      <th>Upper_Reps</th>\n",
       "      <th>Weight Male</th>\n",
       "      <th>Weight Female</th>\n",
       "    </tr>\n",
       "  </thead>\n",
       "  <tbody>\n",
       "    <tr>\n",
       "      <th>0</th>\n",
       "      <td>Border Collie</td>\n",
       "      <td>Brightest Dogs</td>\n",
       "      <td>95%</td>\n",
       "      <td>1</td>\n",
       "      <td>4</td>\n",
       "      <td>30-55 pounds</td>\n",
       "      <td>30-55 pounds</td>\n",
       "    </tr>\n",
       "    <tr>\n",
       "      <th>1</th>\n",
       "      <td>Poodle</td>\n",
       "      <td>Brightest Dogs</td>\n",
       "      <td>95%</td>\n",
       "      <td>1</td>\n",
       "      <td>4</td>\n",
       "      <td>4-6 pounds (toy), 10-15 pounds (miniature), 60...</td>\n",
       "      <td>4-6 pounds (toy), 10-15 pounds (miniature), 40...</td>\n",
       "    </tr>\n",
       "    <tr>\n",
       "      <th>2</th>\n",
       "      <td>Golden Retriever</td>\n",
       "      <td>Brightest Dogs</td>\n",
       "      <td>95%</td>\n",
       "      <td>1</td>\n",
       "      <td>4</td>\n",
       "      <td>65-75 pounds</td>\n",
       "      <td>55-65 pounds</td>\n",
       "    </tr>\n",
       "    <tr>\n",
       "      <th>3</th>\n",
       "      <td>Doberman Pinscher</td>\n",
       "      <td>Brightest Dogs</td>\n",
       "      <td>95%</td>\n",
       "      <td>1</td>\n",
       "      <td>4</td>\n",
       "      <td>75-100 pounds</td>\n",
       "      <td>60-90 pounds</td>\n",
       "    </tr>\n",
       "    <tr>\n",
       "      <th>4</th>\n",
       "      <td>Shetland Sheepdog</td>\n",
       "      <td>Brightest Dogs</td>\n",
       "      <td>95%</td>\n",
       "      <td>1</td>\n",
       "      <td>4</td>\n",
       "      <td>15-25 pounds</td>\n",
       "      <td>15-25 pounds</td>\n",
       "    </tr>\n",
       "  </tbody>\n",
       "</table>\n",
       "</div>"
      ],
      "text/plain": [
       "               Breed  Classification Obey_Rate  Lower_Reps  Upper_Reps  \\\n",
       "0      Border Collie  Brightest Dogs       95%           1           4   \n",
       "1             Poodle  Brightest Dogs       95%           1           4   \n",
       "2   Golden Retriever  Brightest Dogs       95%           1           4   \n",
       "3  Doberman Pinscher  Brightest Dogs       95%           1           4   \n",
       "4  Shetland Sheepdog  Brightest Dogs       95%           1           4   \n",
       "\n",
       "                                         Weight Male  \\\n",
       "0                                       30-55 pounds   \n",
       "1  4-6 pounds (toy), 10-15 pounds (miniature), 60...   \n",
       "2                                       65-75 pounds   \n",
       "3                                      75-100 pounds   \n",
       "4                                       15-25 pounds   \n",
       "\n",
       "                                       Weight Female  \n",
       "0                                       30-55 pounds  \n",
       "1  4-6 pounds (toy), 10-15 pounds (miniature), 40...  \n",
       "2                                       55-65 pounds  \n",
       "3                                       60-90 pounds  \n",
       "4                                       15-25 pounds  "
      ]
     },
     "execution_count": 24,
     "metadata": {},
     "output_type": "execute_result"
    }
   ],
   "source": [
    "#Merging the dataframes again to see if eeverything is covered.\n",
    "\n",
    "dog_intel_weight = dog_intel.merge(dog_weight, on  = 'Breed')\n",
    "dog_intel_weight.head()"
   ]
  },
  {
   "cell_type": "code",
   "execution_count": 25,
   "id": "b8891e7c",
   "metadata": {},
   "outputs": [
    {
     "name": "stdout",
     "output_type": "stream",
     "text": [
      "<class 'pandas.core.frame.DataFrame'>\n",
      "Int64Index: 115 entries, 0 to 114\n",
      "Data columns (total 7 columns):\n",
      " #   Column          Non-Null Count  Dtype \n",
      "---  ------          --------------  ----- \n",
      " 0   Breed           115 non-null    object\n",
      " 1   Classification  115 non-null    object\n",
      " 2   Obey_Rate       115 non-null    object\n",
      " 3   Lower_Reps      115 non-null    int64 \n",
      " 4   Upper_Reps      115 non-null    int64 \n",
      " 5   Weight Male     115 non-null    object\n",
      " 6   Weight Female   115 non-null    object\n",
      "dtypes: int64(2), object(5)\n",
      "memory usage: 7.2+ KB\n"
     ]
    }
   ],
   "source": [
    "dog_intel_weight.info()"
   ]
  },
  {
   "cell_type": "markdown",
   "id": "61103f41",
   "metadata": {},
   "source": [
    "To really be sure if the merge worked as expected, the `Breed` column the intelligence dataframe will be compared to the `Breed` column of the merged dataframes. This would be done by finding the difference between them. This difference will be compared to the `Breed` column in the weight dataframe and the differences in the weight dataframe changed to suit it. This is to solve problem C"
   ]
  },
  {
   "cell_type": "code",
   "execution_count": 26,
   "id": "62d98680",
   "metadata": {},
   "outputs": [
    {
     "name": "stdout",
     "output_type": "stream",
     "text": [
      "{'Keeshond', 'Cocker Spaniel', 'Saint Bernard', 'Belgian Shepherd Dog (Tervuren)', 'Kuvasz', 'Puli', 'Belgian Malinois', 'German Shepherd', 'Bichon Frise', 'Curly Coated Retriever', 'Jack Russell terrier', 'Siberian Husky', 'King Charles Spaniel', 'Bouvier des Flandres', 'Great Pyrenees', 'Chinese Shar Pei', 'Soft-coated Wheaten Terrier', 'Australian Silky Terrier', 'Petit Basset Griffon Vendeen', 'Fox Terrier (Smooth)', 'Griffon Bruxellois'}\n"
     ]
    }
   ],
   "source": [
    "#Differences between the dog_intel data and dog_intel_weight data\n",
    "\n",
    "difference = set(dog_intel['Breed']).difference(set(dog_intel_weight['Breed']))\n",
    "print(difference)"
   ]
  },
  {
   "cell_type": "markdown",
   "id": "5e9b6eb7",
   "metadata": {},
   "source": [
    "These are the breeds present in the intelligence dataframe and not in the merge. This is because these breeds are represented differently in the weight dataframe. It is now time to find those differences and change them to match the ones above. Since the difference is a just a handfull the comparison can be done by meticulous visual inspection. "
   ]
  },
  {
   "cell_type": "code",
   "execution_count": 27,
   "id": "c4dbd8ca",
   "metadata": {},
   "outputs": [],
   "source": [
    "# Performing the remaining replacements in the weight dataframe\n",
    "dog_weight['Breed'].replace('German Shepherd Dog', 'German Shepherd', inplace = True)\n",
    "dog_weight['Breed'].replace('Belgian Tervuren', 'Belgian Shepherd Dog (Tervuren)', inplace = True)\n",
    "dog_weight['Breed'].replace('Keeshonden', 'Keeshond', inplace = True)\n",
    "dog_weight['Breed'].replace('Belgian Malinoi', 'Belgian Malinois', inplace = True)\n",
    "dog_weight['Breed'].replace('Pulik', 'Puli', inplace = True)\n",
    "dog_weight['Breed'].replace('Bouviers des Flandre', 'Bouvier des Flandres', inplace = True)\n",
    "dog_weight['Breed'].replace('Australian Terrier', 'Australian Silky Terrier', inplace = True)\n",
    "dog_weight['Breed'].replace('Silky Terrier', 'Australian Silky Terrier', inplace = True)\n",
    "dog_weight['Breed'].replace('Soft Coated Wheaten Terrier', 'Soft-coated Wheaten Terrier', inplace = True)\n",
    "dog_weight['Breed'].replace('Smooth Fox Terrier', 'Fox Terrier (Smooth)', inplace = True)\n",
    "dog_weight['Breed'].replace('Curly-Coated Retriever', 'Curly Coated Retriever', inplace = True)\n",
    "dog_weight['Breed'].replace('Kuvaszok', 'Kuvasz', inplace = True)\n",
    "dog_weight['Breed'].replace('Siberian Huskie', 'Siberian Husky', inplace = True)\n",
    "dog_weight['Breed'].replace('Bichons Frise', 'Bichon Frise', inplace = True)\n",
    "dog_weight['Breed'].replace('Russell Terrier', 'Jack Russell terrier', inplace = True)\n",
    "dog_weight['Breed'].replace('Chinese Shar-Pei', 'Chinese Shar Pei', inplace = True)\n",
    "dog_weight['Breed'].replace('Brussels Griffon', 'Griffon Bruxellois', inplace = True)\n",
    "dog_weight['Breed'].replace('Petits Bassets Griffons Vendeen', 'Petit Basset Griffon Vendeen', inplace = True)\n",
    "dog_weight['Breed'].replace('Great Pyrenee', 'Great Pyrenees', inplace = True)\n",
    "dog_weight['Breed'].replace('St. Bernard', 'Saint Bernard', inplace = True)"
   ]
  },
  {
   "cell_type": "markdown",
   "id": "f8af2caa",
   "metadata": {},
   "source": [
    "Now that most of the neccessary changes have been handled, the dataframes will be merged again and the differences checked again to see if something is left out."
   ]
  },
  {
   "cell_type": "code",
   "execution_count": 28,
   "id": "f42ee463",
   "metadata": {},
   "outputs": [
    {
     "data": {
      "text/html": [
       "<div>\n",
       "<style scoped>\n",
       "    .dataframe tbody tr th:only-of-type {\n",
       "        vertical-align: middle;\n",
       "    }\n",
       "\n",
       "    .dataframe tbody tr th {\n",
       "        vertical-align: top;\n",
       "    }\n",
       "\n",
       "    .dataframe thead th {\n",
       "        text-align: right;\n",
       "    }\n",
       "</style>\n",
       "<table border=\"1\" class=\"dataframe\">\n",
       "  <thead>\n",
       "    <tr style=\"text-align: right;\">\n",
       "      <th></th>\n",
       "      <th>Breed</th>\n",
       "      <th>Classification</th>\n",
       "      <th>Obey_Rate</th>\n",
       "      <th>Lower_Reps</th>\n",
       "      <th>Upper_Reps</th>\n",
       "      <th>Weight Male</th>\n",
       "      <th>Weight Female</th>\n",
       "    </tr>\n",
       "  </thead>\n",
       "  <tbody>\n",
       "    <tr>\n",
       "      <th>0</th>\n",
       "      <td>Border Collie</td>\n",
       "      <td>Brightest Dogs</td>\n",
       "      <td>95%</td>\n",
       "      <td>1</td>\n",
       "      <td>4</td>\n",
       "      <td>30-55 pounds</td>\n",
       "      <td>30-55 pounds</td>\n",
       "    </tr>\n",
       "    <tr>\n",
       "      <th>1</th>\n",
       "      <td>Poodle</td>\n",
       "      <td>Brightest Dogs</td>\n",
       "      <td>95%</td>\n",
       "      <td>1</td>\n",
       "      <td>4</td>\n",
       "      <td>4-6 pounds (toy), 10-15 pounds (miniature), 60...</td>\n",
       "      <td>4-6 pounds (toy), 10-15 pounds (miniature), 40...</td>\n",
       "    </tr>\n",
       "    <tr>\n",
       "      <th>2</th>\n",
       "      <td>German Shepherd</td>\n",
       "      <td>Brightest Dogs</td>\n",
       "      <td>95%</td>\n",
       "      <td>1</td>\n",
       "      <td>4</td>\n",
       "      <td>65-90 pounds</td>\n",
       "      <td>50-70 pounds</td>\n",
       "    </tr>\n",
       "    <tr>\n",
       "      <th>3</th>\n",
       "      <td>Golden Retriever</td>\n",
       "      <td>Brightest Dogs</td>\n",
       "      <td>95%</td>\n",
       "      <td>1</td>\n",
       "      <td>4</td>\n",
       "      <td>65-75 pounds</td>\n",
       "      <td>55-65 pounds</td>\n",
       "    </tr>\n",
       "    <tr>\n",
       "      <th>4</th>\n",
       "      <td>Doberman Pinscher</td>\n",
       "      <td>Brightest Dogs</td>\n",
       "      <td>95%</td>\n",
       "      <td>1</td>\n",
       "      <td>4</td>\n",
       "      <td>75-100 pounds</td>\n",
       "      <td>60-90 pounds</td>\n",
       "    </tr>\n",
       "  </tbody>\n",
       "</table>\n",
       "</div>"
      ],
      "text/plain": [
       "               Breed  Classification Obey_Rate  Lower_Reps  Upper_Reps  \\\n",
       "0      Border Collie  Brightest Dogs       95%           1           4   \n",
       "1             Poodle  Brightest Dogs       95%           1           4   \n",
       "2    German Shepherd  Brightest Dogs       95%           1           4   \n",
       "3   Golden Retriever  Brightest Dogs       95%           1           4   \n",
       "4  Doberman Pinscher  Brightest Dogs       95%           1           4   \n",
       "\n",
       "                                         Weight Male  \\\n",
       "0                                       30-55 pounds   \n",
       "1  4-6 pounds (toy), 10-15 pounds (miniature), 60...   \n",
       "2                                       65-90 pounds   \n",
       "3                                       65-75 pounds   \n",
       "4                                      75-100 pounds   \n",
       "\n",
       "                                       Weight Female  \n",
       "0                                       30-55 pounds  \n",
       "1  4-6 pounds (toy), 10-15 pounds (miniature), 40...  \n",
       "2                                       50-70 pounds  \n",
       "3                                       55-65 pounds  \n",
       "4                                       60-90 pounds  "
      ]
     },
     "execution_count": 28,
     "metadata": {},
     "output_type": "execute_result"
    }
   ],
   "source": [
    "dog_intel_weight = dog_intel.merge(dog_weight, on  = 'Breed')\n",
    "dog_intel_weight.head()"
   ]
  },
  {
   "cell_type": "code",
   "execution_count": 29,
   "id": "ab3015db",
   "metadata": {},
   "outputs": [
    {
     "name": "stdout",
     "output_type": "stream",
     "text": [
      "{'Australian Terrier', 'King Charles Spaniel', 'Cocker Spaniel'}\n"
     ]
    }
   ],
   "source": [
    "difference = set(dog_intel['Breed']).difference(set(dog_intel_weight['Breed']))\n",
    "print(difference)"
   ]
  },
  {
   "cell_type": "markdown",
   "id": "de4158bc",
   "metadata": {},
   "source": [
    "The remaining breeds that did not match is because of the following:\n",
    "- The `dog_weight` dataframe has no information on the `Cocker Spaniel`, `King Charles Spaniel Breed` and the `Australian Terrier` breeds.\n",
    "- Since this in an inner join, the join only deals with values present in joining columns of both dataframes and leaves out unmatching values."
   ]
  },
  {
   "cell_type": "code",
   "execution_count": 30,
   "id": "1b50a22b",
   "metadata": {},
   "outputs": [
    {
     "name": "stdout",
     "output_type": "stream",
     "text": [
      "<class 'pandas.core.frame.DataFrame'>\n",
      "Int64Index: 134 entries, 0 to 133\n",
      "Data columns (total 7 columns):\n",
      " #   Column          Non-Null Count  Dtype \n",
      "---  ------          --------------  ----- \n",
      " 0   Breed           134 non-null    object\n",
      " 1   Classification  134 non-null    object\n",
      " 2   Obey_Rate       134 non-null    object\n",
      " 3   Lower_Reps      134 non-null    int64 \n",
      " 4   Upper_Reps      134 non-null    int64 \n",
      " 5   Weight Male     134 non-null    object\n",
      " 6   Weight Female   134 non-null    object\n",
      "dtypes: int64(2), object(5)\n",
      "memory usage: 8.4+ KB\n"
     ]
    }
   ],
   "source": [
    "#Inspecting the merged dataframe\n",
    "\n",
    "dog_intel_weight.info()"
   ]
  },
  {
   "cell_type": "markdown",
   "id": "ced7e553",
   "metadata": {},
   "source": [
    "A proper merge has been achieved after going through the steps above. It is now time to bring in the last dataset. The popularity dataset. "
   ]
  },
  {
   "cell_type": "code",
   "execution_count": 31,
   "id": "008648f0",
   "metadata": {},
   "outputs": [],
   "source": [
    "#Loading the popularity data into a dataframe\n",
    "\n",
    "popularity = pd.read_csv('data/breedpopularity.csv')"
   ]
  },
  {
   "cell_type": "code",
   "execution_count": 32,
   "id": "c945e3ee",
   "metadata": {},
   "outputs": [
    {
     "data": {
      "text/html": [
       "<div>\n",
       "<style scoped>\n",
       "    .dataframe tbody tr th:only-of-type {\n",
       "        vertical-align: middle;\n",
       "    }\n",
       "\n",
       "    .dataframe tbody tr th {\n",
       "        vertical-align: top;\n",
       "    }\n",
       "\n",
       "    .dataframe thead th {\n",
       "        text-align: right;\n",
       "    }\n",
       "</style>\n",
       "<table border=\"1\" class=\"dataframe\">\n",
       "  <thead>\n",
       "    <tr style=\"text-align: right;\">\n",
       "      <th></th>\n",
       "      <th>Breed</th>\n",
       "      <th>2018 Rank</th>\n",
       "      <th>2017 Rank</th>\n",
       "      <th>2016 Rank</th>\n",
       "      <th>2015 Rank</th>\n",
       "      <th>2014 Rank</th>\n",
       "    </tr>\n",
       "  </thead>\n",
       "  <tbody>\n",
       "    <tr>\n",
       "      <th>0</th>\n",
       "      <td>Labrador Retrievers</td>\n",
       "      <td>1</td>\n",
       "      <td>1.0</td>\n",
       "      <td>1.0</td>\n",
       "      <td>1.0</td>\n",
       "      <td>1.0</td>\n",
       "    </tr>\n",
       "    <tr>\n",
       "      <th>1</th>\n",
       "      <td>German Shepherd Dogs</td>\n",
       "      <td>2</td>\n",
       "      <td>2.0</td>\n",
       "      <td>2.0</td>\n",
       "      <td>2.0</td>\n",
       "      <td>2.0</td>\n",
       "    </tr>\n",
       "    <tr>\n",
       "      <th>2</th>\n",
       "      <td>Golden Retrievers</td>\n",
       "      <td>3</td>\n",
       "      <td>3.0</td>\n",
       "      <td>3.0</td>\n",
       "      <td>3.0</td>\n",
       "      <td>3.0</td>\n",
       "    </tr>\n",
       "    <tr>\n",
       "      <th>3</th>\n",
       "      <td>French Bulldogs</td>\n",
       "      <td>4</td>\n",
       "      <td>4.0</td>\n",
       "      <td>6.0</td>\n",
       "      <td>6.0</td>\n",
       "      <td>9.0</td>\n",
       "    </tr>\n",
       "    <tr>\n",
       "      <th>4</th>\n",
       "      <td>Bulldogs</td>\n",
       "      <td>5</td>\n",
       "      <td>5.0</td>\n",
       "      <td>4.0</td>\n",
       "      <td>4.0</td>\n",
       "      <td>4.0</td>\n",
       "    </tr>\n",
       "  </tbody>\n",
       "</table>\n",
       "</div>"
      ],
      "text/plain": [
       "                  Breed  2018 Rank  2017 Rank  2016 Rank  2015 Rank  2014 Rank\n",
       "0   Labrador Retrievers          1        1.0        1.0        1.0        1.0\n",
       "1  German Shepherd Dogs          2        2.0        2.0        2.0        2.0\n",
       "2     Golden Retrievers          3        3.0        3.0        3.0        3.0\n",
       "3       French Bulldogs          4        4.0        6.0        6.0        9.0\n",
       "4              Bulldogs          5        5.0        4.0        4.0        4.0"
      ]
     },
     "execution_count": 32,
     "metadata": {},
     "output_type": "execute_result"
    }
   ],
   "source": [
    "popularity.head()"
   ]
  },
  {
   "cell_type": "code",
   "execution_count": 33,
   "id": "feed71a7",
   "metadata": {},
   "outputs": [
    {
     "name": "stdout",
     "output_type": "stream",
     "text": [
      "<class 'pandas.core.frame.DataFrame'>\n",
      "RangeIndex: 192 entries, 0 to 191\n",
      "Data columns (total 6 columns):\n",
      " #   Column     Non-Null Count  Dtype  \n",
      "---  ------     --------------  -----  \n",
      " 0   Breed      192 non-null    object \n",
      " 1   2018 Rank  192 non-null    int64  \n",
      " 2   2017 Rank  190 non-null    float64\n",
      " 3   2016 Rank  189 non-null    float64\n",
      " 4   2015 Rank  184 non-null    float64\n",
      " 5   2014 Rank  184 non-null    float64\n",
      "dtypes: float64(4), int64(1), object(1)\n",
      "memory usage: 9.1+ KB\n"
     ]
    }
   ],
   "source": [
    "popularity.info()"
   ]
  },
  {
   "cell_type": "code",
   "execution_count": 34,
   "id": "3bf4279b",
   "metadata": {},
   "outputs": [
    {
     "data": {
      "text/plain": [
       "Breed        0\n",
       "2018 Rank    0\n",
       "2017 Rank    2\n",
       "2016 Rank    3\n",
       "2015 Rank    8\n",
       "2014 Rank    8\n",
       "dtype: int64"
      ]
     },
     "execution_count": 34,
     "metadata": {},
     "output_type": "execute_result"
    }
   ],
   "source": [
    "#investigating null values\n",
    "popularity.isna().sum()"
   ]
  },
  {
   "cell_type": "markdown",
   "id": "8cf62e81",
   "metadata": {},
   "source": [
    "Looking at the `Breed` column in the popularity dataframe it can be seen that the breeds have been pluralised `(Problem B)`. Since this dataframe will also be merged with the `dog_intel_weight` dataframe the breed names must be made single."
   ]
  },
  {
   "cell_type": "code",
   "execution_count": 35,
   "id": "e7c5ff74",
   "metadata": {},
   "outputs": [],
   "source": [
    "breed_without_s = []\n",
    "for breed in popularity['Breed']:\n",
    "    if breed[-1] != 's':\n",
    "        breed_without_s.append(breed)\n",
    "    else:\n",
    "        without_s = breed[0: len(breed)-1]\n",
    "        breed_without_s.append(without_s)\n",
    "\n",
    "#Using the breed_without_s list as the new Breed column\n",
    "popularity['Breed'] = breed_without_s"
   ]
  },
  {
   "cell_type": "code",
   "execution_count": 36,
   "id": "eeb02b9e",
   "metadata": {},
   "outputs": [
    {
     "data": {
      "text/plain": [
       "0       Labrador Retriever\n",
       "1      German Shepherd Dog\n",
       "2         Golden Retriever\n",
       "3           French Bulldog\n",
       "4                  Bulldog\n",
       "              ...         \n",
       "187       English Foxhound\n",
       "188                Harrier\n",
       "189                Chinook\n",
       "190    Norwegian Lundehund\n",
       "191                Sloughi\n",
       "Name: Breed, Length: 192, dtype: object"
      ]
     },
     "execution_count": 36,
     "metadata": {},
     "output_type": "execute_result"
    }
   ],
   "source": [
    "#Verifying changes\n",
    "popularity['Breed']"
   ]
  },
  {
   "cell_type": "code",
   "execution_count": 37,
   "id": "ad4a5982",
   "metadata": {},
   "outputs": [
    {
     "data": {
      "text/html": [
       "<div>\n",
       "<style scoped>\n",
       "    .dataframe tbody tr th:only-of-type {\n",
       "        vertical-align: middle;\n",
       "    }\n",
       "\n",
       "    .dataframe tbody tr th {\n",
       "        vertical-align: top;\n",
       "    }\n",
       "\n",
       "    .dataframe thead th {\n",
       "        text-align: right;\n",
       "    }\n",
       "</style>\n",
       "<table border=\"1\" class=\"dataframe\">\n",
       "  <thead>\n",
       "    <tr style=\"text-align: right;\">\n",
       "      <th></th>\n",
       "      <th>Breed</th>\n",
       "      <th>Classification</th>\n",
       "      <th>Obey_Rate</th>\n",
       "      <th>Lower_Reps</th>\n",
       "      <th>Upper_Reps</th>\n",
       "      <th>Weight Male</th>\n",
       "      <th>Weight Female</th>\n",
       "      <th>2018 Rank</th>\n",
       "      <th>2017 Rank</th>\n",
       "      <th>2016 Rank</th>\n",
       "      <th>2015 Rank</th>\n",
       "      <th>2014 Rank</th>\n",
       "    </tr>\n",
       "  </thead>\n",
       "  <tbody>\n",
       "    <tr>\n",
       "      <th>0</th>\n",
       "      <td>Border Collie</td>\n",
       "      <td>Brightest Dogs</td>\n",
       "      <td>95%</td>\n",
       "      <td>1</td>\n",
       "      <td>4</td>\n",
       "      <td>30-55 pounds</td>\n",
       "      <td>30-55 pounds</td>\n",
       "      <td>35</td>\n",
       "      <td>38.0</td>\n",
       "      <td>38.0</td>\n",
       "      <td>38.0</td>\n",
       "      <td>38.0</td>\n",
       "    </tr>\n",
       "    <tr>\n",
       "      <th>1</th>\n",
       "      <td>Poodle</td>\n",
       "      <td>Brightest Dogs</td>\n",
       "      <td>95%</td>\n",
       "      <td>1</td>\n",
       "      <td>4</td>\n",
       "      <td>4-6 pounds (toy), 10-15 pounds (miniature), 60...</td>\n",
       "      <td>4-6 pounds (toy), 10-15 pounds (miniature), 40...</td>\n",
       "      <td>7</td>\n",
       "      <td>7.0</td>\n",
       "      <td>7.0</td>\n",
       "      <td>8.0</td>\n",
       "      <td>7.0</td>\n",
       "    </tr>\n",
       "    <tr>\n",
       "      <th>2</th>\n",
       "      <td>Golden Retriever</td>\n",
       "      <td>Brightest Dogs</td>\n",
       "      <td>95%</td>\n",
       "      <td>1</td>\n",
       "      <td>4</td>\n",
       "      <td>65-75 pounds</td>\n",
       "      <td>55-65 pounds</td>\n",
       "      <td>3</td>\n",
       "      <td>3.0</td>\n",
       "      <td>3.0</td>\n",
       "      <td>3.0</td>\n",
       "      <td>3.0</td>\n",
       "    </tr>\n",
       "    <tr>\n",
       "      <th>3</th>\n",
       "      <td>Doberman Pinscher</td>\n",
       "      <td>Brightest Dogs</td>\n",
       "      <td>95%</td>\n",
       "      <td>1</td>\n",
       "      <td>4</td>\n",
       "      <td>75-100 pounds</td>\n",
       "      <td>60-90 pounds</td>\n",
       "      <td>17</td>\n",
       "      <td>16.0</td>\n",
       "      <td>15.0</td>\n",
       "      <td>14.0</td>\n",
       "      <td>14.0</td>\n",
       "    </tr>\n",
       "    <tr>\n",
       "      <th>4</th>\n",
       "      <td>Shetland Sheepdog</td>\n",
       "      <td>Brightest Dogs</td>\n",
       "      <td>95%</td>\n",
       "      <td>1</td>\n",
       "      <td>4</td>\n",
       "      <td>15-25 pounds</td>\n",
       "      <td>15-25 pounds</td>\n",
       "      <td>25</td>\n",
       "      <td>24.0</td>\n",
       "      <td>24.0</td>\n",
       "      <td>23.0</td>\n",
       "      <td>21.0</td>\n",
       "    </tr>\n",
       "  </tbody>\n",
       "</table>\n",
       "</div>"
      ],
      "text/plain": [
       "               Breed  Classification Obey_Rate  Lower_Reps  Upper_Reps  \\\n",
       "0      Border Collie  Brightest Dogs       95%           1           4   \n",
       "1             Poodle  Brightest Dogs       95%           1           4   \n",
       "2   Golden Retriever  Brightest Dogs       95%           1           4   \n",
       "3  Doberman Pinscher  Brightest Dogs       95%           1           4   \n",
       "4  Shetland Sheepdog  Brightest Dogs       95%           1           4   \n",
       "\n",
       "                                         Weight Male  \\\n",
       "0                                       30-55 pounds   \n",
       "1  4-6 pounds (toy), 10-15 pounds (miniature), 60...   \n",
       "2                                       65-75 pounds   \n",
       "3                                      75-100 pounds   \n",
       "4                                       15-25 pounds   \n",
       "\n",
       "                                       Weight Female  2018 Rank  2017 Rank  \\\n",
       "0                                       30-55 pounds         35       38.0   \n",
       "1  4-6 pounds (toy), 10-15 pounds (miniature), 40...          7        7.0   \n",
       "2                                       55-65 pounds          3        3.0   \n",
       "3                                       60-90 pounds         17       16.0   \n",
       "4                                       15-25 pounds         25       24.0   \n",
       "\n",
       "   2016 Rank  2015 Rank  2014 Rank  \n",
       "0       38.0       38.0       38.0  \n",
       "1        7.0        8.0        7.0  \n",
       "2        3.0        3.0        3.0  \n",
       "3       15.0       14.0       14.0  \n",
       "4       24.0       23.0       21.0  "
      ]
     },
     "execution_count": 37,
     "metadata": {},
     "output_type": "execute_result"
    }
   ],
   "source": [
    "#Merging the popularity data on the dog_intel_weight data\n",
    "\n",
    "final_data = dog_intel_weight.merge(popularity, on = 'Breed')\n",
    "final_data.head()"
   ]
  },
  {
   "cell_type": "code",
   "execution_count": 38,
   "id": "40e2d986",
   "metadata": {},
   "outputs": [
    {
     "data": {
      "text/plain": [
       "['German Shepherd',\n",
       " 'Great Pyrenees',\n",
       " 'Soft-coated Wheaten Terrier',\n",
       " 'Griffon Bruxellois',\n",
       " 'Belgian Shepherd Dog (Tervuren)',\n",
       " 'Curly Coated Retriever',\n",
       " 'Chinese Shar Pei',\n",
       " 'Keeshond',\n",
       " 'Kuvasz',\n",
       " 'Siberian Husky',\n",
       " 'Australian Silky Terrier',\n",
       " 'Fox Terrier (Smooth)',\n",
       " 'Pharaoh Hound',\n",
       " 'Bouvier des Flandres',\n",
       " 'Jack Russell terrier',\n",
       " 'Puli',\n",
       " 'Saint Bernard',\n",
       " 'Belgian Malinois']"
      ]
     },
     "execution_count": 38,
     "metadata": {},
     "output_type": "execute_result"
    }
   ],
   "source": [
    "#Differences between the breed column in dog_intel_weight and popularity\n",
    "\n",
    "diff = list(set(dog_intel_weight['Breed']).difference(set(popularity['Breed'])))\n",
    "diff"
   ]
  },
  {
   "cell_type": "markdown",
   "id": "d99f135d",
   "metadata": {},
   "source": [
    "These breeds are present in the `dog_intel_weight` dataframe but not in the `popularity` dataframe. Now, the breeds in the `popularity` dataframe can be compared to these and changes can be made manually."
   ]
  },
  {
   "cell_type": "code",
   "execution_count": 40,
   "id": "d09bbc18",
   "metadata": {},
   "outputs": [
    {
     "data": {
      "text/html": [
       "<div>\n",
       "<style scoped>\n",
       "    .dataframe tbody tr th:only-of-type {\n",
       "        vertical-align: middle;\n",
       "    }\n",
       "\n",
       "    .dataframe tbody tr th {\n",
       "        vertical-align: top;\n",
       "    }\n",
       "\n",
       "    .dataframe thead th {\n",
       "        text-align: right;\n",
       "    }\n",
       "</style>\n",
       "<table border=\"1\" class=\"dataframe\">\n",
       "  <thead>\n",
       "    <tr style=\"text-align: right;\">\n",
       "      <th></th>\n",
       "      <th>Breed</th>\n",
       "      <th>2018 Rank</th>\n",
       "      <th>2017 Rank</th>\n",
       "      <th>2016 Rank</th>\n",
       "      <th>2015 Rank</th>\n",
       "      <th>2014 Rank</th>\n",
       "    </tr>\n",
       "  </thead>\n",
       "  <tbody>\n",
       "    <tr>\n",
       "      <th>13</th>\n",
       "      <td>Siberian Huskie</td>\n",
       "      <td>14</td>\n",
       "      <td>12.0</td>\n",
       "      <td>12.0</td>\n",
       "      <td>12.0</td>\n",
       "      <td>13.0</td>\n",
       "    </tr>\n",
       "  </tbody>\n",
       "</table>\n",
       "</div>"
      ],
      "text/plain": [
       "              Breed  2018 Rank  2017 Rank  2016 Rank  2015 Rank  2014 Rank\n",
       "13  Siberian Huskie         14       12.0       12.0       12.0       13.0"
      ]
     },
     "execution_count": 40,
     "metadata": {},
     "output_type": "execute_result"
    }
   ],
   "source": [
    "popularity[popularity[\"Breed\"].str.contains('Siberian')]"
   ]
  },
  {
   "cell_type": "markdown",
   "id": "131e534f",
   "metadata": {},
   "source": [
    "Consider the row above from the popularity dataframe, it can be observed that, the breed `Siberian Huskie` lost the letter `s` when the breed names were singularized in a previous manipulation. Leaving it unable to match any row in the `dog_intel_weight` dataframe. The breed here, should be replaced with `Siberian Husky` in the `popularity` dataframe. "
   ]
  },
  {
   "cell_type": "code",
   "execution_count": 41,
   "id": "2295daee",
   "metadata": {},
   "outputs": [
    {
     "data": {
      "text/html": [
       "<div>\n",
       "<style scoped>\n",
       "    .dataframe tbody tr th:only-of-type {\n",
       "        vertical-align: middle;\n",
       "    }\n",
       "\n",
       "    .dataframe tbody tr th {\n",
       "        vertical-align: top;\n",
       "    }\n",
       "\n",
       "    .dataframe thead th {\n",
       "        text-align: right;\n",
       "    }\n",
       "</style>\n",
       "<table border=\"1\" class=\"dataframe\">\n",
       "  <thead>\n",
       "    <tr style=\"text-align: right;\">\n",
       "      <th></th>\n",
       "      <th>Breed</th>\n",
       "      <th>2018 Rank</th>\n",
       "      <th>2017 Rank</th>\n",
       "      <th>2016 Rank</th>\n",
       "      <th>2015 Rank</th>\n",
       "      <th>2014 Rank</th>\n",
       "    </tr>\n",
       "  </thead>\n",
       "  <tbody>\n",
       "    <tr>\n",
       "      <th>63</th>\n",
       "      <td>Chinese Shar-Pei</td>\n",
       "      <td>64</td>\n",
       "      <td>64.0</td>\n",
       "      <td>61.0</td>\n",
       "      <td>59.0</td>\n",
       "      <td>58.0</td>\n",
       "    </tr>\n",
       "    <tr>\n",
       "      <th>78</th>\n",
       "      <td>Chinese Crested</td>\n",
       "      <td>79</td>\n",
       "      <td>79.0</td>\n",
       "      <td>77.0</td>\n",
       "      <td>75.0</td>\n",
       "      <td>65.0</td>\n",
       "    </tr>\n",
       "  </tbody>\n",
       "</table>\n",
       "</div>"
      ],
      "text/plain": [
       "               Breed  2018 Rank  2017 Rank  2016 Rank  2015 Rank  2014 Rank\n",
       "63  Chinese Shar-Pei         64       64.0       61.0       59.0       58.0\n",
       "78   Chinese Crested         79       79.0       77.0       75.0       65.0"
      ]
     },
     "execution_count": 41,
     "metadata": {},
     "output_type": "execute_result"
    }
   ],
   "source": [
    "popularity[popularity['Breed'].str.contains('Chinese')]"
   ]
  },
  {
   "cell_type": "markdown",
   "id": "657973a5",
   "metadata": {},
   "source": [
    "Looking at the rows above specifically the one at index 63, the `Chinese Shar-Pei` breed is coded as `Chinese Shar Pei` in the `dog_intel_weight` dataframe. The rest of breeds can be investigated as the previous ones and manually changed since the number of rows involved is not too much to handle manually."
   ]
  },
  {
   "cell_type": "code",
   "execution_count": 42,
   "id": "54f8cbaa",
   "metadata": {},
   "outputs": [],
   "source": [
    "#Performing the remaining replacements in the popularity dataframe\n",
    "popularity['Breed'].replace('Siberian Huskie', 'Siberian Husky', inplace = True)\n",
    "popularity['Breed'].replace('Chinese Shar-Pei', 'Chinese Shar Pei', inplace = True)\n",
    "popularity['Breed'].replace('Pharoah Hound', 'Pharaoh Hound', inplace = True)\n",
    "popularity['Breed'].replace('Belgian Malinoi', 'Belgian Malinois', inplace = True)\n",
    "popularity['Breed'].replace('St. Bernard', 'Saint Bernard', inplace = True)\n",
    "popularity['Breed'].replace('German Shepherd Dog', 'German Shepherd', inplace = True)\n",
    "popularity['Breed'].replace('Curly-Coated Retriever', 'Curly Coated Retriever', inplace = True)\n",
    "popularity['Breed'].replace('Smooth Fox Terrier', 'Fox Terrier (Smooth)', inplace = True)\n",
    "popularity['Breed'].replace('Pulik', 'Puli', inplace = True)\n",
    "popularity['Breed'].replace('Soft Coated Wheaten Terrier', 'Soft-coated Wheaten Terrier', inplace = True)\n",
    "popularity['Breed'].replace('Bouviers des Flandre', 'Bouvier des Flandres', inplace = True)\n",
    "popularity['Breed'].replace('Kuvaszok', 'Kuvasz', inplace = True)\n",
    "popularity['Breed'].replace('Australian Terrier', 'Australian Silky Terrier', inplace = True)\n",
    "popularity['Breed'].replace('Russell Terrier', 'Jack Russell terrier', inplace = True)\n",
    "popularity['Breed'].replace('Belgian Tervuren', 'Belgian Shepherd Dog (Tervuren)', inplace = True)\n",
    "popularity['Breed'].replace('Great Pyrenee', 'Great Pyrenees', inplace = True)\n",
    "popularity['Breed'].replace('Keeshonden', 'Keeshond', inplace = True)\n",
    "popularity['Breed'].replace('Brussels Griffon', 'Griffon Bruxellois', inplace = True)"
   ]
  },
  {
   "cell_type": "code",
   "execution_count": 43,
   "id": "573f9cc9",
   "metadata": {},
   "outputs": [
    {
     "data": {
      "text/html": [
       "<div>\n",
       "<style scoped>\n",
       "    .dataframe tbody tr th:only-of-type {\n",
       "        vertical-align: middle;\n",
       "    }\n",
       "\n",
       "    .dataframe tbody tr th {\n",
       "        vertical-align: top;\n",
       "    }\n",
       "\n",
       "    .dataframe thead th {\n",
       "        text-align: right;\n",
       "    }\n",
       "</style>\n",
       "<table border=\"1\" class=\"dataframe\">\n",
       "  <thead>\n",
       "    <tr style=\"text-align: right;\">\n",
       "      <th></th>\n",
       "      <th>Breed</th>\n",
       "      <th>Classification</th>\n",
       "      <th>Obey_Rate</th>\n",
       "      <th>Lower_Reps</th>\n",
       "      <th>Upper_Reps</th>\n",
       "      <th>Weight Male</th>\n",
       "      <th>Weight Female</th>\n",
       "      <th>2018 Rank</th>\n",
       "      <th>2017 Rank</th>\n",
       "      <th>2016 Rank</th>\n",
       "      <th>2015 Rank</th>\n",
       "      <th>2014 Rank</th>\n",
       "    </tr>\n",
       "  </thead>\n",
       "  <tbody>\n",
       "    <tr>\n",
       "      <th>0</th>\n",
       "      <td>Border Collie</td>\n",
       "      <td>Brightest Dogs</td>\n",
       "      <td>95%</td>\n",
       "      <td>1</td>\n",
       "      <td>4</td>\n",
       "      <td>30-55 pounds</td>\n",
       "      <td>30-55 pounds</td>\n",
       "      <td>35</td>\n",
       "      <td>38.0</td>\n",
       "      <td>38.0</td>\n",
       "      <td>38.0</td>\n",
       "      <td>38.0</td>\n",
       "    </tr>\n",
       "    <tr>\n",
       "      <th>1</th>\n",
       "      <td>Poodle</td>\n",
       "      <td>Brightest Dogs</td>\n",
       "      <td>95%</td>\n",
       "      <td>1</td>\n",
       "      <td>4</td>\n",
       "      <td>4-6 pounds (toy), 10-15 pounds (miniature), 60...</td>\n",
       "      <td>4-6 pounds (toy), 10-15 pounds (miniature), 40...</td>\n",
       "      <td>7</td>\n",
       "      <td>7.0</td>\n",
       "      <td>7.0</td>\n",
       "      <td>8.0</td>\n",
       "      <td>7.0</td>\n",
       "    </tr>\n",
       "    <tr>\n",
       "      <th>2</th>\n",
       "      <td>German Shepherd</td>\n",
       "      <td>Brightest Dogs</td>\n",
       "      <td>95%</td>\n",
       "      <td>1</td>\n",
       "      <td>4</td>\n",
       "      <td>65-90 pounds</td>\n",
       "      <td>50-70 pounds</td>\n",
       "      <td>2</td>\n",
       "      <td>2.0</td>\n",
       "      <td>2.0</td>\n",
       "      <td>2.0</td>\n",
       "      <td>2.0</td>\n",
       "    </tr>\n",
       "    <tr>\n",
       "      <th>3</th>\n",
       "      <td>Golden Retriever</td>\n",
       "      <td>Brightest Dogs</td>\n",
       "      <td>95%</td>\n",
       "      <td>1</td>\n",
       "      <td>4</td>\n",
       "      <td>65-75 pounds</td>\n",
       "      <td>55-65 pounds</td>\n",
       "      <td>3</td>\n",
       "      <td>3.0</td>\n",
       "      <td>3.0</td>\n",
       "      <td>3.0</td>\n",
       "      <td>3.0</td>\n",
       "    </tr>\n",
       "    <tr>\n",
       "      <th>4</th>\n",
       "      <td>Doberman Pinscher</td>\n",
       "      <td>Brightest Dogs</td>\n",
       "      <td>95%</td>\n",
       "      <td>1</td>\n",
       "      <td>4</td>\n",
       "      <td>75-100 pounds</td>\n",
       "      <td>60-90 pounds</td>\n",
       "      <td>17</td>\n",
       "      <td>16.0</td>\n",
       "      <td>15.0</td>\n",
       "      <td>14.0</td>\n",
       "      <td>14.0</td>\n",
       "    </tr>\n",
       "  </tbody>\n",
       "</table>\n",
       "</div>"
      ],
      "text/plain": [
       "               Breed  Classification Obey_Rate  Lower_Reps  Upper_Reps  \\\n",
       "0      Border Collie  Brightest Dogs       95%           1           4   \n",
       "1             Poodle  Brightest Dogs       95%           1           4   \n",
       "2    German Shepherd  Brightest Dogs       95%           1           4   \n",
       "3   Golden Retriever  Brightest Dogs       95%           1           4   \n",
       "4  Doberman Pinscher  Brightest Dogs       95%           1           4   \n",
       "\n",
       "                                         Weight Male  \\\n",
       "0                                       30-55 pounds   \n",
       "1  4-6 pounds (toy), 10-15 pounds (miniature), 60...   \n",
       "2                                       65-90 pounds   \n",
       "3                                       65-75 pounds   \n",
       "4                                      75-100 pounds   \n",
       "\n",
       "                                       Weight Female  2018 Rank  2017 Rank  \\\n",
       "0                                       30-55 pounds         35       38.0   \n",
       "1  4-6 pounds (toy), 10-15 pounds (miniature), 40...          7        7.0   \n",
       "2                                       50-70 pounds          2        2.0   \n",
       "3                                       55-65 pounds          3        3.0   \n",
       "4                                       60-90 pounds         17       16.0   \n",
       "\n",
       "   2016 Rank  2015 Rank  2014 Rank  \n",
       "0       38.0       38.0       38.0  \n",
       "1        7.0        8.0        7.0  \n",
       "2        2.0        2.0        2.0  \n",
       "3        3.0        3.0        3.0  \n",
       "4       15.0       14.0       14.0  "
      ]
     },
     "execution_count": 43,
     "metadata": {},
     "output_type": "execute_result"
    }
   ],
   "source": [
    "#Merging the data again \n",
    "\n",
    "\n",
    "#Merging the popularity data on the dog_intel_weight data\n",
    "\n",
    "final_data = dog_intel_weight.merge(popularity, on = 'Breed')\n",
    "final_data.head()"
   ]
  },
  {
   "cell_type": "code",
   "execution_count": 44,
   "id": "2dc36278",
   "metadata": {},
   "outputs": [
    {
     "data": {
      "text/plain": [
       "[]"
      ]
     },
     "execution_count": 44,
     "metadata": {},
     "output_type": "execute_result"
    }
   ],
   "source": [
    "#Differences between the breed column in dog_intel_weight and popularity again\n",
    "\n",
    "diff = list(set(dog_intel_weight['Breed']).difference(set(popularity['Breed'])))\n",
    "diff"
   ]
  },
  {
   "cell_type": "markdown",
   "id": "9097957f",
   "metadata": {},
   "source": [
    "This time no differences and the merge is perfect"
   ]
  },
  {
   "cell_type": "code",
   "execution_count": 45,
   "id": "407fd084",
   "metadata": {},
   "outputs": [
    {
     "data": {
      "text/plain": [
       "Breed             0\n",
       "Classification    0\n",
       "Obey_Rate         0\n",
       "Lower_Reps        0\n",
       "Upper_Reps        0\n",
       "Weight Male       0\n",
       "Weight Female     0\n",
       "2018 Rank         0\n",
       "2017 Rank         0\n",
       "2016 Rank         0\n",
       "2015 Rank         0\n",
       "2014 Rank         0\n",
       "dtype: int64"
      ]
     },
     "execution_count": 45,
     "metadata": {},
     "output_type": "execute_result"
    }
   ],
   "source": [
    "final_data.isna().sum()"
   ]
  },
  {
   "cell_type": "markdown",
   "id": "68db3f40",
   "metadata": {},
   "source": [
    "The final dataset (`final_data`) after merging all the three datasets has columns `Weight Male` and `Weight Female`. In order to be able to work with these columns, they must transformed:\n",
    "- The intergers must be extracted from these columns and stored in a newly created column\n",
    "- If the number of integers extracted is more than 1 then the average of the first 2 will be used as the weight of that particular observation and stored in a new column called Male Average or Female Average.\n",
    "- The data types of the average columns must be changed to integer."
   ]
  },
  {
   "cell_type": "code",
   "execution_count": 47,
   "id": "69c5087f",
   "metadata": {},
   "outputs": [
    {
     "ename": "NameError",
     "evalue": "name 'data' is not defined",
     "output_type": "error",
     "traceback": [
      "\u001b[0;31m---------------------------------------------------------------------------\u001b[0m",
      "\u001b[0;31mNameError\u001b[0m                                 Traceback (most recent call last)",
      "\u001b[0;32m/var/folders/6g/l38cwvxx19g9h2rdqzf835580000gn/T/ipykernel_9325/665556136.py\u001b[0m in \u001b[0;36m<module>\u001b[0;34m\u001b[0m\n\u001b[1;32m      4\u001b[0m \u001b[0;34m\u001b[0m\u001b[0m\n\u001b[1;32m      5\u001b[0m \u001b[0;31m#For Weight Male\u001b[0m\u001b[0;34m\u001b[0m\u001b[0;34m\u001b[0m\u001b[0m\n\u001b[0;32m----> 6\u001b[0;31m \u001b[0mfinal_data\u001b[0m\u001b[0;34m[\u001b[0m\u001b[0;34m'Male Range'\u001b[0m\u001b[0;34m]\u001b[0m \u001b[0;34m=\u001b[0m \u001b[0mdata\u001b[0m\u001b[0;34m.\u001b[0m\u001b[0mapply\u001b[0m\u001b[0;34m(\u001b[0m\u001b[0;32mlambda\u001b[0m \u001b[0mrow\u001b[0m\u001b[0;34m:\u001b[0m \u001b[0mre\u001b[0m\u001b[0;34m.\u001b[0m\u001b[0mfindall\u001b[0m\u001b[0;34m(\u001b[0m\u001b[0;34mr'\\b\\d+\\b'\u001b[0m\u001b[0;34m,\u001b[0m \u001b[0mrow\u001b[0m\u001b[0;34m[\u001b[0m\u001b[0;34m'Weight Male'\u001b[0m\u001b[0;34m]\u001b[0m\u001b[0;34m)\u001b[0m\u001b[0;34m,\u001b[0m \u001b[0maxis\u001b[0m \u001b[0;34m=\u001b[0m \u001b[0;36m1\u001b[0m\u001b[0;34m)\u001b[0m\u001b[0;34m\u001b[0m\u001b[0;34m\u001b[0m\u001b[0m\n\u001b[0m\u001b[1;32m      7\u001b[0m \u001b[0;34m\u001b[0m\u001b[0m\n\u001b[1;32m      8\u001b[0m \u001b[0;31m#For Weight Female\u001b[0m\u001b[0;34m\u001b[0m\u001b[0;34m\u001b[0m\u001b[0m\n",
      "\u001b[0;31mNameError\u001b[0m: name 'data' is not defined"
     ]
    }
   ],
   "source": [
    "#Creating a column to store the extracted integers from the Weight Male and Weight Female columns\n",
    "\n",
    "import re\n",
    "\n",
    "#For Weight Male\n",
    "final_data['Male Range'] = final_data.apply(lambda row: re.findall(r'\\b\\d+\\b', row['Weight Male']), axis = 1)\n",
    "\n",
    "#For Weight Female\n",
    "final_data['Female Range'] = data.apply(lambda row: re.findall(r'\\b\\d+\\b', row['Weight Female']), axis = 1)\n",
    "\n",
    "#Verify changes\n",
    "final_data.head(3)"
   ]
  },
  {
   "cell_type": "code",
   "execution_count": null,
   "id": "65145204",
   "metadata": {},
   "outputs": [],
   "source": []
  }
 ],
 "metadata": {
  "kernelspec": {
   "display_name": "Python 3 (ipykernel)",
   "language": "python",
   "name": "python3"
  },
  "language_info": {
   "codemirror_mode": {
    "name": "ipython",
    "version": 3
   },
   "file_extension": ".py",
   "mimetype": "text/x-python",
   "name": "python",
   "nbconvert_exporter": "python",
   "pygments_lexer": "ipython3",
   "version": "3.9.10"
  }
 },
 "nbformat": 4,
 "nbformat_minor": 5
}
