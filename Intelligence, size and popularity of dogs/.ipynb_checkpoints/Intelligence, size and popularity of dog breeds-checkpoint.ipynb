{
 "cells": [
  {
   "cell_type": "markdown",
   "id": "a656daf7",
   "metadata": {},
   "source": [
    "Dogs have always been regarded as man's best friends. There are many breeds of dogs in different shapes and sizes with varying levels of intelligence and trainability. With regards to all these, some breeds tend to be more popular than others. What is the reason behind the popularity of some breeds. This project attempts to answer this question using data. The data used in this project was collected from three different sources, cleaned, transformed and combined to form the final data that was used to test the following hypotheses:\n",
    "\n",
    "- Intelligent dogs are more popular than non-intelligent dogs\n",
    "- Big dogs are more popular than small dogs\n",
    "- Size is correlated to intelligence of the dogs\n",
    "\n",
    "\n",
    "Visit: https://www.josephsegbefia.me - My data science portfolio website."
   ]
  },
  {
   "cell_type": "code",
   "execution_count": 1,
   "id": "5e79a8f1",
   "metadata": {},
   "outputs": [],
   "source": [
    "#Importing pandas\n",
    "import pandas as pd"
   ]
  },
  {
   "cell_type": "code",
   "execution_count": null,
   "id": "760ee229",
   "metadata": {},
   "outputs": [],
   "source": [
    "#Reading the first data file as a csv. It contains information on the intelligence of the different breeds of dogs\n",
    "\n",
    "dog_intel = pd.read_csv('data/dog_intelligence.csv')"
   ]
  }
 ],
 "metadata": {
  "kernelspec": {
   "display_name": "Python 3 (ipykernel)",
   "language": "python",
   "name": "python3"
  },
  "language_info": {
   "codemirror_mode": {
    "name": "ipython",
    "version": 3
   },
   "file_extension": ".py",
   "mimetype": "text/x-python",
   "name": "python",
   "nbconvert_exporter": "python",
   "pygments_lexer": "ipython3",
   "version": "3.9.10"
  }
 },
 "nbformat": 4,
 "nbformat_minor": 5
}
