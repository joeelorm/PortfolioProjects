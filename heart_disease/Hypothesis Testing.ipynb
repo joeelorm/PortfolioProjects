{
 "cells": [
  {
   "cell_type": "markdown",
   "metadata": {},
   "source": [
    "#### Hypothesis Testing\n",
    "In this notebook I performed different hypothesis tests to establish the relationships between variables in the data. The data consists of features of patients examined for heart disease. The following hypothesis tests were performed:\n",
    "- One Sample T-Test\n",
    "- Binomial Test\n",
    "- Two Sample T-Test\n",
    "- Chi-Square Test\n",
    "- ANOVA (Analysis Of The Variance) with Tukey's Range Test"
   ]
  },
  {
   "cell_type": "code",
   "execution_count": 1,
   "metadata": {},
   "outputs": [],
   "source": [
    "#Importing some of the Libraries\n",
    "import pandas as pd\n",
    "import numpy as np\n",
    "import matplotlib.pyplot as plt \n",
    "import seaborn as sns\n",
    "from scipy.stats import ttest_1samp\n",
    "from scipy.stats import binom_test\n",
    "import random"
   ]
  },
  {
   "cell_type": "markdown",
   "metadata": {},
   "source": [
    "The data was downloaded from the [UCI Machine Learning Repository](https://archive.ics.uci.edu/ml/datasets/Heart+Disease) and then cleaned for analysis. The principal investigators responsible for data collection were:\n",
    "\n",
    "1. Hungarian Institute of Cardiology. Budapest: Andras Janosi, M.D.\n",
    "2. University Hospital, Zurich, Switzerland: William Steinbrunn, M.D.\n",
    "3. University Hospital, Basel, Switzerland: Matthias Pfisterer, M.D.\n",
    "4. V.A. Medical Center, Long Beach and Cleveland Clinic Foundation: Robert Detrano, M.D., Ph.D."
   ]
  },
  {
   "cell_type": "code",
   "execution_count": 2,
   "metadata": {},
   "outputs": [
    {
     "data": {
      "text/html": [
       "<div>\n",
       "<style scoped>\n",
       "    .dataframe tbody tr th:only-of-type {\n",
       "        vertical-align: middle;\n",
       "    }\n",
       "\n",
       "    .dataframe tbody tr th {\n",
       "        vertical-align: top;\n",
       "    }\n",
       "\n",
       "    .dataframe thead th {\n",
       "        text-align: right;\n",
       "    }\n",
       "</style>\n",
       "<table border=\"1\" class=\"dataframe\">\n",
       "  <thead>\n",
       "    <tr style=\"text-align: right;\">\n",
       "      <th></th>\n",
       "      <th>age</th>\n",
       "      <th>sex</th>\n",
       "      <th>trestbps</th>\n",
       "      <th>chol</th>\n",
       "      <th>cp</th>\n",
       "      <th>exang</th>\n",
       "      <th>fbs</th>\n",
       "      <th>thalach</th>\n",
       "      <th>heart_disease</th>\n",
       "    </tr>\n",
       "  </thead>\n",
       "  <tbody>\n",
       "    <tr>\n",
       "      <th>0</th>\n",
       "      <td>63.0</td>\n",
       "      <td>male</td>\n",
       "      <td>145.0</td>\n",
       "      <td>233.0</td>\n",
       "      <td>typical angina</td>\n",
       "      <td>0.0</td>\n",
       "      <td>1.0</td>\n",
       "      <td>150.0</td>\n",
       "      <td>absence</td>\n",
       "    </tr>\n",
       "    <tr>\n",
       "      <th>1</th>\n",
       "      <td>67.0</td>\n",
       "      <td>male</td>\n",
       "      <td>160.0</td>\n",
       "      <td>286.0</td>\n",
       "      <td>asymptomatic</td>\n",
       "      <td>1.0</td>\n",
       "      <td>0.0</td>\n",
       "      <td>108.0</td>\n",
       "      <td>presence</td>\n",
       "    </tr>\n",
       "    <tr>\n",
       "      <th>2</th>\n",
       "      <td>67.0</td>\n",
       "      <td>male</td>\n",
       "      <td>120.0</td>\n",
       "      <td>229.0</td>\n",
       "      <td>asymptomatic</td>\n",
       "      <td>1.0</td>\n",
       "      <td>0.0</td>\n",
       "      <td>129.0</td>\n",
       "      <td>presence</td>\n",
       "    </tr>\n",
       "    <tr>\n",
       "      <th>3</th>\n",
       "      <td>37.0</td>\n",
       "      <td>male</td>\n",
       "      <td>130.0</td>\n",
       "      <td>250.0</td>\n",
       "      <td>non-anginal pain</td>\n",
       "      <td>0.0</td>\n",
       "      <td>0.0</td>\n",
       "      <td>187.0</td>\n",
       "      <td>absence</td>\n",
       "    </tr>\n",
       "    <tr>\n",
       "      <th>4</th>\n",
       "      <td>41.0</td>\n",
       "      <td>female</td>\n",
       "      <td>130.0</td>\n",
       "      <td>204.0</td>\n",
       "      <td>atypical angina</td>\n",
       "      <td>0.0</td>\n",
       "      <td>0.0</td>\n",
       "      <td>172.0</td>\n",
       "      <td>absence</td>\n",
       "    </tr>\n",
       "  </tbody>\n",
       "</table>\n",
       "</div>"
      ],
      "text/plain": [
       "    age     sex  trestbps   chol                cp  exang  fbs  thalach  \\\n",
       "0  63.0    male     145.0  233.0    typical angina    0.0  1.0    150.0   \n",
       "1  67.0    male     160.0  286.0      asymptomatic    1.0  0.0    108.0   \n",
       "2  67.0    male     120.0  229.0      asymptomatic    1.0  0.0    129.0   \n",
       "3  37.0    male     130.0  250.0  non-anginal pain    0.0  0.0    187.0   \n",
       "4  41.0  female     130.0  204.0   atypical angina    0.0  0.0    172.0   \n",
       "\n",
       "  heart_disease  \n",
       "0       absence  \n",
       "1      presence  \n",
       "2      presence  \n",
       "3       absence  \n",
       "4       absence  "
      ]
     },
     "execution_count": 2,
     "metadata": {},
     "output_type": "execute_result"
    }
   ],
   "source": [
    "#Creating a dataframe called heart from the heart_disease csv file\n",
    "heart = pd.read_csv('heart_disease.csv')\n",
    "heart.head()"
   ]
  },
  {
   "cell_type": "markdown",
   "metadata": {},
   "source": [
    "- age: The patient's age\n",
    "- sex: The patient's sex (Male/Female)\n",
    "- trestbps: The patient's resting blood pressure\n",
    "- chol: serum cholestorol in mg/dl\n",
    "- cp: Chest pain type\n",
    "- exang: Exercise induced angina\n",
    "- fbs: An indicator for whether fasting blood sugar is greater than 120 mg/dl (1 = true; 0 = false)\n",
    "- thalach: Maximum heart rate achieved\n",
    "- heart_disease: Presence or absence of heart disease"
   ]
  },
  {
   "cell_type": "code",
   "execution_count": 3,
   "metadata": {},
   "outputs": [
    {
     "name": "stdout",
     "output_type": "stream",
     "text": [
      "<class 'pandas.core.frame.DataFrame'>\n",
      "RangeIndex: 303 entries, 0 to 302\n",
      "Data columns (total 9 columns):\n",
      " #   Column         Non-Null Count  Dtype  \n",
      "---  ------         --------------  -----  \n",
      " 0   age            303 non-null    float64\n",
      " 1   sex            303 non-null    object \n",
      " 2   trestbps       303 non-null    float64\n",
      " 3   chol           303 non-null    float64\n",
      " 4   cp             303 non-null    object \n",
      " 5   exang          303 non-null    float64\n",
      " 6   fbs            303 non-null    float64\n",
      " 7   thalach        303 non-null    float64\n",
      " 8   heart_disease  303 non-null    object \n",
      "dtypes: float64(6), object(3)\n",
      "memory usage: 21.4+ KB\n"
     ]
    }
   ],
   "source": [
    "#Information on the data\n",
    "heart.info()"
   ]
  },
  {
   "cell_type": "code",
   "execution_count": 4,
   "metadata": {},
   "outputs": [],
   "source": [
    "#Separating the data into two - patients with heart disease and patients without\n",
    "present_heart_disease = heart[heart['heart_disease'] == 'presence']\n",
    "absent_heart_disease = heart[heart['heart_disease'] == 'absence']"
   ]
  },
  {
   "cell_type": "markdown",
   "metadata": {},
   "source": [
    "Generally, cholestrol levels higher than 240 mg/dl are considered to be high and therefore unhealthy. Do people with heart disease have high cholesterol levels (greater than or equal to 240 mg/dl) on average? \n",
    "\n",
    "- <b>Null: People with heart disease have an average cholesterol level equal to 240 mg/dl</b>\n",
    "- <b>Alternative: People with heart disease have an average cholesterol level that is greater than 240 mg/dl</b>"
   ]
  },
  {
   "cell_type": "code",
   "execution_count": 5,
   "metadata": {},
   "outputs": [
    {
     "data": {
      "text/plain": [
       "251.4748201438849"
      ]
     },
     "execution_count": 5,
     "metadata": {},
     "output_type": "execute_result"
    }
   ],
   "source": [
    "#Calculate the average cholestrol level for patients with heart disease\n",
    "avg_chol_heart_disease = np.mean(present_heart_disease['chol'])\n",
    "avg_chol_heart_disease"
   ]
  },
  {
   "cell_type": "code",
   "execution_count": 6,
   "metadata": {},
   "outputs": [
    {
     "data": {
      "image/png": "[encoded data removed]",
      "text/plain": [
       "<Figure size 720x504 with 1 Axes>"
      ]
     },
     "metadata": {
      "needs_background": "light"
     },
     "output_type": "display_data"
    }
   ],
   "source": [
    "#Distribution of cholestrol levels among patients with heart disease\n",
    "plt.figure(figsize = (10, 7))\n",
    "plt.hist(present_heart_disease['chol'], edgecolor = 'black')\n",
    "plt.axvline(251, color = 'red', label = 'avg.cholestrol value')\n",
    "plt.xlabel('Cholestrol Levels' )\n",
    "plt.ylabel('Frequency')\n",
    "plt.legend()\n",
    "plt.show()"
   ]
  },
  {
   "cell_type": "code",
   "execution_count": 7,
   "metadata": {},
   "outputs": [
    {
     "data": {
      "text/plain": [
       "139"
      ]
     },
     "execution_count": 7,
     "metadata": {},
     "output_type": "execute_result"
    }
   ],
   "source": [
    "#Number of patients with heart disease\n",
    "num_heart_disease = len(present_heart_disease)\n",
    "num_heart_disease"
   ]
  },
  {
   "cell_type": "code",
   "execution_count": 8,
   "metadata": {},
   "outputs": [],
   "source": [
    "#Cholesterol levels in patients with heart disease\n",
    "chol_heart_disease = present_heart_disease['chol']"
   ]
  },
  {
   "cell_type": "code",
   "execution_count": 9,
   "metadata": {},
   "outputs": [
    {
     "name": "stdout",
     "output_type": "stream",
     "text": [
      "0.0035411033905155707\n"
     ]
    }
   ],
   "source": [
    "tstat, pval = ttest_1samp(chol_heart_disease, 240, alternative = 'greater')\n",
    "print(pval)"
   ]
  },
  {
   "cell_type": "markdown",
   "metadata": {},
   "source": [
    "With a significant threshold of 0.05, and obtaining a p-value less than 0.05, suggesting that heart disease patients have an average cholesterol level significantly higher than 240 mg/dl."
   ]
  },
  {
   "cell_type": "code",
   "execution_count": null,
   "metadata": {},
   "outputs": [],
   "source": []
  },
  {
   "cell_type": "code",
   "execution_count": 10,
   "metadata": {},
   "outputs": [],
   "source": [
    "chol_no_heart_disease = absent_heart_disease['chol']"
   ]
  },
  {
   "cell_type": "markdown",
   "metadata": {},
   "source": [
    "Now we can investigate the cholestrol levels present among patients without heart disease. Do patients without heart disease have average cholesterol levels significantly above 240 mg/dl?\n",
    "- <b>Null: People without heart disease have an average cholesterol level equal to 240 mg/dl</b>\n",
    "- <b>Alternative: People without heart disease have an average cholesterol level that is greater than 240 mg/dl</b>"
   ]
  },
  {
   "cell_type": "code",
   "execution_count": 11,
   "metadata": {},
   "outputs": [
    {
     "name": "stdout",
     "output_type": "stream",
     "text": [
      "0.26397120232220506\n"
     ]
    }
   ],
   "source": [
    "tstat, pval = ttest_1samp(chol_no_heart_disease, 240, alternative = 'greater')\n",
    "print(pval)"
   ]
  },
  {
   "cell_type": "markdown",
   "metadata": {},
   "source": [
    "In this case, we go with the null hypothesis that, people without heart disease have an average cholesterol level of 240."
   ]
  },
  {
   "cell_type": "code",
   "execution_count": null,
   "metadata": {},
   "outputs": [],
   "source": []
  },
  {
   "cell_type": "markdown",
   "metadata": {},
   "source": [
    "Sometimes, part of an analysis will involve comparing a sample to known population values to see if the sample appears to be representative of the general population.\n",
    "\n",
    "By some estimates, about 8% of the U.S. population had diabetes (diagnosed or undiagnosed) in 1988 when this data was collected. While there are multiple tests that contribute to a diabetes diagnosis, fasting blood sugar levels greater than 120 mg/dl can be indicative of diabetes (or at least, pre-diabetes). "
   ]
  },
  {
   "cell_type": "code",
   "execution_count": 12,
   "metadata": {},
   "outputs": [
    {
     "name": "stdout",
     "output_type": "stream",
     "text": [
      "24.240000000000002\n"
     ]
    }
   ],
   "source": [
    "#If the sample were representative of the population, the number of people with diabetes will be:\n",
    "print(0.08 * 303)"
   ]
  },
  {
   "cell_type": "code",
   "execution_count": 13,
   "metadata": {},
   "outputs": [
    {
     "data": {
      "text/plain": [
       "45"
      ]
     },
     "execution_count": 13,
     "metadata": {},
     "output_type": "execute_result"
    }
   ],
   "source": [
    "#Number of people with diabetes in the sample:\n",
    "number_diabetes = len(heart[heart['fbs'] == 1])\n",
    "number_diabetes"
   ]
  },
  {
   "cell_type": "markdown",
   "metadata": {},
   "source": [
    "Does this sample come from a population in which the rate of fbs > 120 mg/dl is equal to 8%? Import the function from scipy.stats that you can use to test the following null and alternative hypotheses:\n",
    "\n",
    "- Null: This sample was drawn from a population where 8% of people have fasting blood sugar > 120 mg/dl\n",
    "- Alternative: This sample was drawn from a population where more than 8% of people have fasting blood sugar > 120 mg/dl"
   ]
  },
  {
   "cell_type": "code",
   "execution_count": null,
   "metadata": {},
   "outputs": [],
   "source": []
  },
  {
   "cell_type": "code",
   "execution_count": 14,
   "metadata": {},
   "outputs": [
    {
     "data": {
      "text/plain": [
       "array(['no diabetes'], dtype='<U11')"
      ]
     },
     "execution_count": 14,
     "metadata": {},
     "output_type": "execute_result"
    }
   ],
   "source": [
    "sim_one_patient = np.random.choice(['diabetes', 'no diabetes'], p = [0.08, 0.92], size = 1)\n",
    "sim_one_patient"
   ]
  },
  {
   "cell_type": "code",
   "execution_count": 15,
   "metadata": {},
   "outputs": [
    {
     "name": "stdout",
     "output_type": "stream",
     "text": [
      "['no diabetes', 'no diabetes', 'no diabetes', 'no diabetes', 'no diabetes', 'no diabetes', 'no diabetes', 'no diabetes', 'no diabetes', 'no diabetes', 'no diabetes', 'no diabetes', 'no diabetes', 'no diabetes', 'no diabetes', 'no diabetes', 'no diabetes', 'no diabetes', 'no diabetes', 'no diabetes', 'no diabetes', 'no diabetes', 'no diabetes', 'no diabetes', 'no diabetes', 'no diabetes', 'diabetes', 'no diabetes', 'no diabetes', 'diabetes', 'no diabetes', 'no diabetes', 'no diabetes', 'no diabetes', 'no diabetes', 'no diabetes', 'no diabetes', 'no diabetes', 'no diabetes', 'no diabetes', 'no diabetes', 'no diabetes', 'no diabetes', 'no diabetes', 'no diabetes', 'no diabetes', 'no diabetes', 'no diabetes', 'no diabetes', 'no diabetes', 'no diabetes', 'no diabetes', 'no diabetes', 'no diabetes', 'no diabetes', 'diabetes', 'no diabetes', 'no diabetes', 'no diabetes', 'no diabetes', 'no diabetes', 'no diabetes', 'no diabetes', 'no diabetes', 'no diabetes', 'no diabetes', 'no diabetes', 'no diabetes', 'no diabetes', 'diabetes', 'no diabetes', 'no diabetes', 'no diabetes', 'no diabetes', 'no diabetes', 'diabetes', 'no diabetes', 'no diabetes', 'no diabetes', 'no diabetes', 'no diabetes', 'no diabetes', 'no diabetes', 'no diabetes', 'diabetes', 'no diabetes', 'no diabetes', 'no diabetes', 'no diabetes', 'no diabetes', 'no diabetes', 'no diabetes', 'no diabetes', 'no diabetes', 'diabetes', 'diabetes', 'no diabetes', 'no diabetes', 'no diabetes', 'no diabetes', 'no diabetes', 'no diabetes', 'diabetes', 'no diabetes', 'no diabetes', 'diabetes', 'no diabetes', 'no diabetes', 'no diabetes', 'no diabetes', 'no diabetes', 'no diabetes', 'no diabetes', 'diabetes', 'no diabetes', 'no diabetes', 'no diabetes', 'diabetes', 'no diabetes', 'no diabetes', 'no diabetes', 'no diabetes', 'no diabetes', 'no diabetes', 'no diabetes', 'no diabetes', 'no diabetes', 'no diabetes', 'no diabetes', 'no diabetes', 'no diabetes', 'no diabetes', 'diabetes', 'no diabetes', 'no diabetes', 'no diabetes', 'no diabetes', 'no diabetes', 'no diabetes', 'no diabetes', 'no diabetes', 'no diabetes', 'no diabetes', 'no diabetes', 'no diabetes', 'no diabetes', 'no diabetes', 'no diabetes', 'no diabetes', 'no diabetes', 'no diabetes', 'no diabetes', 'no diabetes', 'no diabetes', 'no diabetes', 'no diabetes', 'no diabetes', 'no diabetes', 'no diabetes', 'no diabetes', 'no diabetes', 'diabetes', 'no diabetes', 'diabetes', 'no diabetes', 'no diabetes', 'no diabetes', 'no diabetes', 'no diabetes', 'no diabetes', 'no diabetes', 'no diabetes', 'no diabetes', 'no diabetes', 'no diabetes', 'no diabetes', 'no diabetes', 'no diabetes', 'no diabetes', 'no diabetes', 'no diabetes', 'no diabetes', 'no diabetes', 'no diabetes', 'no diabetes', 'no diabetes', 'no diabetes', 'no diabetes', 'no diabetes', 'no diabetes', 'no diabetes', 'no diabetes', 'diabetes', 'no diabetes', 'no diabetes', 'no diabetes', 'no diabetes', 'no diabetes', 'no diabetes', 'no diabetes', 'no diabetes', 'no diabetes', 'no diabetes', 'no diabetes', 'no diabetes', 'no diabetes', 'no diabetes', 'no diabetes', 'no diabetes', 'no diabetes', 'no diabetes', 'no diabetes', 'no diabetes', 'diabetes', 'no diabetes', 'no diabetes', 'no diabetes', 'no diabetes', 'diabetes', 'no diabetes', 'no diabetes', 'no diabetes', 'no diabetes', 'no diabetes', 'no diabetes', 'no diabetes', 'no diabetes', 'no diabetes', 'no diabetes', 'no diabetes', 'no diabetes', 'no diabetes', 'no diabetes', 'no diabetes', 'no diabetes', 'no diabetes', 'no diabetes', 'no diabetes', 'diabetes', 'no diabetes', 'no diabetes', 'diabetes', 'no diabetes', 'no diabetes', 'no diabetes', 'no diabetes', 'no diabetes', 'no diabetes', 'no diabetes', 'no diabetes', 'no diabetes', 'no diabetes', 'no diabetes', 'no diabetes', 'no diabetes', 'no diabetes', 'no diabetes', 'no diabetes', 'no diabetes', 'no diabetes', 'no diabetes', 'no diabetes', 'no diabetes', 'no diabetes', 'no diabetes', 'no diabetes', 'no diabetes', 'no diabetes', 'no diabetes', 'no diabetes', 'no diabetes', 'no diabetes', 'no diabetes', 'diabetes', 'no diabetes', 'no diabetes', 'no diabetes', 'no diabetes', 'no diabetes', 'no diabetes', 'no diabetes', 'no diabetes', 'no diabetes', 'no diabetes', 'no diabetes', 'diabetes', 'diabetes', 'no diabetes', 'diabetes', 'no diabetes', 'no diabetes', 'no diabetes', 'no diabetes', 'no diabetes', 'no diabetes', 'no diabetes', 'diabetes', 'no diabetes', 'no diabetes', 'no diabetes', 'no diabetes', 'no diabetes', 'no diabetes']\n"
     ]
    }
   ],
   "source": [
    "sim_303_patients = np.random.choice(['diabetes', 'no diabetes'], p = [0.08, 0.92], size = 303)\n",
    "print(list(sim_303_patients))"
   ]
  },
  {
   "cell_type": "code",
   "execution_count": 16,
   "metadata": {},
   "outputs": [],
   "source": [
    "null_outcomes = []\n",
    "for i in range(10000):\n",
    "    sim = np.random.choice(['diabetes', 'no diabetes'], p = [0.08, 0.92], size = 303)\n",
    "    num_diabetes = np.sum(sim == 'diabetes')\n",
    "    null_outcomes.append(num_diabetes)"
   ]
  },
  {
   "cell_type": "code",
   "execution_count": 17,
   "metadata": {},
   "outputs": [
    {
     "name": "stdout",
     "output_type": "stream",
     "text": [
      "minimum number with diabetes: 9\n"
     ]
    }
   ],
   "source": [
    "print('minimum number with diabetes:', np.min(null_outcomes))"
   ]
  },
  {
   "cell_type": "code",
   "execution_count": 18,
   "metadata": {},
   "outputs": [
    {
     "name": "stdout",
     "output_type": "stream",
     "text": [
      "maximum number with diabetes: 44\n"
     ]
    }
   ],
   "source": [
    "print('maximum number with diabetes:', np.max(null_outcomes))"
   ]
  },
  {
   "cell_type": "code",
   "execution_count": 19,
   "metadata": {},
   "outputs": [
    {
     "data": {
      "image/png": "[encoded data removed]",
      "text/plain": [
       "<Figure size 720x504 with 1 Axes>"
      ]
     },
     "metadata": {
      "needs_background": "light"
     },
     "output_type": "display_data"
    }
   ],
   "source": [
    "#The null distribution of diabetes patients\n",
    "plt.figure(figsize = (10, 7))\n",
    "plt.hist(null_outcomes, edgecolor = 'black')\n",
    "plt.axvline(45, color = 'red', label = 'avg.cholestrol value')\n",
    "plt.xlabel('Number with high fbs' )\n",
    "plt.ylabel('Frequency')\n",
    "plt.legend()\n",
    "plt.show()"
   ]
  },
  {
   "cell_type": "code",
   "execution_count": 20,
   "metadata": {},
   "outputs": [
    {
     "name": "stdout",
     "output_type": "stream",
     "text": [
      "4.689471951448875e-05\n"
     ]
    }
   ],
   "source": [
    "num_patients = len(heart)\n",
    "pval = binom_test(number_diabetes, num_patients, 0.08, alternative = 'greater')\n",
    "print(pval)"
   ]
  },
  {
   "cell_type": "markdown",
   "metadata": {},
   "source": [
    "a p-value of 4.689471951449078e-05 which is equivalent to 0.0000469 (the e-5 at the end indicates scientific notation). This is less than 0.05, indicating that this sample likely comes from a population where more than 8% of people have fbs > 120 mg/dl."
   ]
  },
  {
   "cell_type": "code",
   "execution_count": null,
   "metadata": {},
   "outputs": [],
   "source": []
  },
  {
   "cell_type": "markdown",
   "metadata": {},
   "source": [
    "Each of the patients in this dataset underwent an exercise test, during which their heart rate was monitored. For each patient, thalach gives us the highest heart rate that the patient achieved during this test.Is thalach associated with whether or not a patient will ultimately be diagnosed with heart disease? Will knowing a patient's thalach value give us an idea about whether he has a heart disease or not?\n",
    "\n",
    "Firstly, we can plot side by side boxplots of the thalach values for the two groups of patients (heart disease, and no heart disease) to visually inspect if there is an association between them. Also we can compare the difference in means the thalach values for the two groups."
   ]
  },
  {
   "cell_type": "code",
   "execution_count": 21,
   "metadata": {},
   "outputs": [
    {
     "name": "stdout",
     "output_type": "stream",
     "text": [
      "Avg. thalach for patients with heart disease is 139.25899280575538\n",
      "Avg. thalach for patients with no heart disease is 158.3780487804878\n",
      "Mean difference: 19.11905597473242\n"
     ]
    }
   ],
   "source": [
    "#Thalach values for patients with heart diease\n",
    "thalach_hd = heart[heart['heart_disease'] == 'presence']['thalach']\n",
    "\n",
    "#mean of thalach_hd\n",
    "mean_thd = np.mean(thalach_hd)\n",
    "print('Avg. thalach for patients with heart disease is {}'.format(mean_thd))\n",
    "\n",
    "#Thalach values for patients without heart disease\n",
    "thalach_no_hd = heart[heart['heart_disease'] == 'absence']['thalach']\n",
    "\n",
    "#mean of thalach_no_hd\n",
    "mean_tnd = np.mean(thalach_no_hd)\n",
    "print('Avg. thalach for patients with no heart disease is {}'.format(mean_tnd))\n",
    "\n",
    "\n",
    "#difference in the means\n",
    "print('Mean difference: {}'.format(mean_tnd - mean_thd))"
   ]
  },
  {
   "cell_type": "code",
   "execution_count": 22,
   "metadata": {},
   "outputs": [
    {
     "data": {
      "image/png": "[encoded data removed]",
      "text/plain": [
       "<Figure size 720x504 with 1 Axes>"
      ]
     },
     "metadata": {
      "needs_background": "light"
     },
     "output_type": "display_data"
    }
   ],
   "source": [
    "plt.figure(figsize = (10, 7))\n",
    "plt.hist(thalach_hd, alpha = 0.5, label = 'thalach heart disease', color = 'red')\n",
    "plt.hist(thalach_no_hd, alpha = 0.5, label = 'thalach no heart disease', color = 'blue')\n",
    "plt.xlabel('Thalach Values')\n",
    "plt.ylabel('Frequency')\n",
    "plt.title('Overlapping histograms of thalach values for the two groups')\n",
    "plt.legend()\n",
    "plt.show()"
   ]
  },
  {
   "cell_type": "code",
   "execution_count": 23,
   "metadata": {},
   "outputs": [
    {
     "data": {
      "image/png": "[encoded data removed]",
      "text/plain": [
       "<Figure size 720x504 with 1 Axes>"
      ]
     },
     "metadata": {
      "needs_background": "light"
     },
     "output_type": "display_data"
    }
   ],
   "source": [
    "#Side by side boxplots of the thalach values for the two groups\n",
    "plt.figure(figsize = (10, 7))\n",
    "sns.boxplot(x = 'heart_disease', y = 'thalach', data = heart)\n",
    "plt.title('Boxplots of thalach values for the two groups')\n",
    "plt.show()"
   ]
  },
  {
   "cell_type": "markdown",
   "metadata": {},
   "source": [
    "From the two visualizations above, it is not clear if there exists any association between the presence of heart disease and thalach. In essence, we are interested to find out if the average thalach of a patient with heart disease is significantly different from the average thalach of patients without heart disease. If there exists a significant difference, then having knowledge of the thalach of a patient can give us an idea concerning his heart disease status.\n",
    "\n",
    "This is a comparison between a binary categorical variable (heart_disease - presence and absence) and a quantitative variable (thalach). This makes the two sample t-test appropriate here. Before proceeding with the test, let us clearly state our null and alternative hypothesis:\n",
    "- Null: The average thalach for a person with heart disease is equal to the average thalach for a person without heart disease.\n",
    "- Alternative: The average thalach for a person with heart disease is NOT equal to the average thalach for a person without heart disease."
   ]
  },
  {
   "cell_type": "code",
   "execution_count": 24,
   "metadata": {},
   "outputs": [
    {
     "name": "stdout",
     "output_type": "stream",
     "text": [
      "The p-value for this test is: 3.456964908430172e-14\n"
     ]
    }
   ],
   "source": [
    "#Importing the two sample t-test library from scipy\n",
    "from scipy.stats import ttest_ind\n",
    "\n",
    "#Performing the test\n",
    "tstat, pval = ttest_ind(thalach_hd, thalach_no_hd)\n",
    "print('The p-value for this test is:', pval)"
   ]
  },
  {
   "cell_type": "markdown",
   "metadata": {},
   "source": [
    "This is less than 0.05, so we “reject the null hypothesis” and conclude that there is a significant difference in thalach for people with heart disease compared to people without heart disease."
   ]
  },
  {
   "cell_type": "markdown",
   "metadata": {},
   "source": [
    "The above procedure can be repeated for the variables `age`, `trestbps`, `chol` against the presence or absence of heart disease."
   ]
  },
  {
   "cell_type": "code",
   "execution_count": 25,
   "metadata": {},
   "outputs": [
    {
     "name": "stdout",
     "output_type": "stream",
     "text": [
      "Avg. age for patients with heart disease is 57 years.\n",
      "Avg. age for patients with no heart disease is 53 years.\n",
      "Mean difference: 4 years.\n"
     ]
    }
   ],
   "source": [
    "#Age and heart disease\n",
    "#Age values for patients with heart diease\n",
    "age_hd = heart[heart['heart_disease'] == 'presence']['age']\n",
    "\n",
    "#mean of age_hd\n",
    "mean_ahd = np.mean(age_hd)\n",
    "print('Avg. age for patients with heart disease is {} years.'.format(round(mean_ahd), 0))\n",
    "\n",
    "#Age values for patients without heart disease\n",
    "age_no_hd = heart[heart['heart_disease'] == 'absence']['age']\n",
    "\n",
    "#mean of age_no_hd\n",
    "mean_and = np.mean(age_no_hd)\n",
    "print('Avg. age for patients with no heart disease is {} years.'.format(round(mean_and), 0))\n",
    "\n",
    "\n",
    "#difference in the means\n",
    "print('Mean difference: {} years.'.format(round(mean_ahd - mean_and), 0))"
   ]
  },
  {
   "cell_type": "code",
   "execution_count": 26,
   "metadata": {},
   "outputs": [
    {
     "data": {
      "image/png": "[encoded data removed]",
      "text/plain": [
       "<Figure size 720x504 with 1 Axes>"
      ]
     },
     "metadata": {
      "needs_background": "light"
     },
     "output_type": "display_data"
    }
   ],
   "source": [
    "#Overlapping histogram for the two groups\n",
    "plt.figure(figsize = (10, 7))\n",
    "plt.hist(age_hd, alpha = 0.5, label = 'age heart disease', color = 'red')\n",
    "plt.hist(age_no_hd, alpha = 0.5, label = 'age no heart disease', color = 'blue')\n",
    "plt.xlabel('Age')\n",
    "plt.ylabel('Frequency')\n",
    "plt.title('Overlapping histograms of ages for the two groups')\n",
    "plt.legend()\n",
    "plt.show()"
   ]
  },
  {
   "cell_type": "code",
   "execution_count": 27,
   "metadata": {},
   "outputs": [
    {
     "data": {
      "image/png": "[encoded data removed]",
      "text/plain": [
       "<Figure size 720x504 with 1 Axes>"
      ]
     },
     "metadata": {
      "needs_background": "light"
     },
     "output_type": "display_data"
    }
   ],
   "source": [
    "plt.figure(figsize = (10, 7))\n",
    "plt.hist(age_hd, alpha = 0.5, label = 'age heart disease', color = 'red', histtype = 'step')\n",
    "plt.hist(age_no_hd, alpha = 0.5, label = 'age no heart disease', color = 'blue', histtype = 'step')\n",
    "plt.xlabel('Age')\n",
    "plt.ylabel('Frequency')\n",
    "plt.title('Overlapping histograms of ages for the two groups')\n",
    "plt.legend()\n",
    "plt.show()"
   ]
  },
  {
   "cell_type": "code",
   "execution_count": 28,
   "metadata": {},
   "outputs": [
    {
     "data": {
      "image/png": "[encoded data removed]",
      "text/plain": [
       "<Figure size 720x504 with 1 Axes>"
      ]
     },
     "metadata": {
      "needs_background": "light"
     },
     "output_type": "display_data"
    }
   ],
   "source": [
    "#Side by side boxplots of ages for the two groups\n",
    "plt.figure(figsize = (10, 7))\n",
    "sns.boxplot(x = 'heart_disease', y = 'age', data = heart)\n",
    "plt.title('Boxplots of ages for the two groups')\n",
    "plt.show()"
   ]
  },
  {
   "cell_type": "markdown",
   "metadata": {},
   "source": [
    "Using the overlapping histograms and boxplots, it shows that there is no significant difference in the ages of the patients with and patients without heart disease. We can only be sure by coming up with a null and alternative hypothesis and testing them to arrive at conclusive results.\n",
    "\n",
    "- Null: The average age for a person with heart disease is equal to the average age for a person without heart disease.\n",
    "- Alternative: The average age for a person with heart disease is NOT equal to the average age for a person without heart disease.\n",
    "\n",
    "With a significant threshold set at 0.05, obtaining a p-value less than 0.05 leads to the rejection of the null hypothesis and settling for the alternative."
   ]
  },
  {
   "cell_type": "code",
   "execution_count": 29,
   "metadata": {},
   "outputs": [
    {
     "name": "stdout",
     "output_type": "stream",
     "text": [
      "p-value for `age` two-sample t-test:  8.955636917529706e-05\n"
     ]
    }
   ],
   "source": [
    "#performing the two sample t-test\n",
    "tsat, pval = ttest_ind(age_hd, age_no_hd)\n",
    "print('p-value for `age` two-sample t-test: ', pval)"
   ]
  },
  {
   "cell_type": "markdown",
   "metadata": {},
   "source": [
    "The next variable to test is the `trestbps`. It is the resting blood pressure of the patients. \n",
    "\n",
    "- Null Hypothesis: The average `trestbps` for a person with heart disease is equal to the average `trestbps` for a person without heart disease.\n",
    "- Alternative Hypothesis: The average `trestbps` for a person with heart disease is NOT equal to that of a person with heart disease."
   ]
  },
  {
   "cell_type": "code",
   "execution_count": 33,
   "metadata": {},
   "outputs": [
    {
     "name": "stdout",
     "output_type": "stream",
     "text": [
      "Avg. resting blood pressure for patients with heart disease is 134.568345323741 years.\n",
      "Avg. resting blood pressure for patients with no heart disease is 129.25 years.\n",
      "Mean difference: 5.318345323740999.\n"
     ]
    }
   ],
   "source": [
    "#Resting Blood Pressure and heart disease\n",
    "#trestbps values for patients with heart diease\n",
    "trestbps_hd = heart[heart['heart_disease'] == 'presence']['trestbps']\n",
    "\n",
    "#mean of trestbps_hd\n",
    "mean_trest_hd = np.mean(trestbps_hd)\n",
    "print('Avg. resting blood pressure for patients with heart disease is {} years.'.format(mean_trest_hd))\n",
    "\n",
    "#trestbps values for patients without heart disease\n",
    "trestbps_no_hd = heart[heart['heart_disease'] == 'absence']['trestbps']\n",
    "\n",
    "#mean of trestbps_no_hd\n",
    "mean_trest_no_hd = np.mean(trestbps_no_hd)\n",
    "print('Avg. resting blood pressure for patients with no heart disease is {} years.'.format(mean_trest_no_hd))\n",
    "\n",
    "\n",
    "#difference in the means\n",
    "print('Mean difference: {}.'.format(mean_trest_hd - mean_trest_no_hd))"
   ]
  },
  {
   "cell_type": "code",
   "execution_count": 34,
   "metadata": {},
   "outputs": [
    {
     "data": {
      "image/png": "[encoded data removed]",
      "text/plain": [
       "<Figure size 720x504 with 1 Axes>"
      ]
     },
     "metadata": {
      "needs_background": "light"
     },
     "output_type": "display_data"
    }
   ],
   "source": [
    "#Overlapping histogram of trestbps for the two groups\n",
    "plt.figure(figsize = (10, 7))\n",
    "plt.hist(trestbps_hd, alpha = 0.5, label = 'trestbps heart disease', color = 'red')\n",
    "plt.hist(trestbps_no_hd, alpha = 0.5, label = 'trestbps no heart disease', color = 'blue')\n",
    "plt.xlabel('Resting Blood Pressure')\n",
    "plt.ylabel('Frequency')\n",
    "plt.title('Overlapping histograms of trestbps for the two groups')\n",
    "plt.legend()\n",
    "plt.show()"
   ]
  },
  {
   "cell_type": "code",
   "execution_count": 35,
   "metadata": {},
   "outputs": [
    {
     "data": {
      "image/png": "[encoded data removed]",
      "text/plain": [
       "<Figure size 720x504 with 1 Axes>"
      ]
     },
     "metadata": {
      "needs_background": "light"
     },
     "output_type": "display_data"
    }
   ],
   "source": [
    "#Side by side boxplots of trestbps for the two groups\n",
    "plt.figure(figsize = (10, 7))\n",
    "sns.boxplot(x = 'heart_disease', y = 'trestbps', data = heart)\n",
    "plt.title('Boxplots of ages for the two groups')\n",
    "plt.show()"
   ]
  },
  {
   "cell_type": "markdown",
   "metadata": {},
   "source": [
    "The visualizations suggest there is no significant difference between the resting blood pressure for patients with heart disease and patients without heart disease."
   ]
  },
  {
   "cell_type": "code",
   "execution_count": 36,
   "metadata": {},
   "outputs": [
    {
     "name": "stdout",
     "output_type": "stream",
     "text": [
      "p-value for `trestbps` two-sample t-test:  0.008548268928594928\n"
     ]
    }
   ],
   "source": [
    "#Performing the two sample t-test\n",
    "tstat, pval = ttest_ind(trestbps_hd, trestbps_no_hd)\n",
    "print('p-value for `trestbps` two-sample t-test: ', pval)"
   ]
  },
  {
   "cell_type": "markdown",
   "metadata": {},
   "source": [
    "Observing a p-value of 0.0085"
   ]
  }
 ],
 "metadata": {
  "kernelspec": {
   "display_name": "Python 3 (ipykernel)",
   "language": "python",
   "name": "python3"
  },
  "language_info": {
   "codemirror_mode": {
    "name": "ipython",
    "version": 3
   },
   "file_extension": ".py",
   "mimetype": "text/x-python",
   "name": "python",
   "nbconvert_exporter": "python",
   "pygments_lexer": "ipython3",
   "version": "3.9.10"
  }
 },
 "nbformat": 4,
 "nbformat_minor": 4
}
