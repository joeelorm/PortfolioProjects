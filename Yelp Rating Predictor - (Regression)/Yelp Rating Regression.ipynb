{
 "cells": [
  {
   "cell_type": "markdown",
   "id": "1c578cda",
   "metadata": {},
   "source": [
    "### AIM\n",
    "Yelp is a business organisation that connects people with great local businesses. On the Yelp website you can find recommendations for restaurants, home services, auto services and many local businesses near you. \n",
    "\n",
    "The aim of this project is to find the factors that affect a Yelp rating of a Restaurant, since a restaurant's success is affected by its reputation. The project will make use of Multiple Linear Regression to investigate the factors that affect a restaurant's Yelp rating. \n",
    "\n",
    "Finally, I would love to own a restaurant someday in Berlin, Germany so we would use this model to predict the Yelp rating of this restaurant even before it is opened."
   ]
  },
  {
   "cell_type": "markdown",
   "id": "0af78e6f",
   "metadata": {},
   "source": [
    "### DATA\n",
    "\n",
    "The data used in this project was collected from the Yelp website. https://www.yelp.com/dataset. The data is provided in six different files:\n",
    "\n",
    "- `yelp_business.json`: Contains business data including location data, attributes, and categories.\n",
    "- `yelp_review.json`: Contains full review text data including the user_id that wrote the review and the business_id the review is written for.\n",
    "- `yelp_user.json`: User data including the user's friend mapping and all the metadata associated with the user\n",
    "- `yelp_checkin.json`: Checkins on a business.\n",
    "- `yelp_tip.json`: Tips written by a user on a business. Tips are shorter than reviews and tend to convey quick suggestions.\n",
    "- `yelp_photo.json`: Contains photo data including the caption and classification (one of \"food\", \"drink\", \"menu\", \"inside\" or \"outside\").\n"
   ]
  },
  {
   "cell_type": "markdown",
   "id": "bc6ad8b4",
   "metadata": {},
   "source": [
    "#### Ready, Set, Go...."
   ]
  },
  {
   "cell_type": "code",
   "execution_count": 1,
   "id": "ce98d5fa",
   "metadata": {},
   "outputs": [],
   "source": [
    "#importing pandas \n",
    "import pandas as pd"
   ]
  },
  {
   "cell_type": "code",
   "execution_count": null,
   "id": "69a3822d",
   "metadata": {},
   "outputs": [],
   "source": [
    "#Loading the files into dataframes\n",
    "businesses = pd.read_json('data/yelp_business.json', lines = True)\n",
    "reviews = pd.read_json('data/yelp_review.json', lines = True)\n",
    "users = pd.read_json('data/yelp_user.json', lines = True)\n",
    "checkins = pd.read_json('data/yelp_checkin.json', lines = True)\n",
    "tips = pd.read_json('data/yelp_tip.json', lines = True)\n",
    "photos = pd.read_json('data/yelp_photo.json', lines = True)"
   ]
  },
  {
   "cell_type": "code",
   "execution_count": null,
   "id": "f12bb565",
   "metadata": {},
   "outputs": [],
   "source": [
    "pd.options.display.max_columns = 60\n",
    "pd.options.display.max_colwidth = 500"
   ]
  },
  {
   "cell_type": "markdown",
   "id": "c2fcd777",
   "metadata": {},
   "source": [
    "#### Inspecting the businesses dataframe"
   ]
  },
  {
   "cell_type": "code",
   "execution_count": null,
   "id": "c348efcc",
   "metadata": {},
   "outputs": [],
   "source": [
    "#First 3 rows of the business dataframe\n",
    "businesses.head(3)"
   ]
  },
  {
   "cell_type": "code",
   "execution_count": null,
   "id": "40646237",
   "metadata": {},
   "outputs": [],
   "source": [
    "#Buisness dataframe information\n",
    "businesses.info()"
   ]
  },
  {
   "cell_type": "markdown",
   "id": "b621c652",
   "metadata": {},
   "source": [
    "#### Inspecting the reviews dataframe"
   ]
  },
  {
   "cell_type": "code",
   "execution_count": null,
   "id": "98af5556",
   "metadata": {},
   "outputs": [],
   "source": [
    "reviews.head()"
   ]
  },
  {
   "cell_type": "code",
   "execution_count": null,
   "id": "db876541",
   "metadata": {},
   "outputs": [],
   "source": [
    "reviews.info()"
   ]
  },
  {
   "cell_type": "markdown",
   "id": "db4c35ef",
   "metadata": {},
   "source": [
    "#### Inspecting the users dataframe"
   ]
  },
  {
   "cell_type": "code",
   "execution_count": null,
   "id": "6addad69",
   "metadata": {},
   "outputs": [],
   "source": [
    "users.head()"
   ]
  },
  {
   "cell_type": "code",
   "execution_count": null,
   "id": "4ca690e3",
   "metadata": {},
   "outputs": [],
   "source": [
    "users.info()"
   ]
  },
  {
   "cell_type": "markdown",
   "id": "91ca2e93",
   "metadata": {},
   "source": [
    "#### Inspecting the checkins dataframe"
   ]
  },
  {
   "cell_type": "code",
   "execution_count": null,
   "id": "269546ea",
   "metadata": {},
   "outputs": [],
   "source": [
    "checkins.head()"
   ]
  },
  {
   "cell_type": "code",
   "execution_count": null,
   "id": "0c8d1c00",
   "metadata": {},
   "outputs": [],
   "source": [
    "checkins.info()"
   ]
  },
  {
   "cell_type": "markdown",
   "id": "2dc4a7f7",
   "metadata": {},
   "source": [
    "#### Inspecting the tips dataframe \n"
   ]
  },
  {
   "cell_type": "code",
   "execution_count": null,
   "id": "6d920167",
   "metadata": {},
   "outputs": [],
   "source": [
    "tips.head()"
   ]
  },
  {
   "cell_type": "code",
   "execution_count": null,
   "id": "95f599cf",
   "metadata": {},
   "outputs": [],
   "source": [
    "tips.info()"
   ]
  },
  {
   "cell_type": "markdown",
   "id": "404e4adf",
   "metadata": {},
   "source": [
    "#### Inspecting the photos dataframe"
   ]
  },
  {
   "cell_type": "code",
   "execution_count": null,
   "id": "0ca30672",
   "metadata": {},
   "outputs": [],
   "source": [
    "photos.head()"
   ]
  },
  {
   "cell_type": "code",
   "execution_count": null,
   "id": "f1864575",
   "metadata": {},
   "outputs": [],
   "source": []
  },
  {
   "cell_type": "markdown",
   "id": "45778755",
   "metadata": {},
   "source": [
    "How many different businesses are in the dataset? What are the different features in the review DataFrame?"
   ]
  },
  {
   "cell_type": "code",
   "execution_count": null,
   "id": "b20fa5cd",
   "metadata": {},
   "outputs": [],
   "source": [
    "print('Number of different businesses in the dataset:', businesses['business_id'].nunique())"
   ]
  },
  {
   "cell_type": "code",
   "execution_count": null,
   "id": "82af091e",
   "metadata": {},
   "outputs": [],
   "source": [
    "print('Features of the review dataframe:\\n', list(reviews.columns))"
   ]
  },
  {
   "cell_type": "code",
   "execution_count": null,
   "id": "5a7a428e",
   "metadata": {},
   "outputs": [],
   "source": []
  },
  {
   "cell_type": "markdown",
   "id": "d1ca28ca",
   "metadata": {},
   "source": [
    "#### Merging the dataframes on the business_id columns present in all the six dataframes"
   ]
  },
  {
   "cell_type": "code",
   "execution_count": null,
   "id": "030f8395",
   "metadata": {},
   "outputs": [],
   "source": [
    "#Performing the first merge\n",
    "df = pd.merge(businesses, reviews, how = 'left', on = 'business_id')\n",
    "df.head()"
   ]
  },
  {
   "cell_type": "code",
   "execution_count": null,
   "id": "9da70485",
   "metadata": {},
   "outputs": [],
   "source": [
    "#performing the rest of merges\n",
    "df = pd.merge(df, users, how = 'left', on = 'business_id')\n",
    "df = pd.merge(df, checkins, how = 'left', on = 'business_id')\n",
    "df = pd.merge(df, tips, how = 'left', on = 'business_id')\n",
    "df = pd.merge(df, photos, how = 'left', on = 'business_id')"
   ]
  },
  {
   "cell_type": "code",
   "execution_count": null,
   "id": "545d5f2a",
   "metadata": {},
   "outputs": [],
   "source": [
    "print(df.columns)"
   ]
  },
  {
   "cell_type": "code",
   "execution_count": null,
   "id": "b5d50df7",
   "metadata": {},
   "outputs": [],
   "source": [
    "df.info()"
   ]
  },
  {
   "cell_type": "code",
   "execution_count": null,
   "id": "6bc73d1f",
   "metadata": {},
   "outputs": [],
   "source": []
  },
  {
   "cell_type": "markdown",
   "id": "0ec13b58",
   "metadata": {},
   "source": [
    "#### Data Cleaning\n",
    "\n",
    "In this project and in building the regression model, preference will be given to features that are numerical that will have an effect on the target variable (. Regression models and most of machine models for that matter perform better when features are numbers. So, here all features that do not satisfy our condition will be removed."
   ]
  },
  {
   "cell_type": "code",
   "execution_count": null,
   "id": "0cc9533c",
   "metadata": {},
   "outputs": [],
   "source": [
    "#Filtering out the columns that do not satisfy our condition\n",
    "\n",
    "cols_to_delete = []\n",
    "for col in df.columns:\n",
    "    if df[col].dtype == 'object':\n",
    "        cols_to_delete.append(col)"
   ]
  },
  {
   "cell_type": "code",
   "execution_count": null,
   "id": "e8d22e24",
   "metadata": {},
   "outputs": [],
   "source": [
    "cols_to_delete"
   ]
  },
  {
   "cell_type": "markdown",
   "id": "d922fe62",
   "metadata": {},
   "source": [
    "There are other columns that must be deleted as well. Those will added manually to the list"
   ]
  },
  {
   "cell_type": "code",
   "execution_count": null,
   "id": "70b3d88c",
   "metadata": {},
   "outputs": [],
   "source": [
    "cols_to_delete = cols_to_delete + ['is_open', 'latitude', 'longitude']"
   ]
  },
  {
   "cell_type": "code",
   "execution_count": null,
   "id": "7f77a55f",
   "metadata": {},
   "outputs": [],
   "source": [
    "cols_to_delete"
   ]
  },
  {
   "cell_type": "code",
   "execution_count": null,
   "id": "39c28653",
   "metadata": {},
   "outputs": [],
   "source": [
    "df.drop(cols_to_delete, axis = 1, inplace = True)"
   ]
  },
  {
   "cell_type": "code",
   "execution_count": null,
   "id": "09077ed6",
   "metadata": {},
   "outputs": [],
   "source": [
    "df.info()"
   ]
  },
  {
   "cell_type": "code",
   "execution_count": null,
   "id": "15099b0a",
   "metadata": {},
   "outputs": [],
   "source": [
    "#Cehcking for missing values\n",
    "df.isna().sum()"
   ]
  },
  {
   "cell_type": "markdown",
   "id": "426d98ed",
   "metadata": {},
   "source": [
    "There are a few columns with missing values. Since our dataset has no information recorded for some businesses in these columns, we will assume the Yelp pages did not display these features. For example, if there is a NaN value for number_pics, it means that the associated business did not have any pictures posted on its Yelp page. Thus we can replace all of our NaNs with 0s."
   ]
  },
  {
   "cell_type": "code",
   "execution_count": null,
   "id": "eaf83c11",
   "metadata": {},
   "outputs": [],
   "source": [
    "#Replacing the NaN values with zeros\n",
    "df.fillna({'weekday_checkins': 0,\n",
    "          'weekend_checkins': 0,\n",
    "          'average_tip_length': 0,\n",
    "          'number_tips': 0,\n",
    "          'average_caption_length': 0,\n",
    "          'number_pics': 0}, inplace = True)"
   ]
  },
  {
   "cell_type": "code",
   "execution_count": null,
   "id": "95e336d4",
   "metadata": {},
   "outputs": [],
   "source": [
    "df.isna().sum()"
   ]
  },
  {
   "cell_type": "markdown",
   "id": "7598db62",
   "metadata": {},
   "source": [
    "#### Exploratory Data Analysis"
   ]
  },
  {
   "cell_type": "code",
   "execution_count": null,
   "id": "ffc28a03",
   "metadata": {},
   "outputs": [],
   "source": [
    "import matplotlib.pyplot as plt\n",
    "import seaborn as sns\n",
    "from scipy.stats import pearsonr"
   ]
  },
  {
   "cell_type": "code",
   "execution_count": null,
   "id": "cb07ac3e",
   "metadata": {},
   "outputs": [],
   "source": [
    "df.corr()"
   ]
  },
  {
   "cell_type": "markdown",
   "id": "5d72c663",
   "metadata": {},
   "source": [
    "There are features that correlate most with Yelp rating - `average_review_sentiment`, `average_review_length`, `average_review_age`. `average_review_sentiment` is the average sentiment score for all reviews on a business' Yelp page. The sentiment score for a review was calculated using the sentiment analysis tool VADER. VADER uses a labeled set of positive and negative words, along with codified rules of grammar, to estimate how positive or negative a statement is. Scores range from -1, most negative, to +1, most positive, with a score of 0 indicating a neutral statement. While not perfect, VADER does a good job at guessing the sentiment of text data."
   ]
  },
  {
   "cell_type": "code",
   "execution_count": null,
   "id": "06718042",
   "metadata": {},
   "outputs": [],
   "source": [
    "#Correlation between average_review_sentiment and stars\n",
    "corr = pearsonr(df['average_review_sentiment'], df['stars'])\n",
    "print(corr[0])"
   ]
  },
  {
   "cell_type": "code",
   "execution_count": null,
   "id": "5f94213e",
   "metadata": {},
   "outputs": [],
   "source": [
    "#Plotting average_review_sentiment against stars\n",
    "plt.figure(figsize = (10,7))\n",
    "plt.scatter(df['average_review_sentiment'], df['stars'], alpha = 0.1)\n",
    "plt.title('average_review_sentiment vs. stars (correlation:' + str(corr[0]) + ')')\n",
    "plt.xlabel('average review sentiment')\n",
    "plt.ylabel('Yelp Rating')\n",
    "plt.show()"
   ]
  },
  {
   "cell_type": "code",
   "execution_count": null,
   "id": "085252e0",
   "metadata": {},
   "outputs": [],
   "source": [
    "#Correlation between average_review_sentiment and stars\n",
    "corr = pearsonr(df['average_review_length'], df['stars'])\n",
    "print(corr[0])"
   ]
  },
  {
   "cell_type": "code",
   "execution_count": null,
   "id": "e05f44f7",
   "metadata": {},
   "outputs": [],
   "source": [
    "#Plotting average_review_length against stars\n",
    "plt.figure(figsize = (10,7))\n",
    "plt.scatter(df['average_review_length'], df['stars'], alpha = 0.1)\n",
    "plt.title('average_review_length vs. stars (correlation:' + str(corr[0]) + ')')\n",
    "plt.xlabel('average review length')\n",
    "plt.ylabel('Yelp Rating')\n",
    "plt.show()"
   ]
  },
  {
   "cell_type": "code",
   "execution_count": null,
   "id": "0f71ff6c",
   "metadata": {},
   "outputs": [],
   "source": [
    "#Correlation between average_review_sentiment and stars\n",
    "corr = pearsonr(df['average_review_age'], df['stars'])\n",
    "print(corr[0])"
   ]
  },
  {
   "cell_type": "code",
   "execution_count": null,
   "id": "a600e96b",
   "metadata": {},
   "outputs": [],
   "source": [
    "#Plotting average_review_length against stars\n",
    "plt.figure(figsize = (10,7))\n",
    "plt.scatter(df['average_review_age'], df['stars'], alpha = 0.1)\n",
    "plt.title('average_review_age vs. stars (correlation:' + str(corr[0]) + ')')\n",
    "plt.xlabel('average review age')\n",
    "plt.ylabel('Yelp Rating')\n",
    "plt.show()"
   ]
  },
  {
   "cell_type": "code",
   "execution_count": null,
   "id": "dd8b167f",
   "metadata": {},
   "outputs": [],
   "source": [
    "#Correlation between average_review_sentiment and stars\n",
    "corr = pearsonr(df['number_funny_votes'], df['stars'])\n",
    "print(corr[0])"
   ]
  },
  {
   "cell_type": "code",
   "execution_count": null,
   "id": "76f5c481",
   "metadata": {},
   "outputs": [],
   "source": [
    "#Plotting number_funny_votes against stars\n",
    "#Plotting average_review_length against stars\n",
    "plt.figure(figsize = (10,7))\n",
    "plt.scatter(df['number_funny_votes'], df['stars'], alpha = 0.1)\n",
    "plt.title('number_funny_votes vs. stars (correlation:' + str(corr[0]) + ')')\n",
    "plt.xlabel('number funny votes')\n",
    "plt.ylabel('Yelp Rating')\n",
    "plt.show()"
   ]
  },
  {
   "cell_type": "markdown",
   "id": "2a63f6d3",
   "metadata": {},
   "source": [
    "### Data Selection & Model Building\n",
    "In order to put our data into a Linear Regression model, we need to separate out our features to model on and the Yelp ratings. From our correlation analysis we saw that the three features with the strongest correlations to Yelp rating are `average_review_sentiment`, `average_review_lengt`h, and `average_review_age`. Since we want to dig a little deeper than `average_review_sentiment`, which understandably has a very high correlation with Yelp rating, let's choose to create our first model with `average_review_length` and `average_review_age` as features."
   ]
  },
  {
   "cell_type": "code",
   "execution_count": null,
   "id": "036df144",
   "metadata": {},
   "outputs": [],
   "source": [
    "features = df[['average_review_length', 'average_review_age']]\n",
    "ratings = df['stars']"
   ]
  },
  {
   "cell_type": "code",
   "execution_count": null,
   "id": "b74f070e",
   "metadata": {},
   "outputs": [],
   "source": [
    "#Splitting the data into train and test sets\n",
    "\n",
    "from sklearn.model_selection import train_test_split\n",
    "X_train, X_test, y_train, y_test = train_test_split(features, ratings, test_size = 0.2, random_state = 1)"
   ]
  },
  {
   "cell_type": "code",
   "execution_count": null,
   "id": "c21e6a4d",
   "metadata": {},
   "outputs": [],
   "source": [
    "#Fitting the model\n",
    "from sklearn.linear_model import LinearRegression\n",
    "\n",
    "model = LinearRegression()\n",
    "model.fit(X_train, y_train)"
   ]
  },
  {
   "cell_type": "markdown",
   "id": "bfd865d7",
   "metadata": {},
   "source": [
    "#### Evaluating and understanding the model.\n",
    "\n",
    "The model can be evaluated using the `.score()` method, which provides the R^2 value for our model. R^2 is the coefficient of determination, or a measure of the variance in the dependent variable, that is the Yelp rating, is explained by the independent variables, the features of the data.R^2 values range from `0` to `1`, with `0` indicating that the created model does not fit the data at all, and `1` indicating the model perfectly fits the data."
   ]
  },
  {
   "cell_type": "code",
   "execution_count": null,
   "id": "829c08c8",
   "metadata": {},
   "outputs": [],
   "source": [
    "model.score(X_train, y_train)"
   ]
  },
  {
   "cell_type": "code",
   "execution_count": null,
   "id": "1f9d6541",
   "metadata": {},
   "outputs": [],
   "source": [
    "model.score(X_test, y_test)"
   ]
  },
  {
   "cell_type": "code",
   "execution_count": null,
   "id": "898921ad",
   "metadata": {},
   "outputs": [],
   "source": [
    "#Printint the coefficients of the features\n",
    "sorted(list(zip(['average_review_length','average_review_age'],model.coef_)),key = lambda x: abs(x[1]),reverse=True)"
   ]
  },
  {
   "cell_type": "markdown",
   "id": "dc4679fc",
   "metadata": {},
   "source": [
    "Lastly we can calculate the predicted Yelp ratings for our testing data and compare them to their actual Yelp ratings. "
   ]
  },
  {
   "cell_type": "code",
   "execution_count": null,
   "id": "926d9158",
   "metadata": {},
   "outputs": [],
   "source": [
    "y_predicted = model.predict(X_test)"
   ]
  },
  {
   "cell_type": "code",
   "execution_count": null,
   "id": "45d48cd2",
   "metadata": {},
   "outputs": [],
   "source": [
    "plt.figure(figsize = (10,7))\n",
    "plt.scatter(y_test,y_predicted)\n",
    "plt.xlabel('Yelp Rating')\n",
    "plt.ylabel('Predicted Yelp Rating')\n",
    "plt.ylim(1,5)\n",
    "plt.show()"
   ]
  },
  {
   "cell_type": "markdown",
   "id": "8861d15c",
   "metadata": {},
   "source": [
    "#### Define different Subsets of Data\n",
    "\n",
    "After evaluating the first model, you can see that average_review_length and average_review_age alone are not the best predictors for Yelp rating. Let's go do some more modeling with different subsets of features and see if we can achieve a more accurate model."
   ]
  },
  {
   "cell_type": "code",
   "execution_count": null,
   "id": "2583ab91",
   "metadata": {},
   "outputs": [],
   "source": [
    "# subset of only average review sentiment\n",
    "sentiment = ['average_review_sentiment']\n",
    "\n",
    "# subset of all features that have a response range [0,1]\n",
    "binary_features = ['alcohol?','has_bike_parking','takes_credit_cards','good_for_kids','take_reservations','has_wifi']\n",
    "\n",
    "# subset of all features that vary on a greater range than [0,1]\n",
    "numeric_features = ['review_count','price_range','average_caption_length','number_pics','average_review_age','average_review_length','average_review_sentiment','number_funny_votes','number_cool_votes','number_useful_votes','average_tip_length','number_tips','average_number_friends','average_days_on_yelp','average_number_fans','average_review_count','average_number_years_elite','weekday_checkins','weekend_checkins']\n",
    "\n",
    "# all features\n",
    "all_features = binary_features + numeric_features"
   ]
  },
  {
   "cell_type": "code",
   "execution_count": null,
   "id": "58325d64",
   "metadata": {},
   "outputs": [],
   "source": [
    "import numpy as np\n",
    "\n",
    "# take a list of features to model as a parameter\n",
    "def model(feature_list):\n",
    "    \n",
    "    # define ratings and features, with the features limited to our chosen subset of data\n",
    "    ratings = df.loc[:,'stars']\n",
    "    features = df.loc[:,feature_list]\n",
    "    \n",
    "    # perform train, test, split on the data\n",
    "    X_train, X_test, y_train, y_test = train_test_split(features, ratings, test_size = 0.2, random_state = 1)\n",
    "    \n",
    "    \n",
    "    if len(X_train.shape) < 2:\n",
    "        X_train = np.array(X_train).reshape(-1,1)\n",
    "        X_test = np.array(X_test).reshape(-1,1)\n",
    "    \n",
    "    # create and fit the model to the training data\n",
    "    model = LinearRegression()\n",
    "    model.fit(X_train,y_train)\n",
    "    \n",
    "    # print the train and test scores\n",
    "    print('Train Score:', model.score(X_train,y_train))\n",
    "    print('Test Score:', model.score(X_test,y_test))\n",
    "    \n",
    "    # print the model features and their corresponding coefficients, from most predictive to least predictive\n",
    "    print(sorted(list(zip(feature_list,model.coef_)),key = lambda x: abs(x[1]),reverse=True))\n",
    "    \n",
    "    # calculate the predicted Yelp ratings from the test data\n",
    "    y_predicted = model.predict(X_test)\n",
    "    \n",
    "    # plot the actual Yelp Ratings vs the predicted Yelp ratings for the test data\n",
    "    plt.scatter(y_test,y_predicted)\n",
    "    plt.xlabel('Yelp Rating')\n",
    "    plt.ylabel('Predicted Yelp Rating')\n",
    "    plt.ylim(1,5)\n",
    "    plt.show()"
   ]
  },
  {
   "cell_type": "code",
   "execution_count": null,
   "id": "cea0f9cf",
   "metadata": {},
   "outputs": [],
   "source": [
    "#creating model on only sentiment\n",
    "\n",
    "model(sentiment)"
   ]
  },
  {
   "cell_type": "code",
   "execution_count": null,
   "id": "f7882fa6",
   "metadata": {},
   "outputs": [],
   "source": [
    "#creating model on only sentiment\n",
    "model(binary_features)"
   ]
  },
  {
   "cell_type": "code",
   "execution_count": null,
   "id": "4c18b949",
   "metadata": {},
   "outputs": [],
   "source": [
    "#creating a model with numeric features\n",
    "model(numeric_features)"
   ]
  },
  {
   "cell_type": "code",
   "execution_count": null,
   "id": "d0d9913c",
   "metadata": {},
   "outputs": [],
   "source": [
    "#creating a model with all features\n",
    "model(all_features)"
   ]
  },
  {
   "cell_type": "code",
   "execution_count": null,
   "id": "1fa13d82",
   "metadata": {},
   "outputs": [],
   "source": []
  },
  {
   "cell_type": "markdown",
   "id": "e2b79adf",
   "metadata": {},
   "source": [
    "#### Own Restauarant\n",
    "Should we open our own restaurant want would the rating be on Yelp? It is observed that a regression model with all the features used produced the best results. So this is the model that will be used here."
   ]
  },
  {
   "cell_type": "code",
   "execution_count": null,
   "id": "219df023",
   "metadata": {},
   "outputs": [],
   "source": [
    "features = df.loc[:, all_features]\n",
    "ratings = df.loc[:, 'stars']\n",
    "X_train, X_test, y_train, y_test = train_test_split(features, ratings, test_size = 0.2, random_state = 1)\n",
    "model = LinearRegression()\n",
    "model.fit(X_train, y_train)"
   ]
  },
  {
   "cell_type": "code",
   "execution_count": null,
   "id": "6aa91661",
   "metadata": {},
   "outputs": [],
   "source": [
    "#Example features for the restauarant\n",
    "new_restaurant = np.array([0,1,1,1,1,1,10,2,3,10,10,1200,0.9,3,6,5,50,3,50,1800,12,123,0.5,0,0]).reshape(1,-1)"
   ]
  },
  {
   "cell_type": "code",
   "execution_count": null,
   "id": "2cb865a2",
   "metadata": {},
   "outputs": [],
   "source": [
    "#Predicted rating\n",
    "model.predict(new_restaurant)"
   ]
  },
  {
   "cell_type": "markdown",
   "id": "f621d324",
   "metadata": {},
   "source": [
    "Using arbitrary values for features of the new restaurant, we got a rating of 4!"
   ]
  },
  {
   "cell_type": "code",
   "execution_count": null,
   "id": "ecfd52ae",
   "metadata": {},
   "outputs": [],
   "source": []
  }
 ],
 "metadata": {
  "kernelspec": {
   "display_name": "Python 3 (ipykernel)",
   "language": "python",
   "name": "python3"
  },
  "language_info": {
   "codemirror_mode": {
    "name": "ipython",
    "version": 3
   },
   "file_extension": ".py",
   "mimetype": "text/x-python",
   "name": "python",
   "nbconvert_exporter": "python",
   "pygments_lexer": "ipython3",
   "version": "3.9.10"
  }
 },
 "nbformat": 4,
 "nbformat_minor": 5
}
