{
 "cells": [
  {
   "cell_type": "markdown",
   "metadata": {},
   "source": [
    "<h1 style = 'font-family:verdana'><center>DEVELOPMENT OF A MACHINE LEARNING MODEL TO ESTIMATE THE CREDIT WORTHINESS OF LOAN APPLICANTS</center></h1>\n",
    "\n",
    "<h2  style = 'font-family:verdana'><center>JOSEPH SEGBEFIA (B1011628)</center></h2>\n",
    "<h3  style = 'font-family:verdana'><center>GISMA Business School</center></h3>\n",
    "<h4  style = 'font-family:verdana'> <center>MSc. Business Intelligence and Analytics</center></h4>\n",
    "\n",
    "<h4  style = 'font-family:verdana'><center>Predictive Analytics</center></h4>"
   ]
  },
  {
   "cell_type": "markdown",
   "metadata": {},
   "source": []
  },
  {
   "cell_type": "markdown",
   "metadata": {},
   "source": [
    "<h3 style = 'font-family:verdana'>ABSTRACT</h3>\n",
    "<p style = 'font-family:verdana'>The objective of this project is to develop a machine learning model to help estimate or predict the credit worthiness of loan applicants. The estimation/prediction will be done by looking at some information (features) on each applicant. This is a case of supervised machine learning technique called classification, where the algorithm is first trained on features of each applicant, and used to classify new applicants as 'worthy' or 'not worthy' for a loan.</p>"
   ]
  },
  {
   "cell_type": "markdown",
   "metadata": {},
   "source": [
    "<h3 style = 'font-family:verdana'>INTRODUCTION</h3>\n",
    "<h5 style = 'font-family:verdana'>Problem Statement:</h5> \n",
    "<p style = 'font-family:verdana'>A payday loan company used human experts to assess the credit risk of 988 credit applications. The aim is to use this input to create a system that would estimate the credit risk of new applications.</p>\n",
    " \n",
    "<p style = 'font-family:verdana'>In recent times, most industries are on the path of digital transformation and machine learning is at the center of this revolution. Institutions like banks, loan companies, e-commerce companies and hospitals usually employ machine learning to make their work easier. Of all the industries on the path of digital transformation, financial institutions, like loan companies and banks are at the top of the list of those that can benefit the most. Loan companies for example use machine learning which helps them become more agile, and also gives them the ability to process loans faster and more accurately.</p>\n",
    "<p style = 'font-family:verdana'>This project seeks to employ the various techniques in machine learning to come up with a machine learning model and a system that will help loan companies predict the credit worthiness or otherwise unworthiness of new loan applicants. This system will be the core decision maker to segregate loan applicants into two groups where the worthy applicants get the loans approved and not worthy applicants do not receive any loans.</p>"
   ]
  },
  {
   "cell_type": "markdown",
   "metadata": {},
   "source": [
    "<h3 style = 'font-family:verdana'>METHODOLOGY</h3>\n",
    "<p style = 'font-family:verdana'>The methods that will be applied to arrive at building model is general referred to as the Data Science process. This process is a series of activities that takes place from data collection to model building. In this project, the data provided contains information on 988 loan applicants which makes up the data collection phase. The other phases are as follows:</p>\n",
    "    <ol>\n",
    "        <p style = 'font-family:verdana'><li>Data Cleaning: Here the data is examined for missing values, outliers and other data inconsistencies and problems. Missing values either are usually dealt with by removing them or replacing them with values that makes sense. The data provided contained no missing values. The outliers present in the data were discarded as they have negative effects on machine learning models and statistical tests.</li></p>\n",
    "    <p style = 'font-family:verdana'><li>Data Exploration: The data was explored using python and pandas in order to gain first hand insights to the patterns and trends existent in the dataset. This provides an overview on the distributions of quantitative features and other information that might be important for building the machine learning model.</li></p>\n",
    "    <p style = 'font-family:verdana'><li>Feature and Model Selection: The most important features of the dataset that have the greatest influence on the outcome of the model were selected using statistical methods like the two sample t-test, and the Chi-Square Test. Finally a gradient boosting classifier was employed to help predict the credit worthiness of new applicants.</li></p>\n",
    "    </ol>\n",
    "<p style = 'font-family:verdana'>This project is presented in two parts because of the requirement to stay within a certain number of words. This document contains the main findings and answers to the project questions which make up the document to satisfy the word count limit of 2500. Additionally, since this is a very practical work, the jupyter notebook and python codes have been added at the end of this document to show how the information presented in this document was arrived at. The jupyter notebook is not a part of the main document and such does not make up the word counts. It was only added to show proof of work.</p>"
   ]
  },
  {
   "cell_type": "markdown",
   "metadata": {},
   "source": [
    "<h4 style = 'font-family:verdana'> The Data and Exploratory Data Analysis</h4>"
   ]
  },
  {
   "cell_type": "code",
   "execution_count": 1,
   "metadata": {},
   "outputs": [],
   "source": [
    "#IMPORTING LIBRARIES AND DEPENDENCIES\n",
    "#Import dependencies\n",
    "%matplotlib inline\n",
    "\n",
    "# Data Manipulation\n",
    "import numpy as np\n",
    "import pandas as pd\n",
    "\n",
    "# Visualization \n",
    "import matplotlib.pyplot as plt\n",
    "import seaborn as sns\n",
    "plt.style.use('seaborn-whitegrid')\n",
    "\n",
    "#Statistics\n",
    "from scipy.stats import iqr\n",
    "\n",
    "#Associations and Hypothesis testing\n",
    "from scipy.stats import ttest_ind #for perfoming two-sample t-tests\n",
    "from scipy.stats import chi2_contingency\n",
    "\n",
    "#Machine Learning\n",
    "from scipy.stats import randint\n",
    "from sklearn.tree import DecisionTreeClassifier\n",
    "from sklearn.model_selection import GridSearchCV\n",
    "from sklearn.preprocessing import MinMaxScaler\n",
    "from sklearn.model_selection import train_test_split\n",
    "\n",
    "from sklearn.linear_model import LogisticRegression\n",
    "from sklearn.ensemble import RandomForestClassifier\n",
    "from sklearn.ensemble import GradientBoostingClassifier\n",
    "from sklearn.model_selection import cross_val_score \n",
    "from sklearn import metrics"
   ]
  },
  {
   "cell_type": "code",
   "execution_count": 2,
   "metadata": {},
   "outputs": [
    {
     "name": "stdout",
     "output_type": "stream",
     "text": [
      "The dataframe has 988 rows and 22 columns\n"
     ]
    }
   ],
   "source": [
    "#Loading the data into a pandas dataframe called data\n",
    "data = pd.read_excel('data.xlsx')\n",
    "\n",
    "print('The dataframe has {} rows and {} columns'.format(data.shape[0], data.shape[1]))"
   ]
  },
  {
   "cell_type": "code",
   "execution_count": 3,
   "metadata": {},
   "outputs": [
    {
     "data": {
      "text/html": [
       "<div>\n",
       "<style scoped>\n",
       "    .dataframe tbody tr th:only-of-type {\n",
       "        vertical-align: middle;\n",
       "    }\n",
       "\n",
       "    .dataframe tbody tr th {\n",
       "        vertical-align: top;\n",
       "    }\n",
       "\n",
       "    .dataframe thead th {\n",
       "        text-align: right;\n",
       "    }\n",
       "</style>\n",
       "<table border=\"1\" class=\"dataframe\">\n",
       "  <thead>\n",
       "    <tr style=\"text-align: right;\">\n",
       "      <th></th>\n",
       "      <th>foreignworker</th>\n",
       "      <th>status</th>\n",
       "      <th>credithistory</th>\n",
       "      <th>purpose</th>\n",
       "      <th>savings</th>\n",
       "      <th>employmentsince</th>\n",
       "      <th>otherdebtors</th>\n",
       "      <th>property</th>\n",
       "      <th>otherinstallments</th>\n",
       "      <th>housing</th>\n",
       "      <th>...</th>\n",
       "      <th>duration</th>\n",
       "      <th>creditamount</th>\n",
       "      <th>installmentrate</th>\n",
       "      <th>residencesince</th>\n",
       "      <th>age</th>\n",
       "      <th>numberofexsistingcredits</th>\n",
       "      <th>numberofliablepeople</th>\n",
       "      <th>gender</th>\n",
       "      <th>creditworthy</th>\n",
       "      <th>creditamout_per_month</th>\n",
       "    </tr>\n",
       "  </thead>\n",
       "  <tbody>\n",
       "    <tr>\n",
       "      <th>0</th>\n",
       "      <td>yes</td>\n",
       "      <td>&lt; 0 Euro</td>\n",
       "      <td>critical account/</td>\n",
       "      <td>radio/television</td>\n",
       "      <td>unknown/ no savings account</td>\n",
       "      <td>.. &gt;= 7 years</td>\n",
       "      <td>none</td>\n",
       "      <td>real estate</td>\n",
       "      <td>none</td>\n",
       "      <td>own</td>\n",
       "      <td>...</td>\n",
       "      <td>6</td>\n",
       "      <td>1169</td>\n",
       "      <td>4</td>\n",
       "      <td>4</td>\n",
       "      <td>67</td>\n",
       "      <td>2</td>\n",
       "      <td>1</td>\n",
       "      <td>male</td>\n",
       "      <td>Worthy</td>\n",
       "      <td>194.833333</td>\n",
       "    </tr>\n",
       "    <tr>\n",
       "      <th>1</th>\n",
       "      <td>yes</td>\n",
       "      <td>&lt; 200 Euro</td>\n",
       "      <td>existing credits paid back duly till now</td>\n",
       "      <td>radio/television</td>\n",
       "      <td>... &lt; 100 Euro</td>\n",
       "      <td>1 &lt;= ... &lt; 4 years</td>\n",
       "      <td>none</td>\n",
       "      <td>real estate</td>\n",
       "      <td>none</td>\n",
       "      <td>own</td>\n",
       "      <td>...</td>\n",
       "      <td>48</td>\n",
       "      <td>5951</td>\n",
       "      <td>2</td>\n",
       "      <td>2</td>\n",
       "      <td>22</td>\n",
       "      <td>1</td>\n",
       "      <td>1</td>\n",
       "      <td>female</td>\n",
       "      <td>Not Worthy</td>\n",
       "      <td>123.979167</td>\n",
       "    </tr>\n",
       "  </tbody>\n",
       "</table>\n",
       "<p>2 rows × 22 columns</p>\n",
       "</div>"
      ],
      "text/plain": [
       "  foreignworker      status                             credithistory  \\\n",
       "0           yes    < 0 Euro                         critical account/   \n",
       "1           yes  < 200 Euro  existing credits paid back duly till now   \n",
       "\n",
       "            purpose                      savings     employmentsince  \\\n",
       "0  radio/television  unknown/ no savings account       .. >= 7 years   \n",
       "1  radio/television               ... < 100 Euro  1 <= ... < 4 years   \n",
       "\n",
       "  otherdebtors     property otherinstallments housing  ... duration  \\\n",
       "0         none  real estate              none     own  ...        6   \n",
       "1         none  real estate              none     own  ...       48   \n",
       "\n",
       "  creditamount  installmentrate  residencesince  age  \\\n",
       "0         1169                4               4   67   \n",
       "1         5951                2               2   22   \n",
       "\n",
       "   numberofexsistingcredits  numberofliablepeople  gender  creditworthy  \\\n",
       "0                         2                     1    male        Worthy   \n",
       "1                         1                     1  female    Not Worthy   \n",
       "\n",
       "  creditamout_per_month  \n",
       "0            194.833333  \n",
       "1            123.979167  \n",
       "\n",
       "[2 rows x 22 columns]"
      ]
     },
     "execution_count": 3,
     "metadata": {},
     "output_type": "execute_result"
    }
   ],
   "source": [
    "data.head(2)"
   ]
  },
  {
   "cell_type": "markdown",
   "metadata": {},
   "source": [
    "<h4 style = 'font-family:verdana'>The Data</h4>\n",
    "<p style = 'font-family:verdana'> The dataset is made up of 988 rows. This means that it contains information on 988 loan applicants, where each row represents one applicant. In addition to the number of rows, it has twenty-two (22) columns (features). The features or columns include; 'foreignworker', 'status', 'credithistory', 'purpose', and 'savings' just to name a few. Among these features, is the target variable (the variable the machine learning model predicts) is the creditworthy column. In order for the machine learning model to predict the credit worthiness of future applicants, it must be first trained using the other features. The data types of the features in the dataset are: 'string' which is usually represnted as 'object' and 'numeric' usually represented as an 'integer (int64)' or a 'float (float64)'. The cell below shows the datatype and the non-null value counts for each column. As can be seen, the data contains no values.</p>\n",
    "<p style = 'color:red'>Review this section</p>"
   ]
  },
  {
   "cell_type": "code",
   "execution_count": 4,
   "metadata": {},
   "outputs": [
    {
     "name": "stdout",
     "output_type": "stream",
     "text": [
      "<class 'pandas.core.frame.DataFrame'>\n",
      "RangeIndex: 988 entries, 0 to 987\n",
      "Data columns (total 22 columns):\n",
      " #   Column                    Non-Null Count  Dtype  \n",
      "---  ------                    --------------  -----  \n",
      " 0   foreignworker             988 non-null    object \n",
      " 1   status                    988 non-null    object \n",
      " 2   credithistory             988 non-null    object \n",
      " 3   purpose                   988 non-null    object \n",
      " 4   savings                   988 non-null    object \n",
      " 5   employmentsince           988 non-null    object \n",
      " 6   otherdebtors              988 non-null    object \n",
      " 7   property                  988 non-null    object \n",
      " 8   otherinstallments         988 non-null    object \n",
      " 9   housing                   988 non-null    object \n",
      " 10  job                       988 non-null    object \n",
      " 11  phone                     988 non-null    object \n",
      " 12  duration                  988 non-null    int64  \n",
      " 13  creditamount              988 non-null    int64  \n",
      " 14  installmentrate           988 non-null    int64  \n",
      " 15  residencesince            988 non-null    int64  \n",
      " 16  age                       988 non-null    int64  \n",
      " 17  numberofexsistingcredits  988 non-null    int64  \n",
      " 18  numberofliablepeople      988 non-null    int64  \n",
      " 19  gender                    988 non-null    object \n",
      " 20  creditworthy              988 non-null    object \n",
      " 21  creditamout_per_month     988 non-null    float64\n",
      "dtypes: float64(1), int64(7), object(14)\n",
      "memory usage: 169.9+ KB\n"
     ]
    }
   ],
   "source": [
    "data.info()"
   ]
  },
  {
   "cell_type": "markdown",
   "metadata": {},
   "source": [
    "<h4 style = 'font-family:verdana'>Exploratory Data Analysis</h4>\n",
    "<p style = 'font-family:verdana'> Exploratory Data Analysis (EDA) is usually on of the first things a data scientist or data analyst does to the data. The main purpose of performing Exploratory Data Analysis is to help the data scientist have a look at the data he has before making any assumptions. It helps to identify obvious errors and also to identify and understand patterns within the data, detect outliers and also to find relationships and associations between variables. In the next few cells, exploratory data analysis will be performed on the dataset to help bring out hidden information in the data before a machine learning model can be fitted. Some of the quantitative columns in the data have outliers that will affect the analysis to be conducted and the machine learning model that will be built later. In order to avoid these problems, all outliers will be removed from the dataset.</p>"
   ]
  },
  {
   "cell_type": "code",
   "execution_count": 5,
   "metadata": {
    "scrolled": false
   },
   "outputs": [
    {
     "name": "stdout",
     "output_type": "stream",
     "text": [
      "  foreignworker    status      credithistory           purpose  \\\n",
      "0           yes  < 0 Euro  critical account/  radio/television   \n",
      "\n",
      "                       savings employmentsince otherdebtors     property  \\\n",
      "0  unknown/ no savings account   .. >= 7 years         none  real estate   \n",
      "\n",
      "  otherinstallments housing  ... duration creditamount  installmentrate  \\\n",
      "0              none     own  ...        6         1169                4   \n",
      "\n",
      "   residencesince  age  numberofexsistingcredits  numberofliablepeople  \\\n",
      "0               4   67                         2                     1   \n",
      "\n",
      "   gender  creditworthy creditamout_per_month  \n",
      "0    male        Worthy            194.833333  \n",
      "\n",
      "[1 rows x 22 columns]\n",
      "\n",
      "The youngest applicant is 19 years\n",
      "The oldest applicant is 75 years\n",
      "The average age of an applicant is 35.46 years\n",
      "\n"
     ]
    },
    {
     "data": {
      "image/png": "[encoded data removed]",
      "text/plain": [
       "<Figure size 360x576 with 1 Axes>"
      ]
     },
     "metadata": {},
     "output_type": "display_data"
    },
    {
     "name": "stdout",
     "output_type": "stream",
     "text": [
      "\n"
     ]
    },
    {
     "data": {
      "image/png": "[encoded data removed]",
      "text/plain": [
       "<Figure size 864x576 with 1 Axes>"
      ]
     },
     "metadata": {},
     "output_type": "display_data"
    }
   ],
   "source": [
    "#Performing Exploratory Data Analysis\n",
    "print(data.head(1)) #Printing the first row of the dataframe\n",
    "print('')\n",
    "\n",
    "#Extracting the ages of the loan applicants into a variable called ages\n",
    "ages = data['age']\n",
    "print('The youngest applicant is {} years'.format(np.min(ages)))\n",
    "print('The oldest applicant is {} years'.format(np.max(ages)))\n",
    "print('The average age of an applicant is {:.2f} years'.format(np.mean(ages)))\n",
    "print('')\n",
    "\n",
    "#Making a boxplot of the ages to reflect the median age, minimum age, maximum age, and any outliers present in the age\n",
    "#column\n",
    "plt.figure(figsize = (5, 8))\n",
    "sns.boxplot(y = ages)\n",
    "plt.title('Figure 1: Boxplot')\n",
    "plt.show()\n",
    "print('')\n",
    "\n",
    "\n",
    "interquartile_range = iqr(ages)\n",
    "third_quartile = np.quantile(ages, 0.75)\n",
    "upper_extreme = third_quartile + (1.5 * interquartile_range)\n",
    "\n",
    "\n",
    "#Making a histogram of the ages\n",
    "plt.figure(figsize = (12, 8))\n",
    "plt.title('Figure 2: Distribution of Applicant Ages')\n",
    "sns.histplot(ages)\n",
    "plt.axvline(np.min(ages), color = 'red', linestyle = 'dashed', label = 'Minimum age')\n",
    "plt.axvline(np.median(ages), color = 'green', linestyle = 'dashed', label = 'Median age')\n",
    "plt.axvline(np.mean(ages), color = 'black', linestyle = 'dashed', label = 'Average age')\n",
    "plt.axvline(upper_extreme, color = 'gold', linestyle = 'dashed', label = 'Maximum age')\n",
    "plt.legend()\n",
    "plt.show()\n",
    "\n"
   ]
  },
  {
   "cell_type": "markdown",
   "metadata": {},
   "source": [
    "<h5 style = 'font-family:verdana'>Applicant Ages</h5>\n",
    "<p style = 'font-family:verdana'>Taking a look at the ages of the applicants in the dataset shows majority of the applicants are between 20 to 40 years as shown in the histogram (Figure 2) above. The youngest applicant is nineteen years, the oldest applicant is 75 years. The average age of the applicants is also around 35 years. This goes to show that applicants for loans as recorded in the dataset are mostly young. From the boxplot above (Figure 1), it can be observed that the there are unusually old applicants in the dataset. These applicant age group fall above the normal range of ages captured in the dataset. These age values are referred to as outliers because they differ from the normal occurrence in the dataset. From the histogram diagram above, values on the right hand side of the yellow dashed vertical line constitute the outliers. The histogram shows that the ages of the applicants are not normally distributed as majority of the ages fall to the left of the plot. This is because the mean is greater than the median causing the distribution to be skewed to the right.</p>"
   ]
  },
  {
   "cell_type": "markdown",
   "metadata": {},
   "source": [
    "<h5 style = 'font-family:verdana'>Exploring Outliers</h5>\n",
    "<p style = 'font-family:verdana'>When data is represented using a box and whisker plot, the outliers in the dataset are the points in the dataset that fall outside of the whiskers of the boxplot. Outliers are usually represented with a dot or an asterisk. It is an observation or data point that resides at an abnormal distance (more than 3 standard deviations from the sample mean) from other values in the sample. Outliers have the tendency of increasing the variability in a sample, which decreases statistical power. So, removing them can cause results to become statistically significant. Present in the given data are outliers in almost all the quantitative columns. Columns with outliers include, 'duration', 'creditamount', 'age', and others as shown by the boxplots below.</p>\n",
    "<p style = 'font-family:verdana'>The column called numberofliablepeople only contains two unique values i.e 1, 2. So it was recoded as a categorical variable instead of a quantitative one.</p>"
   ]
  },
  {
   "cell_type": "code",
   "execution_count": 6,
   "metadata": {
    "scrolled": false
   },
   "outputs": [
    {
     "data": {
      "image/png": "[encoded data removed]",
      "text/plain": [
       "<Figure size 360x576 with 1 Axes>"
      ]
     },
     "metadata": {},
     "output_type": "display_data"
    },
    {
     "data": {
      "image/png": "[encoded data removed]",
      "text/plain": [
       "<Figure size 360x576 with 1 Axes>"
      ]
     },
     "metadata": {},
     "output_type": "display_data"
    },
    {
     "data": {
      "image/png": "[encoded data removed]",
      "text/plain": [
       "<Figure size 360x576 with 1 Axes>"
      ]
     },
     "metadata": {},
     "output_type": "display_data"
    },
    {
     "data": {
      "image/png": "[encoded data removed]",
      "text/plain": [
       "<Figure size 360x576 with 1 Axes>"
      ]
     },
     "metadata": {},
     "output_type": "display_data"
    },
    {
     "data": {
      "image/png": "[encoded data removed]",
      "text/plain": [
       "<Figure size 360x576 with 1 Axes>"
      ]
     },
     "metadata": {},
     "output_type": "display_data"
    },
    {
     "data": {
      "image/png": "[encoded data removed]",
      "text/plain": [
       "<Figure size 360x576 with 1 Axes>"
      ]
     },
     "metadata": {},
     "output_type": "display_data"
    },
    {
     "data": {
      "image/png": "[encoded data removed]",
      "text/plain": [
       "<Figure size 360x576 with 1 Axes>"
      ]
     },
     "metadata": {},
     "output_type": "display_data"
    }
   ],
   "source": [
    "#Recoding the 'numberofliablepeople' column to an object type\n",
    "data['numberofliablepeople'] = data['numberofliablepeople'].astype('str')\n",
    "\n",
    "#Creating a function to detect outliers in all the quantitative columns in the data using a box and whisker plot\n",
    "def outlier_detector(data):\n",
    "    for col in data.columns:\n",
    "        if data[col].dtypes == 'int' or data[col].dtypes == 'float':\n",
    "            plt.figure(figsize = (5, 8))\n",
    "            sns.boxplot(y = data[col])\n",
    "            plt.title('Boxplot of the {} column.'.format(col))\n",
    "            plt.show()\n",
    "\n",
    "outlier_detector(data)\n",
    "\n",
    "\n",
    "#A for loop to remove all outliers in the quantitative columns\n",
    "for col in data.columns:\n",
    "    if data[col].dtypes == 'int' or data[col].dtypes == 'float':\n",
    "        interquartile_range = iqr(data[col])\n",
    "        third_quartile = np.quantile(data[col], 0.75)\n",
    "        upper_extreme = third_quartile + (1.5 * interquartile_range)\n",
    "        data.drop(data[data[col] > upper_extreme].index, inplace = True)"
   ]
  },
  {
   "cell_type": "code",
   "execution_count": 7,
   "metadata": {},
   "outputs": [
    {
     "data": {
      "image/png": "[encoded data removed]",
      "text/plain": [
       "<Figure size 432x288 with 1 Axes>"
      ]
     },
     "metadata": {},
     "output_type": "display_data"
    }
   ],
   "source": [
    "sns.boxplot(y = data['creditamout_per_month'])\n",
    "plt.show()"
   ]
  },
  {
   "cell_type": "code",
   "execution_count": 8,
   "metadata": {},
   "outputs": [
    {
     "name": "stdout",
     "output_type": "stream",
     "text": [
      "There are a total of 521 male applicants in the data\n",
      "There are a total of 252 female applicants in the data\n",
      "\n",
      "Proportions:\n",
      "male      0.673997\n",
      "female    0.326003\n",
      "Name: gender, dtype: float64\n",
      "\n",
      "Number of worthy male applicants: 391\n",
      "Number of unworthy male applicants: 130\n",
      "\n",
      "Number of worthy female applicants: 170\n",
      "Number of unworthy female applicants: 82\n"
     ]
    },
    {
     "data": {
      "image/png": "[encoded data removed]",
      "text/plain": [
       "<Figure size 864x576 with 1 Axes>"
      ]
     },
     "metadata": {},
     "output_type": "display_data"
    },
    {
     "name": "stdout",
     "output_type": "stream",
     "text": [
      "\n"
     ]
    },
    {
     "data": {
      "image/png": "[encoded data removed]",
      "text/plain": [
       "<Figure size 864x576 with 1 Axes>"
      ]
     },
     "metadata": {},
     "output_type": "display_data"
    }
   ],
   "source": [
    "#Investigating the gender of applicants\n",
    "\n",
    "#Finding the number of male and female applicants\n",
    "male = data[data['gender'] == 'male']\n",
    "female = data[data['gender'] == 'female']\n",
    "\n",
    "print('There are a total of {} male applicants in the data'.format(len(male)))\n",
    "print('There are a total of {} female applicants in the data'.format(len(female)))\n",
    "print('')\n",
    "\n",
    "#Proportions of male and female applicants\n",
    "proportions = data['gender'].value_counts(normalize = True)\n",
    "print('Proportions:')\n",
    "print(proportions)\n",
    "print('')\n",
    "\n",
    "#Credit worthiness among the gender\n",
    "male_worthy = male[male['creditworthy'] == 'Worthy']\n",
    "male_unworthy = male[male['creditworthy'] == 'Not Worthy']\n",
    "\n",
    "female_worthy = female[female['creditworthy'] == 'Worthy']\n",
    "female_unworthy = female[female['creditworthy'] == 'Not Worthy']\n",
    "\n",
    "print('Number of worthy male applicants: {}'.format(len(male_worthy)))\n",
    "print('Number of unworthy male applicants: {}'.format(len(male_unworthy)))\n",
    "print('')\n",
    "print('Number of worthy female applicants: {}'.format(len(female_worthy)))\n",
    "print('Number of unworthy female applicants: {}'.format(len(female_unworthy)))\n",
    "\n",
    "\n",
    "#Visualizing the number of male and female applicants\n",
    "plt.figure(figsize = (12, 8))\n",
    "sns.countplot(x= data['gender'])\n",
    "plt.title('Figure 3: Counts of Male and Female Applicants')\n",
    "plt.show()\n",
    "print('')\n",
    "\n",
    "#Visualizing the number of male and female applicants found to be credit worthy or not\n",
    "plt.figure(figsize = (12, 8))\n",
    "sns.countplot(x = 'gender', hue = 'creditworthy', data = data)\n",
    "plt.title('Figure 3: Credit worthiness among gender')\n",
    "plt.show()"
   ]
  },
  {
   "cell_type": "markdown",
   "metadata": {},
   "source": [
    "<h5 style = 'font-family:verdana'>Gender of Applicants</h5>\n",
    "<p style = 'font-family:verdana'>The data was gathered on 988 loan applicants of which 683 are male making about 70% of the total number. The number of female applicants is 305 making up 30% of the data. The credit worthiness of applicants according to their gender shows that more male applicants were found to be credit worthy as compared to the females. This could be due the fact the there are more males in the dataset to begin with. But will that still be case when given a larger sample size where the number of males and females applicants are similar? This question could be answered using a hypothesis test.</p>"
   ]
  },
  {
   "cell_type": "code",
   "execution_count": null,
   "metadata": {},
   "outputs": [],
   "source": []
  },
  {
   "cell_type": "code",
   "execution_count": 9,
   "metadata": {
    "scrolled": false
   },
   "outputs": [
    {
     "name": "stdout",
     "output_type": "stream",
     "text": [
      "Number of worthy applicants: 561\n",
      "Number of unworthy applicants: 212\n",
      "\n"
     ]
    },
    {
     "data": {
      "image/png": "[encoded data removed]",
      "text/plain": [
       "<Figure size 864x576 with 1 Axes>"
      ]
     },
     "metadata": {},
     "output_type": "display_data"
    },
    {
     "name": "stdout",
     "output_type": "stream",
     "text": [
      "\n"
     ]
    },
    {
     "data": {
      "image/png": "[encoded data removed]",
      "text/plain": [
       "<Figure size 864x576 with 1 Axes>"
      ]
     },
     "metadata": {},
     "output_type": "display_data"
    },
    {
     "name": "stdout",
     "output_type": "stream",
     "text": [
      "\n",
      "purpose       business  car (new)  car (used)  domestic appliances  education  \\\n",
      "creditworthy                                                                    \n",
      "Not Worthy          17         68           2                    3         18   \n",
      "Worthy              51        104          59                    8         21   \n",
      "\n",
      "purpose       furniture/equipment  others  radio/television  repairs  \\\n",
      "creditworthy                                                           \n",
      "Not Worthy                     47       1                48        7   \n",
      "Worthy                        112       4               184       10   \n",
      "\n",
      "purpose       retraining  \n",
      "creditworthy              \n",
      "Not Worthy             1  \n",
      "Worthy                 8  \n"
     ]
    },
    {
     "data": {
      "image/png": "[encoded data removed]",
      "text/plain": [
       "<Figure size 864x576 with 1 Axes>"
      ]
     },
     "metadata": {},
     "output_type": "display_data"
    },
    {
     "name": "stdout",
     "output_type": "stream",
     "text": [
      "\n"
     ]
    },
    {
     "data": {
      "image/png": "[encoded data removed]",
      "text/plain": [
       "<Figure size 864x576 with 1 Axes>"
      ]
     },
     "metadata": {},
     "output_type": "display_data"
    },
    {
     "data": {
      "text/plain": [
       "radio/television       232\n",
       "car (new)              172\n",
       "furniture/equipment    159\n",
       "business                68\n",
       "car (used)              61\n",
       "education               39\n",
       "repairs                 17\n",
       "domestic appliances     11\n",
       "retraining               9\n",
       "others                   5\n",
       "Name: purpose, dtype: int64"
      ]
     },
     "execution_count": 9,
     "metadata": {},
     "output_type": "execute_result"
    }
   ],
   "source": [
    "#Looking at the credit worthiness column\n",
    "\n",
    "#Number of credit worthy applicants\n",
    "worthy = data[data['creditworthy'] == 'Worthy']\n",
    "unworthy = data[data['creditworthy'] == 'Not Worthy']\n",
    "\n",
    "print('Number of worthy applicants: {}'.format(len(worthy)))\n",
    "print('Number of unworthy applicants: {}'.format(len(unworthy)))\n",
    "print('')\n",
    "\n",
    "#Visualizing credit worthiness\n",
    "plt.figure(figsize = (12, 8))\n",
    "sns.countplot(x = 'creditworthy', data = data)\n",
    "plt.title('Figure 4: Credit Worthiness')\n",
    "plt.show()\n",
    "print('')\n",
    "\n",
    "plt.figure(figsize = (12, 8))\n",
    "sns.countplot(x = 'creditworthy', hue = 'foreignworker', data = data)\n",
    "plt.title('Figure 5: Credit Worthiness/Foreignworker')\n",
    "plt.show()\n",
    "print('')\n",
    "\n",
    "#Contigency Table to find the purposes for which credit was given often\n",
    "purpose_crosstab = pd.crosstab(data['creditworthy'], data['purpose'])\n",
    "print(purpose_crosstab)\n",
    "\n",
    "#Creditworthy/Purpose\n",
    "plt.figure(figsize = (12, 8))\n",
    "sns.countplot(x = 'purpose', hue = 'creditworthy', data = data, order = data['purpose'].value_counts().index)\n",
    "plt.title('Figure 6: Credit Worthiness/Purpose')\n",
    "plt.show()\n",
    "print('')\n",
    "\n",
    "\n",
    "#Credit worthy/Savings\n",
    "plt.figure(figsize = (12, 8))\n",
    "sns.countplot(x = 'savings', hue = 'creditworthy', data = data, order = data['savings'].value_counts().index)\n",
    "plt.title('Figure 7: Credit Worthiness/Savings')\n",
    "plt.show()\n",
    "\n",
    "data['purpose'].value_counts()"
   ]
  },
  {
   "cell_type": "markdown",
   "metadata": {},
   "source": [
    "<h5 style = 'font-family:verdana'>Credit Worthiness of Applicants</h5>\n",
    "<p style = 'font-family:verdana'>The 'creditworthy' column in the dataframe gives information on which applicant is credit worthy or not worthy, depending on the combination of the other features. This is the column that a machine learning model will try to predict. From the data, it is observed that 691 of the applicants were found to be credit worthy while 297 were not worthy.</p>\n",
    "    \n",
    "<p style = 'font-family:verdana'>From the dataset, it is observed that a larger number of foreign workers were found to be more credit worthy as compared to non-foreign workers. Again, examining the purposes of the loans revealed some interesting insights from the data. One would have thought that loans or credits for education and business will be approved more, but the information in the dataset shows otherwise. It is seen that, loans for the purpose of 'television/radio' were leading in approvals, followed by loans for new cars, furniture/equipment and so on as shown in Figure 6.</p>\n",
    "    \n",
    "<p style = 'font-family:verdana'>Examining, the savings column against the creditworthy column shows that applicants with savings less than 100 euros and had their loans approved have a higher representation in the dataset among other savings amount approvals. Applicants again with savings less than 100 euros have a higher representation when it comes to disapprovals as well as shown in figure 7 above.</p>\n",
    "    \n",
    "<p style = 'font-family:verdana'>But then again, all these findings may be only peculiar to this sample and may not reflect the same findings should the sample size be increased. To find out if these findings are actually true, hypothesis testing techniques can be employed to quantify these uncertainties and conclude on what could be if more data could be collected.</p>\n",
    "\n",
    "<p style = 'font-family:verdana'>From this 'mini' Exploratory Data Analysis conducted, very insightful information has been uncovered and paves the way for further analysis and model building.</p>"
   ]
  },
  {
   "cell_type": "code",
   "execution_count": null,
   "metadata": {},
   "outputs": [],
   "source": []
  },
  {
   "cell_type": "markdown",
   "metadata": {},
   "source": [
    "<h4 style = 'font-family:verdana'>Feature Selection</h4>\n",
    "<p style = 'font-family:verdana'>In data science and machine learning, feature importance recognizes which features also referred to as columns or inputs in the dataset have the greatest effect on the outcomes of a machine learning model. Machine learning algorithms focus on different features in a dataset, depending on their properties. For example, features with strong linear trends have great impacts in linear algorithms like regression, while the nonlinear-based methods will make use of the more complex relationships in the data. Various techniques are applied by data scientists to investigate which features are meaningful to improving the accuracy and applicability of the models that they build.</p>\n",
    "<p style = 'font-family:verdana'>It is important to know which features in the dataset impact the outcome of the model because it helps data scientists and business professionals to focus on the features that matter most, saving time and resources. For example, if an organisation pays for data to use in machine learning and AI projects from a third party company, but feature importance analysis indicates that none of the features are useful, then it saves the company money and time.</p>\n",
    "\n",
    "\n",
    "<h4 style = 'font-family:verdana'>Most Important Determinants of Credit Risk</h4>\n",
    "<p style = 'font-family:verdana'>Feature selection is one of the most important concepts in machine learning which highly impacts the performance of the machine learning model.Here, the available data will be analysed to extract the most important features, as irrelevant or partially relevant features will have a negative impact on the performance of the model. The model will be negatively impacted because, it will learn based on irrelevant features. Feature selection will be done on the data because:</p>\n",
    "<ol>\n",
    "    <li><p style = 'font-family:verdana'>It will help to reduce overfitting</p></li>\n",
    "    <li><p style = 'font-family:verdana'>It will increase the accuracy of the model</p></li>\n",
    "    <li><p style = 'font-family:verdana'>It will reduce training time</p></li>\n",
    "</ol>\n",
    "<p style = 'font-family:verdana'>With the credit data available, and before building a machine learning model to predict the credit worthiness of new applicants, the data scientist can use various techiniques to select which features have the most impact on the predicted values of the model. Features can selected from the data by investigating the various associations between each individual feature and the target feature, which in this case is the 'creditworthy' column.Examining the associations between variables helps the data scientist to know more about a feature given information about another. For example, in the credit data given, does knowing the gender of an applicant give us information on whether he/she was found to be credit worthy or not? Another example, does the age of an applicant determine his/her chances of being found to be credit worthy or not? These questions can be answered using various statistical methods based on the type of data being dealt with. Answers to questions like the ones previously asked will provide insight on which features are important to the model and those that are not.</p>\n",
    "\n",
    "<h5 style = 'font-family:verdana'>Associations Between Features</h5>\n",
    "<p style = 'font-family:verdana'>The statistical tests that will be used here will include:</p>\n",
    "<ol>\n",
    "    <li><p style = 'font-family:verdana'>Two-Sample t-test for testing the association between a binary categorical (variable that groups items into 2 distinct categories) variable and a quantitative variable. For example, the association between the age (quantitative variable) column and the creditworthy (binary categorical variable) column </p></li>.\n",
    "    <li><p style = 'font-family:verdana'>Chi-Square Test for testing the association between a binary categorical variable and a categorical variable or an association between a categorical variable with 3 or more categories and a categorical variable. For example, the association between the purpose (categorical variable with 3 or categories) column with and the creditworthy column (binary categorical variable).</p></li>\n",
    "</ol>\n",
    "<p style = 'font-family:verdana'>There are other statistical tests like, one sample t-test, binomial test and ANOVA with Tukey's Range Test that can be used to examine associations between variables. These other tests do not apply to the credit data because the variable present in the data are quantitative (variables that be quantified with a number), non-binary categorical (categorical variable with more than 2 categories) data and these are being compared with a binary categorical variable (creditworthy column).</p>\n",
    "<p style = 'font-family:verdana'>For testing the association between a binary categorical variable and a quantitative variable, the quantitave variable can be grouped into the respective categories of the categorical variable and the mean and median differences found for the groups. Highly associated associated variables tend to have large mean and median differences. It is usually difficult to know what to call a 'large' or 'small' mean or median difference, but side-by-side boxplots can be helpful in visualizing the mean and median differences and also give the chance to visually estimate the variation in the data. This can help to determine if mean and median differences are 'large' or 'small'.However, this study will only be limited to using statistical tests to establish an association between the variables.</p>\n"
   ]
  },
  {
   "cell_type": "markdown",
   "metadata": {},
   "source": [
    "<h5 style = 'font-family:verdana'>Two Sample T-Test</h5>\n",
    "<p style = 'font-family:verdana'>A two sample t-test is used to investigate an association between a quantitative variable and a binary categorical variable. For example, suppose the ages (quantitative) of the applicants is to be tested with and credit worthiness: 'Worthy' and 'Not Worthy' (binary categorical) to see if there is an association. To answer this question, a sample selection of the ages of worthy applicants and not worthy applicants could be made and then the average age is calculated for each group. To establish an association between the variables, a null hypothesis and an alternative hypothesis is always established as follows:</p>\n",
    "    <ol>\n",
    "        <li><p style = 'font-family:verdana'>Null Hypothesis: The difference between the population means equals the hypothesized difference.</li></p>\n",
    "        <li><p style = 'font-family:verdana'>Alternate Hypothesis: The difference between the population means does not equal the hypothesized difference.</li></p>\n",
    "    </ol>\n",
    "<p style = 'font-family:verdana'>Population: A population can simply be referred to a whole. All members of a group. In this case, the population will refer to all loan applicants in the real world with similar features.</p>\n",
    "<p style = 'font-family:verdana'>Sample: A sample refers to the fraction of the population in question. The sample in this case is the 988 applicants in the credit data provided.</p> \n",
    "<p style = 'font-family:verdana'>With the hypothesis established, the two-sample t-test can be used to find whether there exists a significance difference between the populations. To know whether the difference between the population means is statistically significant, the p-value returned from the two-sample t-test is compared to a preset significance threshold, usually set at the value 0.05. A significance threshold of 0.05 indicates that there is a 5% chance of concluding that a difference exists when there is no actual difference. A p-value less than or equal to the significance threshold leads to the rejection of the null hypothesis and the conclusion can be made that the difference in the population means is statistically significant. Whereas a p-value greater than the significance threshold leads to the failure to reject the null hypothesis. Here there is not enough evidence to conclude that the difference between the population means is statistically significant.</p> \n",
    "\n",
    "<p style = 'font-family:verdana'>Coming back to the credit data, should there be a significant difference in these two groups,then an association between the ages of the applicants and credit worthiness is established and it will go on to prove that applicant ages is an important feature to determine credit worthiness. In the case where there is no significant difference, then there is no association and the ages of applicants do not determine their credit worthiness.</p>\n",
    "<p style = 'font-family:verdana'>From the credit data provided, the features that are quantitative and can be compared to the creditworthy column using the two sample t-test include: duration', 'creditamount', 'installmentrate', 'residencesince', 'age', 'numberofexsistingcredits', 'numberofliablepeople', 'creditamout_per_month'.</p>"
   ]
  },
  {
   "cell_type": "code",
   "execution_count": 10,
   "metadata": {},
   "outputs": [
    {
     "name": "stdout",
     "output_type": "stream",
     "text": [
      "\n",
      "Examination of the duration column to see if it is a determinant of credit risk\n",
      "==========================================================================================\n",
      "\n",
      "The mean difference between the sample of worthy and not worthy applicants is: 2.69 \n",
      "The median difference between the sample of worthy and not worthy applicants is: 3.00 \n",
      "duration is a determinant of credit risk\n",
      "('P-val: ', 7.051818087114955e-05)\n",
      "\n",
      "Examination of the creditamount column to see if it is a determinant of credit risk\n",
      "==========================================================================================\n",
      "\n",
      "The mean difference between the sample of worthy and not worthy applicants is: 81.52 \n",
      "The median difference between the sample of worthy and not worthy applicants is: 42.00 \n",
      "creditamount is not a determinant of credit risk\n",
      "('P-val: ', 0.47261153187064864)\n",
      "\n",
      "Examination of the installmentrate column to see if it is a determinant of credit risk\n",
      "==========================================================================================\n",
      "\n",
      "The mean difference between the sample of worthy and not worthy applicants is: 0.20 \n",
      "The median difference between the sample of worthy and not worthy applicants is: 1.00 \n",
      "installmentrate is a determinant of credit risk\n",
      "('P-val: ', 0.01948858841272676)\n",
      "\n",
      "Examination of the residencesince column to see if it is a determinant of credit risk\n",
      "==========================================================================================\n",
      "\n",
      "The mean difference between the sample of worthy and not worthy applicants is: 0.07 \n",
      "The median difference between the sample of worthy and not worthy applicants is: 0.00 \n",
      "residencesince is not a determinant of credit risk\n",
      "('P-val: ', 0.44621897932285304)\n",
      "\n",
      "Examination of the age column to see if it is a determinant of credit risk\n",
      "==========================================================================================\n",
      "\n",
      "The mean difference between the sample of worthy and not worthy applicants is: 2.34 \n",
      "The median difference between the sample of worthy and not worthy applicants is: 3.00 \n",
      "age is a determinant of credit risk\n",
      "('P-val: ', 0.0030921154636886204)\n",
      "\n",
      "Examination of the numberofexsistingcredits column to see if it is a determinant of credit risk\n",
      "==========================================================================================\n",
      "\n",
      "The mean difference between the sample of worthy and not worthy applicants is: 0.05 \n",
      "The median difference between the sample of worthy and not worthy applicants is: 0.00 \n",
      "numberofexsistingcredits is not a determinant of credit risk\n",
      "('P-val: ', 0.2176127733586355)\n",
      "\n",
      "Examination of the creditamout_per_month column to see if it is a determinant of credit risk\n",
      "==========================================================================================\n",
      "\n",
      "The mean difference between the sample of worthy and not worthy applicants is: 25.24 \n",
      "The median difference between the sample of worthy and not worthy applicants is: 22.31 \n",
      "creditamout_per_month is a determinant of credit risk\n",
      "('P-val: ', 1.1924019096275602e-06)\n",
      "\n",
      "The quantitative determinants of credit risk include: \n",
      " ['duration', 'installmentrate', 'age', 'creditamout_per_month']\n"
     ]
    }
   ],
   "source": [
    "quantitative_var = []\n",
    "for i in data.columns:\n",
    "    if data[i].dtype == 'int' or data[i].dtype == 'float':\n",
    "        quantitative_var.append(i)\n",
    "#print(quantitative_var)\n",
    "\n",
    "\n",
    "quantitative_determinants_of_credit_risk = []\n",
    "\n",
    "#A function to find the association between the quantitative variables and the creditworthy variable\n",
    "def association_finder(var, data):\n",
    "    \"\"\"A function to determine the associations between the quantitative variables \n",
    "        and the binary categorical variable 'creditworthy'\"\"\"\n",
    "    \n",
    "    #Creating groups of worthy and unworthy applicants based on a particular feature\n",
    "    worthy = data[data['creditworthy'] == 'Worthy'][var]\n",
    "    unworthy = data[data['creditworthy'] == 'Not Worthy'][var]\n",
    "    \n",
    "    print('')\n",
    "    print('Examination of the ' + var + ' column to see if it is a determinant of credit risk')\n",
    "    print('==' * 45)\n",
    "    print('')\n",
    "    #Finding the means and medians of the groups\n",
    "    mean_worthy = np.mean(worthy)\n",
    "    median_worthy = np.median(worthy)\n",
    "    mean_unworthy = np.mean(unworthy)\n",
    "    median_unworthy = np.median(unworthy)\n",
    "    \n",
    "    #Calculating the mean and median differences\n",
    "    mean_diff = abs(mean_worthy - mean_unworthy)\n",
    "    median_diff = abs(median_worthy - median_unworthy)\n",
    "    print('The mean difference between the sample of worthy and not worthy applicants is: {:.2f} '.format(mean_diff))\n",
    "    print('The median difference between the sample of worthy and not worthy applicants is: {:.2f} '.format(median_diff))\n",
    "    \n",
    "    \n",
    "    \n",
    "    #Using the two-sample t-test to prove an association\n",
    "    tstat, pval = ttest_ind(worthy, unworthy)\n",
    "    if pval <= 0.05:\n",
    "        quantitative_determinants_of_credit_risk.append(var)\n",
    "        print(var + ' is a determinant of credit risk')\n",
    "    else:\n",
    "        print(var + ' is not a determinant of credit risk')\n",
    "    return('P-val: ', pval)\n",
    "    \n",
    "    \n",
    "\n",
    "\n",
    "    \n",
    "#Running the function across the list of quantitative variables    \n",
    "for var in quantitative_var:\n",
    "    association = association_finder(var, data)\n",
    "    print(association)\n",
    "    \n",
    "print('')\n",
    "    \n",
    "print('The quantitative determinants of credit risk include: \\n', quantitative_determinants_of_credit_risk)"
   ]
  },
  {
   "cell_type": "code",
   "execution_count": null,
   "metadata": {},
   "outputs": [],
   "source": []
  },
  {
   "cell_type": "markdown",
   "metadata": {},
   "source": [
    "<h5 style = 'font-family:verdana'>Chi-Square Test</h5>\n",
    "<p style = 'font-family:verdana'>The Chi-Square test is used for testing the association between a binary or non-binary categorical variable with another categorical variable. For example, suppose the association between the 'foreignworker' column and 'creditworthy' column is to be examined, the chi-squared test can be used in this case. It starts off with the establishment of with the establishment of a null and alternate hypotheses as follows:</p>\n",
    "<ol>\n",
    "    <li><p style = 'font-family:verdana'>Null Hypothesis: The variables are independent; no existing association between them.</p></li>\n",
    "    <li><p style = 'font-family:verdana'>Alternate Hypothesis: The variables are not independent; an association between the variables exist and the variables are dependent.</p></li>\n",
    "</ol>\n",
    "\n",
    "<p style = 'font-family:verdana'>To make a conclusion on whether the variables are independent, the p-value is compared to a significance threshold usually 0.05. A p-value less than or equal to the significance threshold leads to the rejection of the null hypothesis and a conclusion that there is a statistically significant association between the variables is drawn. On the other hand, a p-value greater than the significant threshold presents the inability to reject the null hypothesis. The categorical columns that will be tested with the 'creditworthy' column for association are as follows : ['foreignworker', 'status', 'credithistory', 'purpose', 'savings', 'employmentsince', 'otherdebtors', 'property', 'otherinstallments', 'housing', 'job', 'phone', and 'gender'.</p>"
   ]
  },
  {
   "cell_type": "code",
   "execution_count": 11,
   "metadata": {},
   "outputs": [
    {
     "name": "stdout",
     "output_type": "stream",
     "text": [
      "['foreignworker', 'status', 'credithistory', 'purpose', 'savings', 'employmentsince', 'otherdebtors', 'property', 'otherinstallments', 'housing', 'job', 'phone', 'numberofliablepeople', 'gender', 'creditworthy'] \n",
      "\n",
      "['foreignworker', 'status', 'credithistory', 'purpose', 'savings', 'employmentsince', 'otherdebtors', 'property', 'otherinstallments', 'housing', 'job', 'phone', 'numberofliablepeople', 'gender']\n"
     ]
    }
   ],
   "source": [
    "#Extracting the categorical variables into a list\n",
    "categorical_vars = []\n",
    "for col in data.columns:\n",
    "    if data[col].dtype == 'object':\n",
    "        categorical_vars.append(col)\n",
    "print(categorical_vars, '\\n')\n",
    "\n",
    "#removing the credit worthy column from the list since it is the target variable\n",
    "categorical_vars.pop(-1)\n",
    "\n",
    "print(categorical_vars)"
   ]
  },
  {
   "cell_type": "code",
   "execution_count": 12,
   "metadata": {
    "scrolled": false
   },
   "outputs": [
    {
     "name": "stdout",
     "output_type": "stream",
     "text": [
      "\n",
      "Examining the assocaition between foreignworker and the creditworthy column:\n",
      "====================================================================================================\n",
      "\n",
      "Contingency table for foreignworker \n",
      " creditworthy   Not Worthy  Worthy\n",
      "foreignworker                    \n",
      "Unknown                 1       7\n",
      "no                      2      28\n",
      "yes                   209     526\n",
      "Expected contingency Table: \n",
      " [[  2.19404916   5.80595084]\n",
      " [  8.22768435  21.77231565]\n",
      " [201.57826649 533.42173351]] \n",
      "\n",
      "Chi-Square Statistic:  7.767106246443688 \n",
      "\n",
      "foreignworker is a determinant of credit risk\n",
      "('P-value :', 0.020577580456034642)\n",
      "\n",
      "Examining the assocaition between status and the creditworthy column:\n",
      "====================================================================================================\n",
      "\n",
      "Contingency table for status \n",
      " creditworthy         Not Worthy  Worthy\n",
      "status                                 \n",
      "< 0 Euro                    104     109\n",
      "< 200 Euro                   65     124\n",
      ">= 200 Euro                  12      43\n",
      "no checking account          31     285\n",
      "Expected contingency Table: \n",
      " [[ 58.41655886 154.58344114]\n",
      " [ 51.83441138 137.16558862]\n",
      " [ 15.08408797  39.91591203]\n",
      " [ 86.66494179 229.33505821]] \n",
      "\n",
      "Chi-Square Statistic:  103.75245333927447 \n",
      "\n",
      "status is a determinant of credit risk\n",
      "('P-value :', 2.423858340248789e-22)\n",
      "\n",
      "Examining the assocaition between credithistory and the creditworthy column:\n",
      "====================================================================================================\n",
      "\n",
      "Contingency table for credithistory \n",
      " creditworthy                              Not Worthy  Worthy\n",
      "credithistory                                               \n",
      "No credits taken                                  16      11\n",
      "all credits at this bank paid back duly           21      16\n",
      "critical account/                                 35     188\n",
      "delay in paying off in the past                   21      41\n",
      "existing credits paid back duly till now         119     305\n",
      "Expected contingency Table: \n",
      " [[  7.40491591  19.59508409]\n",
      " [ 10.14747736  26.85252264]\n",
      " [ 61.15912031 161.84087969]\n",
      " [ 17.00388098  44.99611902]\n",
      " [116.28460543 307.71539457]] \n",
      "\n",
      "Chi-Square Statistic:  46.53774500718784 \n",
      "\n",
      "credithistory is a determinant of credit risk\n",
      "('P-value :', 1.9032974760691457e-09)\n",
      "\n",
      "Examining the assocaition between purpose and the creditworthy column:\n",
      "====================================================================================================\n",
      "\n",
      "Contingency table for purpose \n",
      " creditworthy         Not Worthy  Worthy\n",
      "purpose                                \n",
      "business                     17      51\n",
      "car (new)                    68     104\n",
      "car (used)                    2      59\n",
      "domestic appliances           3       8\n",
      "education                    18      21\n",
      "furniture/equipment          47     112\n",
      "others                        1       4\n",
      "radio/television             48     184\n",
      "repairs                       7      10\n",
      "retraining                    1       8\n",
      "Expected contingency Table: \n",
      " [[ 18.64941785  49.35058215]\n",
      " [ 47.17205692 124.82794308]\n",
      " [ 16.72962484  44.27037516]\n",
      " [  3.01681759   7.98318241]\n",
      " [ 10.69598965  28.30401035]\n",
      " [ 43.60672704 115.39327296]\n",
      " [  1.37128072   3.62871928]\n",
      " [ 63.62742561 168.37257439]\n",
      " [  4.66235446  12.33764554]\n",
      " [  2.4683053    6.5316947 ]] \n",
      "\n",
      "Chi-Square Statistic:  46.22417465870007 \n",
      "\n",
      "purpose is a determinant of credit risk\n",
      "('P-value :', 5.471658817732034e-07)\n",
      "\n",
      "Examining the assocaition between savings and the creditworthy column:\n",
      "====================================================================================================\n",
      "\n",
      "Contingency table for savings \n",
      " creditworthy                 Not Worthy  Worthy\n",
      "savings                                        \n",
      ".. >= 1000 Euro                       5      40\n",
      "... < 100 Euro                      156     316\n",
      "100 <= ... < 500 Euro                21      58\n",
      "500 <= ... < 1000 Euro                9      42\n",
      "unknown/ no savings account          21     105\n",
      "Expected contingency Table: \n",
      " [[ 12.34152652  32.65847348]\n",
      " [129.44890039 342.55109961]\n",
      " [ 21.66623545  57.33376455]\n",
      " [ 13.98706339  37.01293661]\n",
      " [ 34.55627426  91.44372574]] \n",
      "\n",
      "Chi-Square Statistic:  23.327448598262976 \n",
      "\n",
      "savings is a determinant of credit risk\n",
      "('P-value :', 0.00010891064884911856)\n",
      "\n",
      "Examining the assocaition between employmentsince and the creditworthy column:\n",
      "====================================================================================================\n",
      "\n",
      "Contingency table for employmentsince \n",
      " creditworthy        Not Worthy  Worthy\n",
      "employmentsince                       \n",
      ".. >= 7 years               39     156\n",
      "... < 1 year                55      90\n",
      "1 <= ... < 4 years          76     195\n",
      "4 <= ... < 7 years          26      98\n",
      "unemployed                  16      22\n",
      "Expected contingency Table: \n",
      " [[ 53.47994825 141.52005175]\n",
      " [ 39.76714101 105.23285899]\n",
      " [ 74.32341527 196.67658473]\n",
      " [ 34.00776197  89.99223803]\n",
      " [ 10.42173351  27.57826649]] \n",
      "\n",
      "Chi-Square Statistic:  20.206391759008547 \n",
      "\n",
      "employmentsince is a determinant of credit risk\n",
      "('P-value :', 0.00045465898862785936)\n",
      "\n",
      "Examining the assocaition between otherdebtors and the creditworthy column:\n",
      "====================================================================================================\n",
      "\n",
      "Contingency table for otherdebtors \n",
      " creditworthy  Not Worthy  Worthy\n",
      "otherdebtors                    \n",
      "co-applicant          12      20\n",
      "guarantor              7      32\n",
      "none                 193     509\n",
      "Expected contingency Table: \n",
      " [[  8.77619664  23.22380336]\n",
      " [ 10.69598965  28.30401035]\n",
      " [192.52781371 509.47218629]] \n",
      "\n",
      "Chi-Square Statistic:  3.393097259819421 \n",
      "\n",
      "otherdebtors is not a determinant of credit risk\n",
      "('P-value :', 0.1833151218154891)\n",
      "\n",
      "Examining the assocaition between property and the creditworthy column:\n",
      "====================================================================================================\n",
      "\n",
      "Contingency table for property \n",
      " creditworthy                                        Not Worthy  Worthy\n",
      "property                                                              \n",
      "building society savings agreement/ life insurance          55     134\n",
      "car or other                                                76     188\n",
      "real estate                                                 51     180\n",
      "unknown / no property                                       30      59\n",
      "Expected contingency Table: \n",
      " [[ 51.83441138 137.16558862]\n",
      " [ 72.40362225 191.59637775]\n",
      " [ 63.35316947 167.64683053]\n",
      " [ 24.4087969   64.5912031 ]] \n",
      "\n",
      "Chi-Square Statistic:  5.596249950179512 \n",
      "\n",
      "property is not a determinant of credit risk\n",
      "('P-value :', 0.132993810277338)\n",
      "\n",
      "Examining the assocaition between otherinstallments and the creditworthy column:\n",
      "====================================================================================================\n",
      "\n",
      "Contingency table for otherinstallments \n",
      " creditworthy       Not Worthy  Worthy\n",
      "otherinstallments                    \n",
      "bank                       42      66\n",
      "none                      154     473\n",
      "stores                     16      22\n",
      "Expected contingency Table: \n",
      " [[ 29.61966365  78.38033635]\n",
      " [171.95860285 455.04139715]\n",
      " [ 10.42173351  27.57826649]] \n",
      "\n",
      "Chi-Square Statistic:  13.828567673345406 \n",
      "\n",
      "otherinstallments is a determinant of credit risk\n",
      "('P-value :', 0.0009934927070410198)\n",
      "\n",
      "Examining the assocaition between housing and the creditworthy column:\n",
      "====================================================================================================\n",
      "\n",
      "Contingency table for housing \n",
      " creditworthy  Not Worthy  Worthy\n",
      "housing                         \n",
      "for free              18      39\n",
      "own                  144     433\n",
      "rent                  50      89\n",
      "Expected contingency Table: \n",
      " [[ 15.63260026  41.36739974]\n",
      " [158.2457956  418.7542044 ]\n",
      " [ 38.12160414 100.87839586]] \n",
      "\n",
      "Chi-Square Statistic:  7.360981512033025 \n",
      "\n",
      "housing is a determinant of credit risk\n",
      "('P-value :', 0.025210599545444825)\n",
      "\n",
      "Examining the assocaition between job and the creditworthy column:\n",
      "====================================================================================================\n",
      "\n",
      "Contingency table for job \n",
      " creditworthy                                        Not Worthy  Worthy\n",
      "job                                                                   \n",
      "management/ self-employed/ highly qualified employ          20      67\n",
      "skilled employee / official                                137     367\n",
      "unemployed/ unskilled - non-resident                         6       8\n",
      "unskilled - resident                                        49     119\n",
      "Expected contingency Table: \n",
      " [[ 23.86028461  63.13971539]\n",
      " [138.22509702 365.77490298]\n",
      " [  3.83958603  10.16041397]\n",
      " [ 46.07503234 121.92496766]] \n",
      "\n",
      "Chi-Square Statistic:  2.8063396527028885 \n",
      "\n",
      "job is not a determinant of credit risk\n",
      "('P-value :', 0.4224573603808264)\n",
      "\n",
      "Examining the assocaition between phone and the creditworthy column:\n",
      "====================================================================================================\n",
      "\n",
      "Contingency table for phone \n",
      " creditworthy                              Not Worthy  Worthy\n",
      "phone                                                       \n",
      "none                                             151     337\n",
      "yes, registered under the customers name          61     224\n",
      "Expected contingency Table: \n",
      " [[133.83699871 354.16300129]\n",
      " [ 78.16300129 206.83699871]] \n",
      "\n",
      "Chi-Square Statistic:  7.753209757115509 \n",
      "\n",
      "phone is a determinant of credit risk\n",
      "('P-value :', 0.005361716351015842)\n",
      "\n",
      "Examining the assocaition between numberofliablepeople and the creditworthy column:\n",
      "====================================================================================================\n",
      "\n"
     ]
    },
    {
     "name": "stdout",
     "output_type": "stream",
     "text": [
      "Contingency table for numberofliablepeople \n",
      " creditworthy          Not Worthy  Worthy\n",
      "numberofliablepeople                    \n",
      "1                            179     489\n",
      "2                             33      72\n",
      "Expected contingency Table: \n",
      " [[183.20310479 484.79689521]\n",
      " [ 28.79689521  76.20310479]] \n",
      "\n",
      "Chi-Square Statistic:  0.7592870640576904 \n",
      "\n",
      "numberofliablepeople is not a determinant of credit risk\n",
      "('P-value :', 0.3835517262388697)\n",
      "\n",
      "Examining the assocaition between gender and the creditworthy column:\n",
      "====================================================================================================\n",
      "\n",
      "Contingency table for gender \n",
      " creditworthy  Not Worthy  Worthy\n",
      "gender                          \n",
      "female                82     170\n",
      "male                 130     391\n",
      "Expected contingency Table: \n",
      " [[ 69.11254851 182.88745149]\n",
      " [142.88745149 378.11254851]] \n",
      "\n",
      "Chi-Square Statistic:  4.539054829938875 \n",
      "\n",
      "gender is a determinant of credit risk\n",
      "('P-value :', 0.033129880073688084)\n",
      "\n",
      "\n",
      "The categorical determinants of credit risk are: \n",
      " ['foreignworker', 'status', 'credithistory', 'purpose', 'savings', 'employmentsince', 'otherinstallments', 'housing', 'phone', 'gender']\n"
     ]
    }
   ],
   "source": [
    "#defining a function to perform the chi-square test \n",
    "\n",
    "#List to hold categorical determinants of credit risk\n",
    "categorical_determinants_of_credit_risk = []\n",
    "\n",
    "def chisquare_func(var, data):\n",
    "    \"\"\"A function to determine the association between categorical variables using the chi-square test\"\"\"\n",
    "    print('')\n",
    "    print('Examining the assocaition between ' + var + ' and the creditworthy column:')\n",
    "    print('==' * 50)\n",
    "    print('')\n",
    "    \n",
    "    #Creating the contingency table\n",
    "    crosstab = pd.crosstab(data[var], data['creditworthy'])\n",
    "    print('Contingency table for ' + var, '\\n', crosstab)\n",
    "    \n",
    "    #performing the chi-square test\n",
    "    chi2, pval, dof, expected = chi2_contingency(crosstab)\n",
    "    print('Expected contingency Table: \\n', expected, '\\n')\n",
    "    print('Chi-Square Statistic: ', chi2, '\\n')\n",
    "    \n",
    "    if pval <= 0.05:\n",
    "        categorical_determinants_of_credit_risk.append(var)\n",
    "        print(var + ' is a determinant of credit risk')\n",
    "    else:\n",
    "        print(var + ' is not a determinant of credit risk')   \n",
    "    return('P-value :', pval )\n",
    "\n",
    "#running the function across the list of categorical variables        \n",
    "for var in categorical_vars:\n",
    "    association = chisquare_func(var, data)\n",
    "    print(association)\n",
    "\n",
    "print('\\n')\n",
    "print('The categorical determinants of credit risk are: \\n', categorical_determinants_of_credit_risk)"
   ]
  },
  {
   "cell_type": "code",
   "execution_count": 13,
   "metadata": {},
   "outputs": [
    {
     "name": "stdout",
     "output_type": "stream",
     "text": [
      "The determinants of credit risk: \n",
      " {'foreignworker', 'creditamout_per_month', 'gender', 'duration', 'housing', 'credithistory', 'installmentrate', 'purpose', 'phone', 'savings', 'otherinstallments', 'employmentsince', 'age', 'status'} \n",
      "\n",
      "The non-determinants of credit risk: \n",
      " {'job', 'property', 'numberofliablepeople', 'otherdebtors', 'residencesince', 'numberofexsistingcredits', 'creditamount'}\n"
     ]
    }
   ],
   "source": [
    "#combining the quantitative and categorical determinants of credit risk using python sets\n",
    "quantitative_determinants_of_credit_risk = set(quantitative_determinants_of_credit_risk)\n",
    "categorical_determinants_of_credit_risk = set(categorical_determinants_of_credit_risk)\n",
    "\n",
    "determinants_of_credit_risk = quantitative_determinants_of_credit_risk | categorical_determinants_of_credit_risk\n",
    "print('The determinants of credit risk: \\n', determinants_of_credit_risk, '\\n')\n",
    "\n",
    "#converting the list of all columns in dataset to a set to find columns that are not determinants of credit risk\n",
    "all_columns = list(data.columns)\n",
    "all_columns.remove('creditworthy')\n",
    "all_columns = set(all_columns)\n",
    "\n",
    "\n",
    "#Finding the difference between the two sets\n",
    "non_determinants_of_credit_risk = all_columns.difference(determinants_of_credit_risk)\n",
    "print('The non-determinants of credit risk: \\n', non_determinants_of_credit_risk)"
   ]
  },
  {
   "cell_type": "markdown",
   "metadata": {},
   "source": [
    "<h5 style = 'font-family:verdana'>The Determinants of credit risk</h5>\n",
    "<p style = 'font-family:verdana'>The statistical analysis performed above brought to light the variables that are most important in determining credit risk. These variables will play a major role in determining if a loan application will be approved or not. For a machine learning model, these variables will be the most important features to influence the outcome of the model. The most important variables and hence the determinants of credit risk include: 'creditamout_per_month', 'duration', 'savings', 'phone', 'foreignworker', 'employmentsince', 'installmentrate', 'credithistory', 'gender', 'otherinstallments', 'status', 'age', 'purpose', and 'housing.' The non-determinants of credit risk are as follows: 'creditamount', 'otherdebtors', 'numberofliablepeople', 'property', 'job', 'numberofexsistingcredits', and 'residencesince'.</p>\n",
    "<h5 style = 'font-family:verdana'>Limitations</h5>\n",
    "<p style = 'font-family:verdana'>The results of the hypothesis tests performed above proved to be significant, meaning these results are important. Though statistical test results are important in an analysis, statistical significance does not necessarily mean that the results are practically significant in the real world. The procedure of hypothesis testing determines whether the sample results obtained are likely, assuming the null hypothesis is true for the population. If the results are unlikely to be true, then the null hypothesis is rejected and a conclusion is made that an association or an effect exists. The use of p-values to determine statistical significance in hypothesis tests seem logical and that p-values and statistical significance relate to importance. However, that is false because conditions other than large effect sizes can produce really small p-values. Hypothesis tests with tests with small effect sizes can produce very small p-values when the sample size is large and also when the variability is low in the data. This translates to the fact that, effect sizes that are trivial or unimportant in the practical sense can be highly statistically significant. While statistical significance relates to whether an effect exists, practical significance deals with the magnitude of the effect. No statistical test and the ones performed in this study for that matter, can tell whether the effect is large enough to be important in the subject. Instead, domain knowledge and experise in the subject matter field must be applied to determine whether the effect is big enough to be meaningful, in the real world. In another sense, is it large enough to care about? In the nutshell, hypothesis tests and significant thresholds do not provide the complete results that data scientists seek, there is always room left for the application of domain knowledge to get a clearer picture on the subject matter. Hypothesis tests however point data scientists in the right direction in looking for answers.</p>\n",
    "<p style = 'font-family:verdana'>With regards to the credit data being worked on, some of the features have been identified as the most important determinants of credit risk after a series of hypothesis tests were performed. Insights have been gained into which features will be play the most important roles, but as to how important these features are in real world, cannot be directly known from the results of the tests. </p>"
   ]
  },
  {
   "cell_type": "code",
   "execution_count": null,
   "metadata": {},
   "outputs": [],
   "source": []
  },
  {
   "cell_type": "markdown",
   "metadata": {},
   "source": [
    "<h4 style = 'font-family:verdana'>Building the Machine Learning Model to Predict Credit Worthiness of New Applicants</h4>\n",
    "<p style = 'font-family:verdana'>The target variable that will be predicted by the machine learning model in this case is a binary categorical variable. The technique that will be used here is a supervised machine learning technique called classification. </p>\n",
    "\n",
    "<p style = 'font-family:verdana'>The model will be built using gradient boosting classifier from the scikit-learn library. The model will be originally trained on all the features in the data, and its accuracy recorded. Then another model is trained using the same gradient boosting classifier but this time only the most important features recognized after performing the hypothesis tests. The accuracies of the two models will be compared to see if training the model only on the most important features increases its accuracy.</p>\n",
    "<p style = 'font-family:verdana'>The model has a an accuracy of 91% when trained all the features of the dataset and an accuracy of 90% percent when trained on only the most important features identified after performing the statistical tests above. A barplot of the feature importance of the model is plotted and the importance of the features are represented in descending order. These features selected by the model as most important is not very different from the ones selected using the statistical tests. In general, this is a model that will guarantee 90% accuracy, meaning that it would make a correct prediction 90 times out of a hundred.</p>"
   ]
  },
  {
   "cell_type": "code",
   "execution_count": 14,
   "metadata": {},
   "outputs": [
    {
     "data": {
      "text/plain": [
       "Index(['foreignworker', 'status', 'credithistory', 'purpose', 'savings',\n",
       "       'employmentsince', 'otherinstallments', 'housing', 'phone', 'duration',\n",
       "       'installmentrate', 'age', 'gender', 'creditworthy',\n",
       "       'creditamout_per_month'],\n",
       "      dtype='object')"
      ]
     },
     "execution_count": 14,
     "metadata": {},
     "output_type": "execute_result"
    }
   ],
   "source": [
    "#Making a dataset with only the important features\n",
    "non_determinants_of_credit_risk = list(non_determinants_of_credit_risk)\n",
    "data_important = data.drop(non_determinants_of_credit_risk, axis = 1)\n",
    "data_important.columns"
   ]
  },
  {
   "cell_type": "code",
   "execution_count": 15,
   "metadata": {},
   "outputs": [
    {
     "name": "stdout",
     "output_type": "stream",
     "text": [
      "<class 'pandas.core.frame.DataFrame'>\n",
      "Int64Index: 773 entries, 2 to 985\n",
      "Data columns (total 15 columns):\n",
      " #   Column                 Non-Null Count  Dtype  \n",
      "---  ------                 --------------  -----  \n",
      " 0   foreignworker          773 non-null    object \n",
      " 1   status                 773 non-null    object \n",
      " 2   credithistory          773 non-null    object \n",
      " 3   purpose                773 non-null    object \n",
      " 4   savings                773 non-null    object \n",
      " 5   employmentsince        773 non-null    object \n",
      " 6   otherinstallments      773 non-null    object \n",
      " 7   housing                773 non-null    object \n",
      " 8   phone                  773 non-null    object \n",
      " 9   duration               773 non-null    int64  \n",
      " 10  installmentrate        773 non-null    int64  \n",
      " 11  age                    773 non-null    int64  \n",
      " 12  gender                 773 non-null    object \n",
      " 13  creditworthy           773 non-null    object \n",
      " 14  creditamout_per_month  773 non-null    float64\n",
      "dtypes: float64(1), int64(3), object(11)\n",
      "memory usage: 112.8+ KB\n"
     ]
    }
   ],
   "source": [
    "data_important.info()"
   ]
  },
  {
   "cell_type": "code",
   "execution_count": 16,
   "metadata": {},
   "outputs": [],
   "source": [
    "#Scaling the quantitative columns of the original dataset\n",
    "quantitative_cols = []\n",
    "for col in data.columns:\n",
    "    if data[col].dtype == 'int' or data[col].dtype == 'float':\n",
    "        quantitative_cols.append(col)\n",
    "\n",
    "scaler = MinMaxScaler()\n",
    "data[quantitative_cols] = scaler.fit_transform(data[quantitative_cols])\n",
    "data.head(4)\n",
    "\n",
    "\n",
    "#recoding categorical variables in the original dataset\n",
    "categorical_columns = []\n",
    "for column in data.columns:\n",
    "    if data[column].dtype == 'object':\n",
    "        categorical_columns.append(column)\n",
    "#print(categorical_columns)\n",
    "\n",
    "for item in categorical_columns:\n",
    "    data[item] = pd.Categorical(data[item])\n",
    "    \n",
    "for item in categorical_columns:\n",
    "    data[item] = data[item].cat.codes"
   ]
  },
  {
   "cell_type": "code",
   "execution_count": 17,
   "metadata": {},
   "outputs": [],
   "source": [
    "#Scaling the quantitative columns of the dataset with only the important features\n",
    "quantitative_cols_imp = []\n",
    "for col in data_important.columns:\n",
    "    if data_important[col].dtype == 'int' or data_important[col].dtype == 'float':\n",
    "        quantitative_cols_imp.append(col)\n",
    "\n",
    "scaler = MinMaxScaler()\n",
    "data_important[quantitative_cols_imp] = scaler.fit_transform(data[quantitative_cols_imp])\n",
    "data.head(4)\n",
    "\n",
    "\n",
    "#recoding categorical variables in the dataset with only the important features\n",
    "categorical_columns_imp = []\n",
    "for column in data_important.columns:\n",
    "    if data_important[column].dtype == 'object':\n",
    "        categorical_columns_imp.append(column)\n",
    "#print(categorical_columns)\n",
    "\n",
    "for item in categorical_columns_imp:\n",
    "    data_important[item] = pd.Categorical(data_important[item])\n",
    "    \n",
    "for item in categorical_columns_imp:\n",
    "    data_important[item] = data_important[item].cat.codes"
   ]
  },
  {
   "cell_type": "code",
   "execution_count": 18,
   "metadata": {},
   "outputs": [
    {
     "data": {
      "text/html": [
       "<div>\n",
       "<style scoped>\n",
       "    .dataframe tbody tr th:only-of-type {\n",
       "        vertical-align: middle;\n",
       "    }\n",
       "\n",
       "    .dataframe tbody tr th {\n",
       "        vertical-align: top;\n",
       "    }\n",
       "\n",
       "    .dataframe thead th {\n",
       "        text-align: right;\n",
       "    }\n",
       "</style>\n",
       "<table border=\"1\" class=\"dataframe\">\n",
       "  <thead>\n",
       "    <tr style=\"text-align: right;\">\n",
       "      <th></th>\n",
       "      <th>foreignworker</th>\n",
       "      <th>status</th>\n",
       "      <th>credithistory</th>\n",
       "      <th>purpose</th>\n",
       "      <th>savings</th>\n",
       "      <th>employmentsince</th>\n",
       "      <th>otherinstallments</th>\n",
       "      <th>housing</th>\n",
       "      <th>phone</th>\n",
       "      <th>duration</th>\n",
       "      <th>installmentrate</th>\n",
       "      <th>age</th>\n",
       "      <th>gender</th>\n",
       "      <th>creditworthy</th>\n",
       "      <th>creditamout_per_month</th>\n",
       "    </tr>\n",
       "  </thead>\n",
       "  <tbody>\n",
       "    <tr>\n",
       "      <th>2</th>\n",
       "      <td>2</td>\n",
       "      <td>3</td>\n",
       "      <td>2</td>\n",
       "      <td>4</td>\n",
       "      <td>1</td>\n",
       "      <td>3</td>\n",
       "      <td>1</td>\n",
       "      <td>1</td>\n",
       "      <td>0</td>\n",
       "      <td>0.210526</td>\n",
       "      <td>0.333333</td>\n",
       "      <td>0.697674</td>\n",
       "      <td>1</td>\n",
       "      <td>1</td>\n",
       "      <td>0.503136</td>\n",
       "    </tr>\n",
       "    <tr>\n",
       "      <th>4</th>\n",
       "      <td>2</td>\n",
       "      <td>0</td>\n",
       "      <td>3</td>\n",
       "      <td>1</td>\n",
       "      <td>1</td>\n",
       "      <td>2</td>\n",
       "      <td>1</td>\n",
       "      <td>0</td>\n",
       "      <td>0</td>\n",
       "      <td>0.526316</td>\n",
       "      <td>0.666667</td>\n",
       "      <td>0.790698</td>\n",
       "      <td>1</td>\n",
       "      <td>0</td>\n",
       "      <td>0.597509</td>\n",
       "    </tr>\n",
       "    <tr>\n",
       "      <th>6</th>\n",
       "      <td>2</td>\n",
       "      <td>3</td>\n",
       "      <td>4</td>\n",
       "      <td>5</td>\n",
       "      <td>3</td>\n",
       "      <td>0</td>\n",
       "      <td>1</td>\n",
       "      <td>1</td>\n",
       "      <td>0</td>\n",
       "      <td>0.526316</td>\n",
       "      <td>0.666667</td>\n",
       "      <td>0.790698</td>\n",
       "      <td>1</td>\n",
       "      <td>1</td>\n",
       "      <td>0.314252</td>\n",
       "    </tr>\n",
       "    <tr>\n",
       "      <th>7</th>\n",
       "      <td>2</td>\n",
       "      <td>1</td>\n",
       "      <td>4</td>\n",
       "      <td>2</td>\n",
       "      <td>1</td>\n",
       "      <td>2</td>\n",
       "      <td>1</td>\n",
       "      <td>2</td>\n",
       "      <td>1</td>\n",
       "      <td>0.842105</td>\n",
       "      <td>0.333333</td>\n",
       "      <td>0.372093</td>\n",
       "      <td>1</td>\n",
       "      <td>1</td>\n",
       "      <td>0.564381</td>\n",
       "    </tr>\n",
       "  </tbody>\n",
       "</table>\n",
       "</div>"
      ],
      "text/plain": [
       "   foreignworker  status  credithistory  purpose  savings  employmentsince  \\\n",
       "2              2       3              2        4        1                3   \n",
       "4              2       0              3        1        1                2   \n",
       "6              2       3              4        5        3                0   \n",
       "7              2       1              4        2        1                2   \n",
       "\n",
       "   otherinstallments  housing  phone  duration  installmentrate       age  \\\n",
       "2                  1        1      0  0.210526         0.333333  0.697674   \n",
       "4                  1        0      0  0.526316         0.666667  0.790698   \n",
       "6                  1        1      0  0.526316         0.666667  0.790698   \n",
       "7                  1        2      1  0.842105         0.333333  0.372093   \n",
       "\n",
       "   gender  creditworthy  creditamout_per_month  \n",
       "2       1             1               0.503136  \n",
       "4       1             0               0.597509  \n",
       "6       1             1               0.314252  \n",
       "7       1             1               0.564381  "
      ]
     },
     "execution_count": 18,
     "metadata": {},
     "output_type": "execute_result"
    }
   ],
   "source": [
    "data_important.head(4)"
   ]
  },
  {
   "cell_type": "code",
   "execution_count": 19,
   "metadata": {},
   "outputs": [
    {
     "data": {
      "text/html": [
       "<div>\n",
       "<style scoped>\n",
       "    .dataframe tbody tr th:only-of-type {\n",
       "        vertical-align: middle;\n",
       "    }\n",
       "\n",
       "    .dataframe tbody tr th {\n",
       "        vertical-align: top;\n",
       "    }\n",
       "\n",
       "    .dataframe thead th {\n",
       "        text-align: right;\n",
       "    }\n",
       "</style>\n",
       "<table border=\"1\" class=\"dataframe\">\n",
       "  <thead>\n",
       "    <tr style=\"text-align: right;\">\n",
       "      <th></th>\n",
       "      <th>foreignworker</th>\n",
       "      <th>status</th>\n",
       "      <th>credithistory</th>\n",
       "      <th>purpose</th>\n",
       "      <th>savings</th>\n",
       "      <th>employmentsince</th>\n",
       "      <th>otherdebtors</th>\n",
       "      <th>property</th>\n",
       "      <th>otherinstallments</th>\n",
       "      <th>housing</th>\n",
       "      <th>...</th>\n",
       "      <th>duration</th>\n",
       "      <th>creditamount</th>\n",
       "      <th>installmentrate</th>\n",
       "      <th>residencesince</th>\n",
       "      <th>age</th>\n",
       "      <th>numberofexsistingcredits</th>\n",
       "      <th>numberofliablepeople</th>\n",
       "      <th>gender</th>\n",
       "      <th>creditworthy</th>\n",
       "      <th>creditamout_per_month</th>\n",
       "    </tr>\n",
       "  </thead>\n",
       "  <tbody>\n",
       "    <tr>\n",
       "      <th>2</th>\n",
       "      <td>2</td>\n",
       "      <td>3</td>\n",
       "      <td>2</td>\n",
       "      <td>4</td>\n",
       "      <td>1</td>\n",
       "      <td>3</td>\n",
       "      <td>2</td>\n",
       "      <td>2</td>\n",
       "      <td>1</td>\n",
       "      <td>1</td>\n",
       "      <td>...</td>\n",
       "      <td>0.210526</td>\n",
       "      <td>0.274825</td>\n",
       "      <td>0.333333</td>\n",
       "      <td>0.666667</td>\n",
       "      <td>0.697674</td>\n",
       "      <td>0.0</td>\n",
       "      <td>1</td>\n",
       "      <td>1</td>\n",
       "      <td>1</td>\n",
       "      <td>0.503136</td>\n",
       "    </tr>\n",
       "    <tr>\n",
       "      <th>4</th>\n",
       "      <td>2</td>\n",
       "      <td>0</td>\n",
       "      <td>3</td>\n",
       "      <td>1</td>\n",
       "      <td>1</td>\n",
       "      <td>2</td>\n",
       "      <td>2</td>\n",
       "      <td>3</td>\n",
       "      <td>1</td>\n",
       "      <td>0</td>\n",
       "      <td>...</td>\n",
       "      <td>0.526316</td>\n",
       "      <td>0.687807</td>\n",
       "      <td>0.666667</td>\n",
       "      <td>1.000000</td>\n",
       "      <td>0.790698</td>\n",
       "      <td>0.5</td>\n",
       "      <td>1</td>\n",
       "      <td>1</td>\n",
       "      <td>0</td>\n",
       "      <td>0.597509</td>\n",
       "    </tr>\n",
       "    <tr>\n",
       "      <th>6</th>\n",
       "      <td>2</td>\n",
       "      <td>3</td>\n",
       "      <td>4</td>\n",
       "      <td>5</td>\n",
       "      <td>3</td>\n",
       "      <td>0</td>\n",
       "      <td>2</td>\n",
       "      <td>0</td>\n",
       "      <td>1</td>\n",
       "      <td>1</td>\n",
       "      <td>...</td>\n",
       "      <td>0.526316</td>\n",
       "      <td>0.384844</td>\n",
       "      <td>0.666667</td>\n",
       "      <td>1.000000</td>\n",
       "      <td>0.790698</td>\n",
       "      <td>0.0</td>\n",
       "      <td>0</td>\n",
       "      <td>1</td>\n",
       "      <td>1</td>\n",
       "      <td>0.314252</td>\n",
       "    </tr>\n",
       "    <tr>\n",
       "      <th>7</th>\n",
       "      <td>2</td>\n",
       "      <td>1</td>\n",
       "      <td>4</td>\n",
       "      <td>2</td>\n",
       "      <td>1</td>\n",
       "      <td>2</td>\n",
       "      <td>2</td>\n",
       "      <td>1</td>\n",
       "      <td>1</td>\n",
       "      <td>2</td>\n",
       "      <td>...</td>\n",
       "      <td>0.842105</td>\n",
       "      <td>0.997171</td>\n",
       "      <td>0.333333</td>\n",
       "      <td>0.333333</td>\n",
       "      <td>0.372093</td>\n",
       "      <td>0.0</td>\n",
       "      <td>0</td>\n",
       "      <td>1</td>\n",
       "      <td>1</td>\n",
       "      <td>0.564381</td>\n",
       "    </tr>\n",
       "    <tr>\n",
       "      <th>8</th>\n",
       "      <td>2</td>\n",
       "      <td>3</td>\n",
       "      <td>4</td>\n",
       "      <td>7</td>\n",
       "      <td>0</td>\n",
       "      <td>3</td>\n",
       "      <td>2</td>\n",
       "      <td>2</td>\n",
       "      <td>1</td>\n",
       "      <td>1</td>\n",
       "      <td>...</td>\n",
       "      <td>0.210526</td>\n",
       "      <td>0.418193</td>\n",
       "      <td>0.333333</td>\n",
       "      <td>1.000000</td>\n",
       "      <td>0.976744</td>\n",
       "      <td>0.0</td>\n",
       "      <td>0</td>\n",
       "      <td>1</td>\n",
       "      <td>1</td>\n",
       "      <td>0.771222</td>\n",
       "    </tr>\n",
       "  </tbody>\n",
       "</table>\n",
       "<p>5 rows × 22 columns</p>\n",
       "</div>"
      ],
      "text/plain": [
       "   foreignworker  status  credithistory  purpose  savings  employmentsince  \\\n",
       "2              2       3              2        4        1                3   \n",
       "4              2       0              3        1        1                2   \n",
       "6              2       3              4        5        3                0   \n",
       "7              2       1              4        2        1                2   \n",
       "8              2       3              4        7        0                3   \n",
       "\n",
       "   otherdebtors  property  otherinstallments  housing  ...  duration  \\\n",
       "2             2         2                  1        1  ...  0.210526   \n",
       "4             2         3                  1        0  ...  0.526316   \n",
       "6             2         0                  1        1  ...  0.526316   \n",
       "7             2         1                  1        2  ...  0.842105   \n",
       "8             2         2                  1        1  ...  0.210526   \n",
       "\n",
       "   creditamount  installmentrate  residencesince       age  \\\n",
       "2      0.274825         0.333333        0.666667  0.697674   \n",
       "4      0.687807         0.666667        1.000000  0.790698   \n",
       "6      0.384844         0.666667        1.000000  0.790698   \n",
       "7      0.997171         0.333333        0.333333  0.372093   \n",
       "8      0.418193         0.333333        1.000000  0.976744   \n",
       "\n",
       "   numberofexsistingcredits  numberofliablepeople  gender  creditworthy  \\\n",
       "2                       0.0                     1       1             1   \n",
       "4                       0.5                     1       1             0   \n",
       "6                       0.0                     0       1             1   \n",
       "7                       0.0                     0       1             1   \n",
       "8                       0.0                     0       1             1   \n",
       "\n",
       "   creditamout_per_month  \n",
       "2               0.503136  \n",
       "4               0.597509  \n",
       "6               0.314252  \n",
       "7               0.564381  \n",
       "8               0.771222  \n",
       "\n",
       "[5 rows x 22 columns]"
      ]
     },
     "execution_count": 19,
     "metadata": {},
     "output_type": "execute_result"
    }
   ],
   "source": [
    "data.head()"
   ]
  },
  {
   "cell_type": "markdown",
   "metadata": {},
   "source": [
    "##### Machine Learning model Using decision tree classifier"
   ]
  },
  {
   "cell_type": "code",
   "execution_count": 20,
   "metadata": {
    "scrolled": true
   },
   "outputs": [
    {
     "name": "stdout",
     "output_type": "stream",
     "text": [
      "Tuned Decision Tree Parameters: {'criterion': 'gini', 'max_depth': 3, 'max_features': None, 'min_samples_leaf': 6}\n",
      "Best score is 0.7559559559559558\n"
     ]
    }
   ],
   "source": [
    "#Building and training a machine learning model using the original data with all the features\n",
    "#Creating the target variable\n",
    "y = data['creditworthy'].values\n",
    "\n",
    "#Creating the training features\n",
    "X = data.drop('creditworthy', axis = 1).values\n",
    "\n",
    "# Create training and test sets\n",
    "X_train, X_test, y_train, y_test = train_test_split(X, y, test_size = 0.3, random_state = 42)\n",
    "\n",
    "# Setup the parameters and distributions to sample from: param_dist\n",
    "param_dist = {\"max_depth\": [3, None],\n",
    "              \"max_features\": ['auto', 'sqrt', 'log2', None],\n",
    "              \"min_samples_leaf\": [1, 2, 3, 4, 5, 6, 7, 8, 9],\n",
    "              \"criterion\": [\"gini\", \"entropy\"]}\n",
    "\n",
    "#Instantiate a Decision Tree classifier: tree\n",
    "tree = DecisionTreeClassifier()\n",
    "\n",
    "# Instantiate the GridSearchCV object: tree_cv\n",
    "tree_cv = GridSearchCV(tree, param_dist, cv = 15)\n",
    "\n",
    "# Fit it to the data\n",
    "tree_cv.fit(X_train, y_train)\n",
    "\n",
    "# Print the tuned parameters and score\n",
    "print(\"Tuned Decision Tree Parameters: {}\".format(tree_cv.best_params_))\n",
    "print(\"Best score is {}\".format(tree_cv.best_score_))\n",
    "\n",
    "\n",
    "\n",
    "\n",
    "\n"
   ]
  },
  {
   "cell_type": "markdown",
   "metadata": {},
   "source": [
    "##### Machine Learning model Using decision tree classifier"
   ]
  },
  {
   "cell_type": "code",
   "execution_count": 21,
   "metadata": {},
   "outputs": [
    {
     "name": "stdout",
     "output_type": "stream",
     "text": [
      "Tuned Decision Tree Parameters: {'criterion': 'gini', 'max_depth': 3, 'max_features': 'sqrt', 'min_samples_leaf': 9}\n",
      "Best score is 0.7505005005005004\n"
     ]
    }
   ],
   "source": [
    "#Building and training a machine learning model using the data with only the important features\n",
    "#Creating the target variable\n",
    "y = data_important['creditworthy'].values\n",
    "\n",
    "#Creating the training features\n",
    "X = data_important.drop('creditworthy', axis = 1).values\n",
    "\n",
    "# Create training and test sets\n",
    "X_train, X_test, y_train, y_test = train_test_split(X, y, test_size = 0.3, random_state = 42)\n",
    "\n",
    "# Setup the parameters and distributions to sample from: param_dist\n",
    "param_dist = {\"max_depth\": [3, None],\n",
    "              \"max_features\": ['auto', 'sqrt', 'log2', None],\n",
    "              \"min_samples_leaf\": [1, 2, 3, 4, 5, 6, 7, 8, 9],\n",
    "              \"criterion\": [\"gini\", \"entropy\"]}\n",
    "\n",
    "#Instantiate a Decision Tree classifier: tree\n",
    "tree = DecisionTreeClassifier()\n",
    "\n",
    "# Instantiate the GridSearchCV object: tree_cv\n",
    "tree_cv = GridSearchCV(tree, param_dist, cv = 15)\n",
    "\n",
    "# Fit it to the data\n",
    "tree_cv.fit(X_train, y_train)\n",
    "\n",
    "# Print the tuned parameters and score\n",
    "print(\"Tuned Decision Tree Parameters: {}\".format(tree_cv.best_params_))\n",
    "print(\"Best score is {}\".format(tree_cv.best_score_))"
   ]
  },
  {
   "cell_type": "code",
   "execution_count": null,
   "metadata": {},
   "outputs": [],
   "source": []
  },
  {
   "cell_type": "markdown",
   "metadata": {},
   "source": [
    "##### Machine Learning Model Using Random Forests"
   ]
  },
  {
   "cell_type": "code",
   "execution_count": 22,
   "metadata": {},
   "outputs": [
    {
     "name": "stdout",
     "output_type": "stream",
     "text": [
      "Accuracy on training set: 1.000\n",
      "Accuracy on test set: 0.776\n"
     ]
    }
   ],
   "source": [
    "#Building and training a machine learning model using the original data with all the features\n",
    "#Creating the target variable\n",
    "y = data['creditworthy'].values\n",
    "\n",
    "#Creating the training features\n",
    "X = data.drop('creditworthy', axis = 1).values\n",
    "\n",
    "# Create training and test sets\n",
    "X_train, X_test, y_train, y_test = train_test_split(X, y, stratify = y, test_size = 0.3, random_state = 42)\n",
    "forest = RandomForestClassifier(n_estimators = 100, random_state = 2)\n",
    "forest.fit(X_train, y_train)\n",
    "print('Accuracy on training set: {:.3f}'.format(forest.score(X_train, y_train)))\n",
    "print('Accuracy on test set: {:.3f}'.format(forest.score(X_test, y_test)))"
   ]
  },
  {
   "cell_type": "code",
   "execution_count": 23,
   "metadata": {},
   "outputs": [
    {
     "name": "stdout",
     "output_type": "stream",
     "text": [
      "Accuracy on training set: 1.000\n",
      "Accuracy on test set: 0.759\n"
     ]
    }
   ],
   "source": [
    "#Building and training a machine learning model using the data with only the important features\n",
    "#Creating the target variable\n",
    "y = data_important['creditworthy'].values\n",
    "\n",
    "#Creating the training features\n",
    "X = data_important.drop('creditworthy', axis = 1).values\n",
    "# Create training and test sets\n",
    "X_train, X_test, y_train, y_test = train_test_split(X, y, stratify = y, test_size = 0.3, random_state = 42)\n",
    "forest = RandomForestClassifier(n_estimators = 100, random_state = 2)\n",
    "forest.fit(X_train, y_train)\n",
    "print('Accuracy on training set: {:.3f}'.format(forest.score(X_train, y_train)))\n",
    "print('Accuracy on test set: {:.3f}'.format(forest.score(X_test, y_test)))"
   ]
  },
  {
   "cell_type": "markdown",
   "metadata": {},
   "source": [
    "##### Machine Learning using GradientBoostingClassifier"
   ]
  },
  {
   "cell_type": "code",
   "execution_count": 24,
   "metadata": {},
   "outputs": [
    {
     "name": "stdout",
     "output_type": "stream",
     "text": [
      "Accuracy on training set: 0.789\n",
      "Accuracy on test set: 0.780\n"
     ]
    }
   ],
   "source": [
    "#Building and training a machine learning model using the original data with all the features\n",
    "#Creating the target variable\n",
    "y = data['creditworthy'].values\n",
    "\n",
    "#Creating the training features\n",
    "X = data.drop('creditworthy', axis = 1).values\n",
    "\n",
    "# Create training and test sets\n",
    "X_train, X_test, y_train, y_test = train_test_split(X, y, test_size = 0.3, random_state = 42)\n",
    "gbrt = GradientBoostingClassifier(random_state = 0, max_depth  = 1)\n",
    "gbrt.fit(X_train, y_train)\n",
    "print('Accuracy on training set: {:.3f}'.format(gbrt.score(X_train, y_train)))\n",
    "print('Accuracy on test set: {:.3f}'.format(gbrt.score(X_test, y_test)))"
   ]
  },
  {
   "cell_type": "code",
   "execution_count": 25,
   "metadata": {},
   "outputs": [
    {
     "name": "stdout",
     "output_type": "stream",
     "text": [
      "Accuracy on training set: 0.786\n",
      "Accuracy on test set: 0.776\n"
     ]
    }
   ],
   "source": [
    "y = data_important['creditworthy'].values\n",
    "\n",
    "#Creating the training features\n",
    "X = data_important.drop('creditworthy', axis = 1).values\n",
    "# Create training and test sets\n",
    "X_train, X_test, y_train, y_test = train_test_split(X, y, test_size = 0.3, random_state = 42)\n",
    "gbrt = GradientBoostingClassifier(random_state = 0, max_depth  = 1)\n",
    "gbrt.fit(X_train, y_train)\n",
    "print('Accuracy on training set: {:.3f}'.format(gbrt.score(X_train, y_train)))\n",
    "print('Accuracy on test set: {:.3f}'.format(gbrt.score(X_test, y_test)))"
   ]
  },
  {
   "cell_type": "markdown",
   "metadata": {},
   "source": [
    "##### GradientBoosting with hyperparameter tuning"
   ]
  },
  {
   "cell_type": "code",
   "execution_count": 26,
   "metadata": {},
   "outputs": [],
   "source": [
    "def modelfit(alg, dtrain, predictors, performCV=True, printFeatureImportance=True, cv_folds=5):\n",
    "    #Fit the algorithm on the data\n",
    "    alg.fit(dtrain[predictors], dtrain['creditworthy'])\n",
    "        \n",
    "    #Predict training set:\n",
    "    dtrain_predictions = alg.predict(dtrain[predictors])\n",
    "    dtrain_predprob = alg.predict_proba(dtrain[predictors])[:,1]\n",
    "    \n",
    "    #Perform cross-validation:\n",
    "    if performCV:\n",
    "        cv_score = cross_val_score(alg, dtrain[predictors], dtrain['creditworthy'], cv=cv_folds, scoring='roc_auc')\n",
    "    \n",
    "    #Print model report:\n",
    "    print(\"\\nModel Report\")\n",
    "    print(\"Accuracy : %.4g\" % metrics.accuracy_score(dtrain['creditworthy'].values, dtrain_predictions))\n",
    "    print(\"AUC Score (Train): %f\" % metrics.roc_auc_score(dtrain['creditworthy'], dtrain_predprob))\n",
    "    \n",
    "    if performCV:\n",
    "        print(\"CV Score : Mean - %.7g | Std - %.7g | Min - %.7g | Max - %.7g\" % (np.mean(cv_score),np.std(cv_score),np.min(cv_score),np.max(cv_score)))\n",
    "        \n",
    "    #Print Feature Importance:\n",
    "    if printFeatureImportance:\n",
    "        feat_imp = pd.Series(alg.feature_importances_, predictors).sort_values(ascending=False)\n",
    "        plt.figure(figsize = (12, 8))\n",
    "        feat_imp.plot(kind='bar', title='Feature Importances')\n",
    "        plt.ylabel('Feature Importance Score')"
   ]
  },
  {
   "cell_type": "code",
   "execution_count": 27,
   "metadata": {},
   "outputs": [
    {
     "name": "stdout",
     "output_type": "stream",
     "text": [
      "\n",
      "Model Report\n",
      "Accuracy : 0.9146\n",
      "AUC Score (Train): 0.969630\n",
      "CV Score : Mean - 0.7774855 | Std - 0.02827853 | Min - 0.7221514 | Max - 0.8019385\n"
     ]
    },
    {
     "data": {
      "image/png": "[encoded data removed]",
      "text/plain": [
       "<Figure size 864x576 with 1 Axes>"
      ]
     },
     "metadata": {},
     "output_type": "display_data"
    }
   ],
   "source": [
    "target = 'creditworthy'\n",
    "train = data\n",
    "#Choose all predictors except target & IDcols\n",
    "predictors = [x for x in data.columns if x not in [target]]\n",
    "gbm0 = GradientBoostingClassifier(random_state=10)\n",
    "modelfit(gbm0, train, predictors)"
   ]
  },
  {
   "cell_type": "code",
   "execution_count": 28,
   "metadata": {},
   "outputs": [
    {
     "name": "stdout",
     "output_type": "stream",
     "text": [
      "\n",
      "Model Report\n",
      "Accuracy : 0.903\n",
      "AUC Score (Train): 0.953478\n",
      "CV Score : Mean - 0.775932 | Std - 0.03326395 | Min - 0.7106718 | Max - 0.800885\n"
     ]
    },
    {
     "data": {
      "image/png": "[encoded data removed]",
      "text/plain": [
       "<Figure size 864x576 with 1 Axes>"
      ]
     },
     "metadata": {},
     "output_type": "display_data"
    }
   ],
   "source": [
    "target = 'creditworthy'\n",
    "train = data_important\n",
    "#Choose all predictors except target & IDcols\n",
    "predictors = [x for x in data_important.columns if x not in [target]]\n",
    "gbm0 = GradientBoostingClassifier(random_state=10)\n",
    "modelfit(gbm0, train, predictors)"
   ]
  },
  {
   "cell_type": "code",
   "execution_count": null,
   "metadata": {},
   "outputs": [],
   "source": []
  }
 ],
 "metadata": {
  "kernelspec": {
   "display_name": "Python 3 (ipykernel)",
   "language": "python",
   "name": "python3"
  },
  "language_info": {
   "codemirror_mode": {
    "name": "ipython",
    "version": 3
   },
   "file_extension": ".py",
   "mimetype": "text/x-python",
   "name": "python",
   "nbconvert_exporter": "python",
   "pygments_lexer": "ipython3",
   "version": "3.9.10"
  }
 },
 "nbformat": 4,
 "nbformat_minor": 4
}
